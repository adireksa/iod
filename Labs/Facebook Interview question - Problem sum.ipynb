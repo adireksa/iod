{
 "cells": [
  {
   "cell_type": "markdown",
   "id": "504fea21",
   "metadata": {},
   "source": [
    "##*Within the constraints of this system, how would you write a function to determine whether a given number k is a prime number? **\n",
    "\n",
    "\n",
    "simple system\n",
    "1) add, but not subtract, multiply, divide, modulo etc\n",
    "2) only processes natural numbers\n",
    "3) can handle relational operators (<,>,=,etc)\n",
    "Nautral  numbers = all integers >=1\n",
    "Prime number = only divided by 1 and itself\n",
    "\n",
    "\n",
    "Write a program to see if a number k is a prime number or not\n",
    "\n",
    "\n",
    "\n",
    "Steps:\n",
    "List everything below it from 2 onwards\n",
    "Start with lowest prime number and use repeated addition to represent multiplication\n",
    "\n",
    "-Cycle through all numbers less than k\n",
    "-Check whether that number 'n' adds in to k (does n=k?)\n",
    "-Repeat until n*x = k or > k \n",
    "-After running through all natural numbers n < k, if none of them fit the criteria of n*x = k, then k IS a prime number"
   ]
  },
  {
   "cell_type": "code",
   "execution_count": 3,
   "id": "9af30cc5",
   "metadata": {},
   "outputs": [
    {
     "data": {
      "text/plain": [
       "False"
      ]
     },
     "execution_count": 3,
     "metadata": {},
     "output_type": "execute_result"
    }
   ],
   "source": [
    "2 != 2"
   ]
  },
  {
   "cell_type": "code",
   "execution_count": 63,
   "id": "5780b265",
   "metadata": {},
   "outputs": [],
   "source": [
    "#program to check primality\n",
    "def getprime(k):\n",
    "    #set a flag variable\n",
    "    factor = False\n",
    "    #prime numbers > 1\n",
    "    if k > 1:\n",
    "        #check for factors\n",
    "        for i in range(2, k):\n",
    "            if k % i ==0:\n",
    "                # if factor is found, set flag to True\n",
    "                factor = False\n",
    "                # break out of loop as you have found out that it is a prime number, all other numbers are false\n",
    "                break\n",
    "    #check for True flag\n",
    "    if factor:\n",
    "        print(k, \"is not a prime number\")\n",
    "    else:\n",
    "        print(k, \"is a prime number\")\n",
    "        \n",
    "        "
   ]
  },
  {
   "cell_type": "code",
   "execution_count": 60,
   "id": "01e96b7e",
   "metadata": {},
   "outputs": [
    {
     "name": "stdout",
     "output_type": "stream",
     "text": [
      "4 is a prime number\n"
     ]
    }
   ],
   "source": [
    "k = 4\n",
    "getprime(k)"
   ]
  },
  {
   "cell_type": "code",
   "execution_count": null,
   "id": "d8bddcf9",
   "metadata": {},
   "outputs": [],
   "source": []
  }
 ],
 "metadata": {
  "kernelspec": {
   "display_name": "Python 3",
   "language": "python",
   "name": "python3"
  },
  "language_info": {
   "codemirror_mode": {
    "name": "ipython",
    "version": 3
   },
   "file_extension": ".py",
   "mimetype": "text/x-python",
   "name": "python",
   "nbconvert_exporter": "python",
   "pygments_lexer": "ipython3",
   "version": "3.7.10"
  }
 },
 "nbformat": 4,
 "nbformat_minor": 5
}
