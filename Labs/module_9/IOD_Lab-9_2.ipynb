{
 "cells": [
  {
   "cell_type": "markdown",
   "metadata": {
    "colab_type": "text",
    "id": "zYPZ2MKXMk4U"
   },
   "source": [
    "<div>\n",
    "<img src=https://www.institutedata.com/wp-content/uploads/2019/10/iod_h_tp_primary_c.svg width=\"300\">\n",
    "</div>"
   ]
  },
  {
   "cell_type": "markdown",
   "metadata": {
    "colab_type": "text",
    "id": "8j6-MfKHMk4Y"
   },
   "source": [
    "# Lab 9.2: Web Scraping\n",
    "INSTRUCTIONS:\n",
    "- Read the guides and hints then create the necessary analysis and code to find an answer and conclusion for the task below."
   ]
  },
  {
   "cell_type": "markdown",
   "metadata": {
    "colab_type": "text",
    "id": "HImUFlzCMk4c"
   },
   "source": [
    "# Web Scraping in Python (using BeautifulSoup)\n",
    "\n",
    "## Scraping Rules\n",
    "1. **Always** check a website’s **Terms and Conditions** before you scrape it. Be careful to read the statements about legal use of data. Usually, the retrieved data should not be used for commercial purposes.\n",
    "2. **Do not** request data from the website too aggressively with a program (also known as spamming), as this may break the website. Make sure the program behaves in a reasonable manner (i.e. acts like a human). One request for one webpage per second is good practice.\n",
    "3. The layout of a website may change from time to time, so make sure to revisit the site and rewrite the code as needed"
   ]
  },
  {
   "cell_type": "markdown",
   "metadata": {
    "colab_type": "text",
    "id": "l6UcvsYfMk4f"
   },
   "source": [
    "## Find a Page\n",
    "Visit the [Fandom](http://fandom.wikia.com) website, find a wikia of your interest and pick a page to work with."
   ]
  },
  {
   "cell_type": "markdown",
   "metadata": {
    "colab_type": "text",
    "id": "-NXv6z-6Mk4i"
   },
   "source": [
    "Open a web page with the browser and inspect it.\n",
    "\n",
    "Hover the cursor on the text and follow the shaded box surrounding the main text.\n",
    "\n",
    "From the result, check the main text inside a few levels of HTML tags."
   ]
  },
  {
   "cell_type": "code",
   "execution_count": 1,
   "metadata": {
    "colab": {},
    "colab_type": "code",
    "id": "nYkrA5JuMk4m"
   },
   "outputs": [],
   "source": [
    "## Import Libraries\n",
    "## Import Libraries\n",
    "import regex as re\n",
    "\n",
    "from urllib.parse import unquote\n",
    "import urllib3\n",
    "from bs4 import BeautifulSoup\n",
    "\n",
    "import warnings\n",
    "warnings.filterwarnings('ignore')"
   ]
  },
  {
   "cell_type": "markdown",
   "metadata": {
    "colab_type": "text",
    "id": "hb3_djX0Mk4s"
   },
   "source": [
    "### Define the content to retrieve (webpage's URL)"
   ]
  },
  {
   "cell_type": "code",
   "execution_count": 22,
   "metadata": {},
   "outputs": [],
   "source": [
    "# specify the url\n",
    "quote_page = 'https://carverskateboards.com/completes/surfskates/carver/'"
   ]
  },
  {
   "cell_type": "markdown",
   "metadata": {
    "colab_type": "text",
    "id": "pKYTTGA1Mk4t"
   },
   "source": [
    "### Retrieve the page\n",
    "- Require Internet connection"
   ]
  },
  {
   "cell_type": "code",
   "execution_count": 23,
   "metadata": {},
   "outputs": [
    {
     "name": "stdout",
     "output_type": "stream",
     "text": [
      "Type of the variable 'page': bytes\n",
      "Page Retrieved. Request Status: 200, Page Size: 69121\n"
     ]
    }
   ],
   "source": [
    "# query the website and return the html to the variable ‘page’\n",
    "http = urllib3.PoolManager()\n",
    "r = http.request('GET', quote_page)\n",
    "if r.status == 200:\n",
    "    page = r.data\n",
    "    print('Type of the variable \\'page\\':', page.__class__.__name__)\n",
    "    print('Page Retrieved. Request Status: %d, Page Size: %d' % (r.status, len(page)))\n",
    "else:\n",
    "    print('Some problem occurred. Request Status: %s' % r.status)"
   ]
  },
  {
   "cell_type": "markdown",
   "metadata": {
    "colab_type": "text",
    "id": "w7HYoOoDMk4v"
   },
   "source": [
    "### Convert the stream of bytes into a BeautifulSoup representation"
   ]
  },
  {
   "cell_type": "code",
   "execution_count": 24,
   "metadata": {},
   "outputs": [
    {
     "name": "stdout",
     "output_type": "stream",
     "text": [
      "Type of the variable 'soup': BeautifulSoup\n"
     ]
    }
   ],
   "source": [
    "# parse the html using beautiful soup and store in variable `soup`\n",
    "soup = BeautifulSoup(page, 'html.parser')\n",
    "print('Type of the variable \\'soup\\':', soup.__class__.__name__)"
   ]
  },
  {
   "cell_type": "code",
   "execution_count": 25,
   "metadata": {},
   "outputs": [
    {
     "data": {
      "text/plain": [
       "(\"Type of the variable 'soup':\", 'BeautifulSoup')"
      ]
     },
     "execution_count": 25,
     "metadata": {},
     "output_type": "execute_result"
    }
   ],
   "source": [
    "soup = BeautifulSoup(page, 'html.parser')\n",
    "('Type of the variable \\'soup\\':', soup.__class__.__name__)"
   ]
  },
  {
   "cell_type": "markdown",
   "metadata": {
    "colab_type": "text",
    "id": "Zb0yHBblMk4w"
   },
   "source": [
    "### Check the content\n",
    "- The HTML source\n",
    "- Includes all tags and scripts\n",
    "- Can be long!"
   ]
  },
  {
   "cell_type": "code",
   "execution_count": 26,
   "metadata": {},
   "outputs": [
    {
     "name": "stdout",
     "output_type": "stream",
     "text": [
      "<!DOCTYPE html>\n",
      "<html class=\"no-js\" lang=\"en\">\n",
      " <head>\n",
      "  <title>\n",
      "   SurfSkates - Carver - Page 1 - Carver Skateboards\n",
      "  </title>\n",
      "  <link crossorigin=\"\" href=\"https://cdn11.bigcommerce.com/s-icfw6t6sn3\" rel=\"dns-prefetch preconnect\"/>\n",
      "  <link href=\"https://carverskateboards.com/completes/surfskates/carver/\" rel=\"canonical\">\n",
      "   <link href=\"https://carverskateboards.com/completes/surfskates/carver/?sort=featured&amp;page=2\" rel=\"next\"/>\n",
      "   <link href=\"https://cdn11.bigcommerce.com/r-14fcc16e567bb4d26af6fb2a68748e62eaa32b95/img/bc_favicon.ico\" rel=\"shortcut icon\"/>\n",
      "   <meta content=\"width=device-width, initial-scale=1, maximum-scale=1\" name=\"viewport\"/>\n",
      "   <!-- Google Tag Manager -->\n",
      "   <script>\n",
      "    (function(w,d,s,l,i){w[l]=w[l]||[];w[l].push({'gtm.start':\n",
      "        new Date().getTime(),event:'gtm.js'});var f=d.getElementsByTagName(s)[0],\n",
      "        j=d.createElement(s),dl=l!='dataLayer'?'&l='+l:'';j.async=true;j.src=\n",
      "        'https://www.googletagmanager.com/gtm.js?id='+i+dl;f.parentNode.inse\n"
     ]
    }
   ],
   "source": [
    "print(soup.prettify()[:1000])"
   ]
  },
  {
   "cell_type": "markdown",
   "metadata": {
    "colab_type": "text",
    "id": "Hy2z1218Mk4x"
   },
   "source": [
    "### Check the HTML's Title"
   ]
  },
  {
   "cell_type": "code",
   "execution_count": 27,
   "metadata": {},
   "outputs": [
    {
     "name": "stdout",
     "output_type": "stream",
     "text": [
      "Title tag :<title>SurfSkates - Carver - Page 1 - Carver Skateboards</title>:\n",
      "Title text:SurfSkates - Carver - Page 1 - Carver Skateboards:\n"
     ]
    }
   ],
   "source": [
    "print('Title tag :%s:' % soup.title)\n",
    "print('Title text:%s:' % soup.title.string)"
   ]
  },
  {
   "cell_type": "code",
   "execution_count": 37,
   "metadata": {},
   "outputs": [
    {
     "name": "stdout",
     "output_type": "stream",
     "text": [
      "Type of the variable 'article': ResultSet\n"
     ]
    }
   ],
   "source": [
    "#looking for skateboard names\n",
    "\n",
    "tag = 'div'\n",
    "class_name = {\"div\":  \"card-body\"}\n",
    "article = soup.find_all(tag, class_name)\n",
    "print('Type of the variable \\'article\\':', article.__class__.__name__)"
   ]
  },
  {
   "cell_type": "code",
   "execution_count": 33,
   "metadata": {},
   "outputs": [
    {
     "name": "stdout",
     "output_type": "stream",
     "text": [
      "[]\n"
     ]
    }
   ],
   "source": [
    "print(article)"
   ]
  },
  {
   "cell_type": "code",
   "execution_count": 40,
   "metadata": {},
   "outputs": [],
   "source": [
    "job_elements = soup.find_all(\"h3\", class_=\"card-title\")"
   ]
  },
  {
   "cell_type": "code",
   "execution_count": 45,
   "metadata": {},
   "outputs": [
    {
     "name": "stdout",
     "output_type": "stream",
     "text": [
      "<h3 class=\"card-title h5\">\n",
      "<a data-event-type=\"product-click\" href=\"https://carverskateboards.com/carver-33-75-greenroom-surfskate-complete-c7/\">Carver 33.75\" Greenroom  Surfskate  Complete C7</a>\n",
      "</h3>\n",
      "\n",
      "<h3 class=\"card-title h5\">\n",
      "<a data-event-type=\"product-click\" href=\"https://carverskateboards.com/carver-33-75-greenroom-surfskate-complete-cx/\">Carver 33.75\" Greenroom  Surfskate  Complete CX</a>\n",
      "</h3>\n",
      "\n",
      "<h3 class=\"card-title h5\">\n",
      "<a data-event-type=\"product-click\" href=\"https://carverskateboards.com/carver-swallow-29-surfskate-complete-cx/\">Carver Swallow 29\" Surfskate  Complete CX</a>\n",
      "</h3>\n",
      "\n",
      "<h3 class=\"card-title h5\">\n",
      "<a data-event-type=\"product-click\" href=\"https://carverskateboards.com/carver-swallow-29-surfskate-complete-c7/\">Carver Swallow 29\" Surfskate  Complete C7</a>\n",
      "</h3>\n",
      "\n",
      "<h3 class=\"card-title h5\">\n",
      "<a data-event-type=\"product-click\" href=\"https://carverskateboards.com/carver-32-glass-off-surfskate-2020-complete-c7/\">Carver 32\" Glass Off Surfskate 2020 Complete C7</a>\n",
      "</h3>\n",
      "\n",
      "<h3 class=\"card-title h5\">\n",
      "<a data-event-type=\"product-click\" href=\"https://carverskateboards.com/carver-32-glass-off-surfskate-2020-complete-cx/\">Carver 32\" Glass Off Surfskate 2020 Complete CX</a>\n",
      "</h3>\n",
      "\n",
      "<h3 class=\"card-title h5\">\n",
      "<a data-event-type=\"product-click\" href=\"https://carverskateboards.com/carver-31-blue-haze-surfskate-2020-complete-cx/\">Carver 31\" Blue Haze Surfskate 2020 Complete CX</a>\n",
      "</h3>\n",
      "\n",
      "<h3 class=\"card-title h5\">\n",
      "<a data-event-type=\"product-click\" href=\"https://carverskateboards.com/carver-31-blue-haze-surfskate-2020-complete-c7/\">Carver 31\" Blue Haze Surfskate 2020 Complete C7</a>\n",
      "</h3>\n",
      "\n",
      "<h3 class=\"card-title h5\">\n",
      "<a data-event-type=\"product-click\" href=\"https://carverskateboards.com/carver-30-emerald-peak-surfskate-2020-complete-cx/\">Carver 30\" Emerald Peak Surfskate 2020 Complete CX</a>\n",
      "</h3>\n",
      "\n",
      "<h3 class=\"card-title h5\">\n",
      "<a data-event-type=\"product-click\" href=\"https://carverskateboards.com/carver-30-emerald-peak-surfskate-2020-complete-c7/\">Carver 30\" Emerald Peak Surfskate 2020 Complete C7</a>\n",
      "</h3>\n",
      "\n",
      "<h3 class=\"card-title h5\">\n",
      "<a data-event-type=\"product-click\" href=\"https://carverskateboards.com/carver-32-super-surfer-surfskate-2020-complete-cx/\">Carver 32\" Super Surfer Surfskate 2020 Complete CX</a>\n",
      "</h3>\n",
      "\n",
      "<h3 class=\"card-title h5\">\n",
      "<a data-event-type=\"product-click\" href=\"https://carverskateboards.com/carver-32-super-surfer-surfskate-2020-complete-c7/\">Carver 32\" Super Surfer Surfskate 2020 Complete C7</a>\n",
      "</h3>\n",
      "\n"
     ]
    }
   ],
   "source": [
    "for job_element in job_elements:\n",
    "    print(job_element, end=\"\\n\"*2)\n"
   ]
  },
  {
   "cell_type": "markdown",
   "metadata": {
    "colab_type": "text",
    "id": "NV3IJlHQMk4z"
   },
   "source": [
    "### Find the main content\n",
    "- Check if it is possible to use only the relevant data"
   ]
  },
  {
   "cell_type": "code",
   "execution_count": 63,
   "metadata": {},
   "outputs": [],
   "source": [
    "job_elements = soup.find_all(\"h3\", class_=\"card-title\")"
   ]
  },
  {
   "cell_type": "code",
   "execution_count": 66,
   "metadata": {},
   "outputs": [
    {
     "name": "stdout",
     "output_type": "stream",
     "text": [
      "\n",
      "Carver 33.75\" Greenroom  Surfskate  Complete C7\n",
      "\n",
      "Carver 33.75\" Greenroom  Surfskate  Complete CX\n",
      "\n",
      "Carver Swallow 29\" Surfskate  Complete CX\n",
      "\n",
      "Carver Swallow 29\" Surfskate  Complete C7\n",
      "\n",
      "Carver 32\" Glass Off Surfskate 2020 Complete C7\n",
      "\n",
      "Carver 32\" Glass Off Surfskate 2020 Complete CX\n",
      "\n",
      "Carver 31\" Blue Haze Surfskate 2020 Complete CX\n",
      "\n",
      "Carver 31\" Blue Haze Surfskate 2020 Complete C7\n",
      "\n",
      "Carver 30\" Emerald Peak Surfskate 2020 Complete CX\n",
      "\n",
      "Carver 30\" Emerald Peak Surfskate 2020 Complete C7\n",
      "\n",
      "Carver 32\" Super Surfer Surfskate 2020 Complete CX\n",
      "\n",
      "Carver 32\" Super Surfer Surfskate 2020 Complete C7\n"
     ]
    }
   ],
   "source": [
    "for job_element in job_elements:\n",
    "    print(job_element.get_text(), end=\"\")"
   ]
  },
  {
   "cell_type": "markdown",
   "metadata": {
    "colab_type": "text",
    "id": "sEioc2exMk40"
   },
   "source": [
    "### Get some of the text\n",
    "- Plain text without HTML tags"
   ]
  },
  {
   "cell_type": "markdown",
   "metadata": {
    "colab_type": "text",
    "id": "Gdf3no5jMk41"
   },
   "source": [
    "### Find the links in the text"
   ]
  },
  {
   "cell_type": "code",
   "execution_count": 90,
   "metadata": {},
   "outputs": [],
   "source": [
    "# identify the type of tag to retrieve\n",
    "# create a list with the links from the `<a>` tag\n",
    "\n",
    "tag = 'a'\n",
    "article = soup.find_all(tag)\n",
    "\n",
    "tag_list = [t.get('href') for t in article]"
   ]
  },
  {
   "cell_type": "code",
   "execution_count": 91,
   "metadata": {},
   "outputs": [
    {
     "data": {
      "text/plain": [
       "['#MainContent',\n",
       " None,\n",
       " 'https://carverskateboards.com/',\n",
       " '/surfskates/',\n",
       " '/completes/surfskates/carver/',\n",
       " '/completes/surfskates/channel-islands/',\n",
       " '/completes/surfskates/lost/',\n",
       " '/completes/surfskates/triton/',\n",
       " '/surfskates/',\n",
       " '/trucks/',\n",
       " '/roundhouse-wheels/',\n",
       " '/apparel/',\n",
       " '/accessories/',\n",
       " '/accessories/parts',\n",
       " '/accessories/',\n",
       " '/garage/',\n",
       " '/videos/',\n",
       " '/retailers/',\n",
       " '#',\n",
       " '/login.php',\n",
       " '/cart.php',\n",
       " None,\n",
       " '/surfskates/',\n",
       " '#',\n",
       " '/completes/surfskates/carver/',\n",
       " '/completes/surfskates/channel-islands/',\n",
       " '/completes/surfskates/lost/',\n",
       " '/completes/surfskates/triton/',\n",
       " '/surfskates/',\n",
       " '/trucks/',\n",
       " '/roundhouse-wheels/',\n",
       " '/apparel/',\n",
       " '/accessories/',\n",
       " '#',\n",
       " '/accessories/parts',\n",
       " '/accessories/',\n",
       " '/garage/',\n",
       " '/videos/',\n",
       " '/retailers/',\n",
       " '/login.php',\n",
       " '/login.php?action=create_account',\n",
       " 'https://carverskateboards.com/carver-33-75-greenroom-surfskate-complete-c7/',\n",
       " 'https://carverskateboards.com/carver-33-75-greenroom-surfskate-complete-c7/',\n",
       " 'https://carverskateboards.com/carver-33-75-greenroom-surfskate-complete-cx/',\n",
       " 'https://carverskateboards.com/carver-33-75-greenroom-surfskate-complete-cx/',\n",
       " 'https://carverskateboards.com/carver-swallow-29-surfskate-complete-cx/',\n",
       " 'https://carverskateboards.com/carver-swallow-29-surfskate-complete-cx/',\n",
       " 'https://carverskateboards.com/carver-swallow-29-surfskate-complete-c7/',\n",
       " 'https://carverskateboards.com/carver-swallow-29-surfskate-complete-c7/',\n",
       " 'https://carverskateboards.com/carver-32-glass-off-surfskate-2020-complete-c7/',\n",
       " 'https://carverskateboards.com/carver-32-glass-off-surfskate-2020-complete-c7/',\n",
       " 'https://carverskateboards.com/carver-32-glass-off-surfskate-2020-complete-cx/',\n",
       " 'https://carverskateboards.com/carver-32-glass-off-surfskate-2020-complete-cx/',\n",
       " 'https://carverskateboards.com/carver-31-blue-haze-surfskate-2020-complete-cx/',\n",
       " 'https://carverskateboards.com/carver-31-blue-haze-surfskate-2020-complete-cx/',\n",
       " 'https://carverskateboards.com/carver-31-blue-haze-surfskate-2020-complete-c7/',\n",
       " 'https://carverskateboards.com/carver-31-blue-haze-surfskate-2020-complete-c7/',\n",
       " 'https://carverskateboards.com/carver-30-emerald-peak-surfskate-2020-complete-cx/',\n",
       " 'https://carverskateboards.com/carver-30-emerald-peak-surfskate-2020-complete-cx/',\n",
       " 'https://carverskateboards.com/carver-30-emerald-peak-surfskate-2020-complete-c7/',\n",
       " 'https://carverskateboards.com/carver-30-emerald-peak-surfskate-2020-complete-c7/',\n",
       " 'https://carverskateboards.com/carver-32-super-surfer-surfskate-2020-complete-cx/',\n",
       " 'https://carverskateboards.com/carver-32-super-surfer-surfskate-2020-complete-cx/',\n",
       " 'https://carverskateboards.com/carver-32-super-surfer-surfskate-2020-complete-c7/',\n",
       " 'https://carverskateboards.com/carver-32-super-surfer-surfskate-2020-complete-c7/',\n",
       " '/completes/surfskates/carver/?sort=featured&page=1',\n",
       " '/completes/surfskates/carver/?sort=featured&page=2',\n",
       " '/completes/surfskates/carver/?sort=featured&page=3',\n",
       " '/completes/surfskates/carver/?sort=featured&page=4',\n",
       " 'https://carverskateboards.com/completes/surfskates/carver/?sort=featured&page=2',\n",
       " '#',\n",
       " 'https://carverskateboards.com/accessories/',\n",
       " 'https://carverskateboards.com/garage/',\n",
       " 'https://carverskateboards.com/roundhouse-wheels/',\n",
       " 'https://carverskateboards.com/surfskates/',\n",
       " 'https://carverskateboards.com/apparel/',\n",
       " 'https://carverskateboards.com/decks/',\n",
       " 'https://carverskateboards.com/trucks/',\n",
       " '/accessories/parts/',\n",
       " '/ride-reviews/',\n",
       " '/board-selector/',\n",
       " '/about-us/',\n",
       " '/contact-us/',\n",
       " '/retailers/',\n",
       " '/shipping-returns/',\n",
       " '/terms-conditions/',\n",
       " '/contact-us/',\n",
       " '/pros/',\n",
       " '/collaboration/',\n",
       " '/surf-schools/',\n",
       " 'https://www.instagram.com/carverskate/',\n",
       " 'https://www.youtube.com/user/surfyourskate/videos',\n",
       " 'https://www.facebook.com/carverskateboards',\n",
       " '/privacy-policy/',\n",
       " '/terms-of-service/',\n",
       " None]"
      ]
     },
     "execution_count": 91,
     "metadata": {},
     "output_type": "execute_result"
    }
   ],
   "source": [
    "tag_list"
   ]
  },
  {
   "cell_type": "code",
   "execution_count": 92,
   "metadata": {},
   "outputs": [
    {
     "data": {
      "text/plain": [
       "['etes/surfskates/carver/',\n",
       " 'etes/surfskates/channel-islands/',\n",
       " 'etes/surfskates/lost/',\n",
       " 'etes/surfskates/triton/',\n",
       " 'etes/surfskates/carver/',\n",
       " 'etes/surfskates/channel-islands/',\n",
       " 'etes/surfskates/lost/',\n",
       " 'etes/surfskates/triton/',\n",
       " 'etes/surfskates/carver/?sort=featured&page=1',\n",
       " 'etes/surfskates/carver/?sort=featured&page=2',\n",
       " 'etes/surfskates/carver/?sort=featured&page=3',\n",
       " 'etes/surfskates/carver/?sort=featured&page=4']"
      ]
     },
     "execution_count": 92,
     "metadata": {},
     "output_type": "execute_result"
    }
   ],
   "source": [
    "# keep only the links to the complete skateboards itself itself\n",
    "tag_list = [t[6:] for t in tag_list if (t) and (t.startswith('/completes/'))]\n",
    "tag_list"
   ]
  },
  {
   "cell_type": "markdown",
   "metadata": {
    "colab_type": "text",
    "id": "2RNySAm5Mk42"
   },
   "source": [
    "### Create a filter for unwanted types of articles"
   ]
  },
  {
   "cell_type": "code",
   "execution_count": 76,
   "metadata": {},
   "outputs": [],
   "source": [
    "#in this case it will be types of skateboards since the website is different"
   ]
  },
  {
   "cell_type": "code",
   "execution_count": 93,
   "metadata": {},
   "outputs": [
    {
     "data": {
      "text/plain": [
       "['etes/surfskates/carver/',\n",
       " 'etes/surfskates/channel-islands/',\n",
       " 'etes/surfskates/lost/',\n",
       " 'etes/surfskates/triton/',\n",
       " 'etes/surfskates/carver/',\n",
       " 'etes/surfskates/channel-islands/',\n",
       " 'etes/surfskates/lost/',\n",
       " 'etes/surfskates/triton/',\n",
       " 'etes/surfskates/carver/?sort=featured&page=1',\n",
       " 'etes/surfskates/carver/?sort=featured&page=2',\n",
       " 'etes/surfskates/carver/?sort=featured&page=3',\n",
       " 'etes/surfskates/carver/?sort=featured&page=4']"
      ]
     },
     "execution_count": 93,
     "metadata": {},
     "output_type": "execute_result"
    }
   ],
   "source": [
    "# create a filter for undesired links\n",
    "filter  = '(%s)' % '|'.join([\n",
    "    'https:',\n",
    "    'completes'\n",
    "])\n",
    "# remove the links that are found in the filter\n",
    "tag_list = [t for t in tag_list if not re.search(filter, t)]\n",
    "tag_list"
   ]
  },
  {
   "cell_type": "code",
   "execution_count": 94,
   "metadata": {},
   "outputs": [
    {
     "data": {
      "text/plain": [
       "['etes/surfskates/carver/',\n",
       " 'etes/surfskates/carver/?sort=featured&page=1',\n",
       " 'etes/surfskates/carver/?sort=featured&page=2',\n",
       " 'etes/surfskates/channel-islands/',\n",
       " 'etes/surfskates/triton/',\n",
       " 'etes/surfskates/carver/?sort=featured&page=4',\n",
       " 'etes/surfskates/lost/',\n",
       " 'etes/surfskates/carver/?sort=featured&page=3']"
      ]
     },
     "execution_count": 94,
     "metadata": {},
     "output_type": "execute_result"
    }
   ],
   "source": [
    "# remove duplicates\n",
    "tag_list = list(set(tag_list))\n",
    "tag_list"
   ]
  },
  {
   "cell_type": "markdown",
   "metadata": {
    "colab_type": "text",
    "id": "RERADKgNFq9T"
   },
   "source": [
    "\n",
    "\n",
    "---\n",
    "\n",
    "\n",
    "\n",
    "---\n",
    "\n",
    "\n",
    "\n",
    "> > > > > > > > > © 2021 Institute of Data\n",
    "\n",
    "\n",
    "---\n",
    "\n",
    "\n",
    "\n",
    "---\n",
    "\n",
    "\n",
    "\n"
   ]
  }
 ],
 "metadata": {
  "colab": {
   "collapsed_sections": [],
   "name": "DSIA Lab-9_2.ipynb",
   "provenance": []
  },
  "kernelspec": {
   "display_name": "Python 3",
   "language": "python",
   "name": "python3"
  },
  "language_info": {
   "codemirror_mode": {
    "name": "ipython",
    "version": 3
   },
   "file_extension": ".py",
   "mimetype": "text/x-python",
   "name": "python",
   "nbconvert_exporter": "python",
   "pygments_lexer": "ipython3",
   "version": "3.9.6"
  }
 },
 "nbformat": 4,
 "nbformat_minor": 1
}
