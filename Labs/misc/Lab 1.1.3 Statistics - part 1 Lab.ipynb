{
 "cells": [
  {
   "cell_type": "markdown",
   "metadata": {
    "colab_type": "text",
    "id": "j2JAe1SsMJZC"
   },
   "source": [
    "<div>\n",
    "<img src=https://www.institutedata.com/wp-content/uploads/2019/10/iod_h_tp_primary_c.svg width=\"300\">\n",
    "</div>\n",
    "\n",
    "# Statistics - Part 1"
   ]
  },
  {
   "cell_type": "code",
   "execution_count": 1,
   "metadata": {
    "colab": {},
    "colab_type": "code",
    "id": "u8uEWYakMJZF"
   },
   "outputs": [],
   "source": [
    "import numpy as np\n",
    "import matplotlib.pyplot as plt\n",
    "# get matplot to show charts inline\n",
    "%matplotlib inline"
   ]
  },
  {
   "cell_type": "code",
   "execution_count": 38,
   "metadata": {
    "colab": {
     "base_uri": "https://localhost:8080/",
     "height": 248
    },
    "colab_type": "code",
    "executionInfo": {
     "elapsed": 1628,
     "status": "ok",
     "timestamp": 1588137651789,
     "user": {
      "displayName": "Earnest Thomas",
      "photoUrl": "https://lh3.googleusercontent.com/a-/AOh14GjfilpZGms64BcYXJcKRXXfqvO6y1j8cfjHiFGn=s64",
      "userId": "01963288443540378839"
     },
     "user_tz": -600
    },
    "id": "usCrXBOlMJZO",
    "outputId": "1054dc68-bfdb-4cbe-91c4-72c4e503a421"
   },
   "outputs": [
    {
     "data": {
      "image/png": "[encoded data removed]",
      "text/plain": [
       "<Figure size 432x288 with 1 Axes>"
      ]
     },
     "metadata": {},
     "output_type": "display_data"
    },
    {
     "data": {
      "text/plain": [
       "<Figure size 288x432 with 0 Axes>"
      ]
     },
     "metadata": {},
     "output_type": "display_data"
    }
   ],
   "source": [
    "# plot frequency of some observations using pie chart\n",
    "labels = ['Developers', 'Data Engineers', 'Data Scientists', 'Business Analysts']\n",
    "frequency = [15, 32, 12, 7]\n",
    "fig1, ax1 = plt.subplots()\n",
    "plt.figure(figsize = (4,6)) # changes figsize of plot the [first two numbers is inch, the dpi is pixel value]\n",
    "explode = (0, 0, 0.4, 0)  # only \"explode\" the 3rd slice (i.e. 'Data Scientist') changes degree of the slice out of 3rd element\n",
    "ax1.pie(frequency, explode=explode, labels=labels, autopct='%1.1f%%',\n",
    "        shadow=True, startangle=90, colors=('#AB466E', '#780D38', '#C872DF', '#E1E2AC'))\n",
    "ax1.axis('equal')  # Equal aspect ratio ensures that pie is drawn as a circle.\n",
    "plt.show()"
   ]
  },
  {
   "cell_type": "code",
   "execution_count": 3,
   "metadata": {
    "colab": {
     "base_uri": "https://localhost:8080/",
     "height": 2665
    },
    "colab_type": "code",
    "executionInfo": {
     "elapsed": 699,
     "status": "ok",
     "timestamp": 1560212672712,
     "user": {
      "displayName": "Ibrahim Faisal",
      "photoUrl": "https://lh3.googleusercontent.com/-67DMczu7rgM/AAAAAAAAAAI/AAAAAAAAAAc/6f5FCnBgxFs/s64/photo.jpg",
      "userId": "02685917636347920688"
     },
     "user_tz": -600
    },
    "id": "WGLEzcPz47Y-",
    "outputId": "292dd044-8ee9-4768-f692-b78893586267"
   },
   "outputs": [
    {
     "name": "stdout",
     "output_type": "stream",
     "text": [
      "Help on function bar in module matplotlib.pyplot:\n",
      "\n",
      "bar(x, height, width=0.8, bottom=None, *, align='center', data=None, **kwargs)\n",
      "    Make a bar plot.\n",
      "    \n",
      "    The bars are positioned at *x* with the given *align*\\ment. Their\n",
      "    dimensions are given by *height* and *width*. The vertical baseline\n",
      "    is *bottom* (default 0).\n",
      "    \n",
      "    Many parameters can take either a single value applying to all bars\n",
      "    or a sequence of values, one for each bar.\n",
      "    \n",
      "    Parameters\n",
      "    ----------\n",
      "    x : float or array-like\n",
      "        The x coordinates of the bars. See also *align* for the\n",
      "        alignment of the bars to the coordinates.\n",
      "    \n",
      "    height : float or array-like\n",
      "        The height(s) of the bars.\n",
      "    \n",
      "    width : float or array-like, default: 0.8\n",
      "        The width(s) of the bars.\n",
      "    \n",
      "    bottom : float or array-like, default: 0\n",
      "        The y coordinate(s) of the bars bases.\n",
      "    \n",
      "    align : {'center', 'edge'}, default: 'center'\n",
      "        Alignment of the bars to the *x* coordinates:\n",
      "    \n",
      "        - 'center': Center the base on the *x* positions.\n",
      "        - 'edge': Align the left edges of the bars with the *x* positions.\n",
      "    \n",
      "        To align the bars on the right edge pass a negative *width* and\n",
      "        ``align='edge'``.\n",
      "    \n",
      "    Returns\n",
      "    -------\n",
      "    `.BarContainer`\n",
      "        Container with all the bars and optionally errorbars.\n",
      "    \n",
      "    Other Parameters\n",
      "    ----------------\n",
      "    color : color or list of color, optional\n",
      "        The colors of the bar faces.\n",
      "    \n",
      "    edgecolor : color or list of color, optional\n",
      "        The colors of the bar edges.\n",
      "    \n",
      "    linewidth : float or array-like, optional\n",
      "        Width of the bar edge(s). If 0, don't draw edges.\n",
      "    \n",
      "    tick_label : str or list of str, optional\n",
      "        The tick labels of the bars.\n",
      "        Default: None (Use default numeric labels.)\n",
      "    \n",
      "    xerr, yerr : float or array-like of shape(N,) or shape(2, N), optional\n",
      "        If not *None*, add horizontal / vertical errorbars to the bar tips.\n",
      "        The values are +/- sizes relative to the data:\n",
      "    \n",
      "        - scalar: symmetric +/- values for all bars\n",
      "        - shape(N,): symmetric +/- values for each bar\n",
      "        - shape(2, N): Separate - and + values for each bar. First row\n",
      "          contains the lower errors, the second row contains the upper\n",
      "          errors.\n",
      "        - *None*: No errorbar. (Default)\n",
      "    \n",
      "        See :doc:`/gallery/statistics/errorbar_features`\n",
      "        for an example on the usage of ``xerr`` and ``yerr``.\n",
      "    \n",
      "    ecolor : color or list of color, default: 'black'\n",
      "        The line color of the errorbars.\n",
      "    \n",
      "    capsize : float, default: :rc:`errorbar.capsize`\n",
      "       The length of the error bar caps in points.\n",
      "    \n",
      "    error_kw : dict, optional\n",
      "        Dictionary of kwargs to be passed to the `~.Axes.errorbar`\n",
      "        method. Values of *ecolor* or *capsize* defined here take\n",
      "        precedence over the independent kwargs.\n",
      "    \n",
      "    log : bool, default: False\n",
      "        If *True*, set the y-axis to be log scale.\n",
      "    \n",
      "    **kwargs : `.Rectangle` properties\n",
      "    \n",
      "    Properties:\n",
      "        agg_filter: a filter function, which takes a (m, n, 3) float array and a dpi value, and returns a (m, n, 3) array\n",
      "        alpha: float or None\n",
      "        animated: bool\n",
      "        antialiased or aa: unknown\n",
      "        capstyle: {'butt', 'round', 'projecting'}\n",
      "        clip_box: `.Bbox`\n",
      "        clip_on: bool\n",
      "        clip_path: Patch or (Path, Transform) or None\n",
      "        color: color\n",
      "        contains: unknown\n",
      "        edgecolor or ec: color or None or 'auto'\n",
      "        facecolor or fc: color or None\n",
      "        figure: `.Figure`\n",
      "        fill: bool\n",
      "        gid: str\n",
      "        hatch: {'/', '\\\\', '|', '-', '+', 'x', 'o', 'O', '.', '*'}\n",
      "        in_layout: bool\n",
      "        joinstyle: {'miter', 'round', 'bevel'}\n",
      "        label: object\n",
      "        linestyle or ls: {'-', '--', '-.', ':', '', (offset, on-off-seq), ...}\n",
      "        linewidth or lw: float or None\n",
      "        path_effects: `.AbstractPathEffect`\n",
      "        picker: None or bool or callable\n",
      "        rasterized: bool or None\n",
      "        sketch_params: (scale: float, length: float, randomness: float)\n",
      "        snap: bool or None\n",
      "        transform: `.Transform`\n",
      "        url: str\n",
      "        visible: bool\n",
      "        zorder: float\n",
      "    \n",
      "    See Also\n",
      "    --------\n",
      "    barh: Plot a horizontal bar plot.\n",
      "    \n",
      "    Notes\n",
      "    -----\n",
      "    Stacked bars can be achieved by passing individual *bottom* values per\n",
      "    bar. See :doc:`/gallery/lines_bars_and_markers/bar_stacked`.\n",
      "    \n",
      "    .. note::\n",
      "        In addition to the above described arguments, this function can take\n",
      "        a *data* keyword argument. If such a *data* argument is given,\n",
      "        every other argument can also be string ``s``, which is\n",
      "        interpreted as ``data[s]`` (unless this raises an exception).\n",
      "    \n",
      "        Objects passed as **data** must support item access (``data[s]``) and\n",
      "        membership test (``s in data``).\n",
      "\n"
     ]
    }
   ],
   "source": [
    "help(plt.bar)"
   ]
  },
  {
   "cell_type": "code",
   "execution_count": 11,
   "metadata": {},
   "outputs": [
    {
     "name": "stdout",
     "output_type": "stream",
     "text": [
      "Help on function pie in module matplotlib.pyplot:\n",
      "\n",
      "pie(x, explode=None, labels=None, colors=None, autopct=None, pctdistance=0.6, shadow=False, labeldistance=1.1, startangle=0, radius=1, counterclock=True, wedgeprops=None, textprops=None, center=(0, 0), frame=False, rotatelabels=False, *, normalize=None, data=None)\n",
      "    Plot a pie chart.\n",
      "    \n",
      "    Make a pie chart of array *x*.  The fractional area of each wedge is\n",
      "    given by ``x/sum(x)``.  If ``sum(x) < 1``, then the values of *x* give\n",
      "    the fractional area directly and the array will not be normalized. The\n",
      "    resulting pie will have an empty wedge of size ``1 - sum(x)``.\n",
      "    \n",
      "    The wedges are plotted counterclockwise, by default starting from the\n",
      "    x-axis.\n",
      "    \n",
      "    Parameters\n",
      "    ----------\n",
      "    x : 1D array-like\n",
      "        The wedge sizes.\n",
      "    \n",
      "    explode : array-like, default: None\n",
      "        If not *None*, is a ``len(x)`` array which specifies the fraction\n",
      "        of the radius with which to offset each wedge.\n",
      "    \n",
      "    labels : list, default: None\n",
      "        A sequence of strings providing the labels for each wedge\n",
      "    \n",
      "    colors : array-like, default: None\n",
      "        A sequence of colors through which the pie chart will cycle.  If\n",
      "        *None*, will use the colors in the currently active cycle.\n",
      "    \n",
      "    autopct : None or str or callable, default: None\n",
      "        If not *None*, is a string or function used to label the wedges\n",
      "        with their numeric value.  The label will be placed inside the\n",
      "        wedge.  If it is a format string, the label will be ``fmt % pct``.\n",
      "        If it is a function, it will be called.\n",
      "    \n",
      "    pctdistance : float, default: 0.6\n",
      "        The ratio between the center of each pie slice and the start of\n",
      "        the text generated by *autopct*.  Ignored if *autopct* is *None*.\n",
      "    \n",
      "    shadow : bool, default: False\n",
      "        Draw a shadow beneath the pie.\n",
      "    \n",
      "    normalize: None or bool, default: None\n",
      "        When *True*, always make a full pie by normalizing x so that\n",
      "        ``sum(x) == 1``. *False* makes a partial pie if ``sum(x) <= 1``\n",
      "        and raises a `ValueError` for ``sum(x) > 1``.\n",
      "    \n",
      "        When *None*, defaults to *True* if ``sum(x) >= 1`` and *False* if\n",
      "        ``sum(x) < 1``.\n",
      "    \n",
      "        Please note that the previous default value of *None* is now\n",
      "        deprecated, and the default will change to *True* in the next\n",
      "        release. Please pass ``normalize=False`` explicitly if you want to\n",
      "        draw a partial pie.\n",
      "    \n",
      "    labeldistance : float or None, default: 1.1\n",
      "        The radial distance at which the pie labels are drawn.\n",
      "        If set to ``None``, label are not drawn, but are stored for use in\n",
      "        ``legend()``\n",
      "    \n",
      "    startangle : float, default: 0 degrees\n",
      "        The angle by which the start of the pie is rotated,\n",
      "        counterclockwise from the x-axis.\n",
      "    \n",
      "    radius : float, default: 1\n",
      "        The radius of the pie.\n",
      "    \n",
      "    counterclock : bool, default: True\n",
      "        Specify fractions direction, clockwise or counterclockwise.\n",
      "    \n",
      "    wedgeprops : dict, default: None\n",
      "        Dict of arguments passed to the wedge objects making the pie.\n",
      "        For example, you can pass in ``wedgeprops = {'linewidth': 3}``\n",
      "        to set the width of the wedge border lines equal to 3.\n",
      "        For more details, look at the doc/arguments of the wedge object.\n",
      "        By default ``clip_on=False``.\n",
      "    \n",
      "    textprops : dict, default: None\n",
      "        Dict of arguments to pass to the text objects.\n",
      "    \n",
      "    center : (float, float), default: (0, 0)\n",
      "        The coordinates of the center of the chart.\n",
      "    \n",
      "    frame : bool, default: False\n",
      "        Plot axes frame with the chart if true.\n",
      "    \n",
      "    rotatelabels : bool, default: False\n",
      "        Rotate each label to the angle of the corresponding slice if true.\n",
      "    \n",
      "    Returns\n",
      "    -------\n",
      "    patches : list\n",
      "        A sequence of `matplotlib.patches.Wedge` instances\n",
      "    \n",
      "    texts : list\n",
      "        A list of the label `.Text` instances.\n",
      "    \n",
      "    autotexts : list\n",
      "        A list of `.Text` instances for the numeric labels. This will only\n",
      "        be returned if the parameter *autopct* is not *None*.\n",
      "    \n",
      "    Notes\n",
      "    -----\n",
      "    The pie chart will probably look best if the figure and axes are\n",
      "    square, or the Axes aspect is equal.\n",
      "    This method sets the aspect ratio of the axis to \"equal\".\n",
      "    The axes aspect ratio can be controlled with `.Axes.set_aspect`.\n",
      "    \n",
      "    .. note::\n",
      "        In addition to the above described arguments, this function can take\n",
      "        a *data* keyword argument. If such a *data* argument is given,\n",
      "        the following arguments can also be string ``s``, which is\n",
      "        interpreted as ``data[s]`` (unless this raises an exception):\n",
      "        *x*, *explode*, *labels*, *colors*.\n",
      "    \n",
      "        Objects passed as **data** must support item access (``data[s]``) and\n",
      "        membership test (``s in data``).\n",
      "\n"
     ]
    }
   ],
   "source": [
    "help(plt.pie)"
   ]
  },
  {
   "cell_type": "code",
   "execution_count": 40,
   "metadata": {
    "colab": {
     "base_uri": "https://localhost:8080/",
     "height": 238
    },
    "colab_type": "code",
    "executionInfo": {
     "elapsed": 1678,
     "status": "error",
     "timestamp": 1588137628774,
     "user": {
      "displayName": "Earnest Thomas",
      "photoUrl": "https://lh3.googleusercontent.com/a-/AOh14GjfilpZGms64BcYXJcKRXXfqvO6y1j8cfjHiFGn=s64",
      "userId": "01963288443540378839"
     },
     "user_tz": -600
    },
    "id": "uDNaazfhMJZb",
    "outputId": "2f190c05-f222-405d-9e28-564093431538"
   },
   "outputs": [
    {
     "data": {
      "image/png": "[encoded data removed]",
      "text/plain": [
       "<Figure size 432x288 with 1 Axes>"
      ]
     },
     "metadata": {
      "needs_background": "light"
     },
     "output_type": "display_data"
    }
   ],
   "source": [
    "# plot frequency of some observations using bar chart\n",
    "objects = ('Python', 'C++', 'Java', 'Perl', 'Scala', 'Lisp')\n",
    "x_pos = np.arange(len(objects))\n",
    "usage = [10,8,6,4,2,1]\n",
    " \n",
    "# Create a bar plot\n",
    "plt.bar(x_pos, usage)\n",
    "plt.xticks(x_pos, objects)\n",
    "plt.ylabel('Usage')\n",
    "plt.title('Programming language usage')\n",
    " \n",
    "plt.show()"
   ]
  },
  {
   "cell_type": "markdown",
   "metadata": {
    "colab_type": "text",
    "id": "KrdPGE5GpkYf"
   },
   "source": [
    "\n",
    "\n",
    "---\n",
    "\n",
    "\n",
    "\n",
    "---\n",
    "\n",
    "\n",
    "\n",
    "> > > > > > > > > © 2021 Institute of Data\n",
    "\n",
    "\n",
    "---\n",
    "\n",
    "\n",
    "\n",
    "---\n",
    "\n",
    "\n",
    "\n"
   ]
  }
 ],
 "metadata": {
  "colab": {
   "collapsed_sections": [],
   "name": "Lab 1.1.3 Statistics - part 1 Lab.ipynb",
   "provenance": [
    {
     "file_id": "https://github.com/ikfaisal/dsia/blob/master/Statistics_part_1.ipynb",
     "timestamp": 1552460911337
    }
   ]
  },
  "kernelspec": {
   "display_name": "Python 3",
   "language": "python",
   "name": "python3"
  },
  "language_info": {
   "codemirror_mode": {
    "name": "ipython",
    "version": 3
   },
   "file_extension": ".py",
   "mimetype": "text/x-python",
   "name": "python",
   "nbconvert_exporter": "python",
   "pygments_lexer": "ipython3",
   "version": "3.7.10"
  }
 },
 "nbformat": 4,
 "nbformat_minor": 1
}
