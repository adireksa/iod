{
 "cells": [
  {
   "cell_type": "markdown",
   "id": "bf64b2f3",
   "metadata": {},
   "source": [
    "### 0. Import dependencies"
   ]
  },
  {
   "cell_type": "raw",
   "id": "25346691-ff07-42e6-bcda-ddc2895827fc",
   "metadata": {},
   "source": [
    "environment: pycaret2"
   ]
  },
  {
   "cell_type": "code",
   "execution_count": 143,
   "id": "693d8f06-bfdf-4db4-a974-90d44d680e10",
   "metadata": {},
   "outputs": [],
   "source": [
    "# read csv file\n",
    "import pandas as pd\n",
    "# import the pycaret TS regression \n",
    "from pycaret.internal.pycaret_experiment import TimeSeriesExperiment\n",
    "from sktime.utils.plotting import plot_series\n",
    "import matplotlib.pyplot as plt"
   ]
  },
  {
   "cell_type": "code",
   "execution_count": 1,
   "id": "0387c134-a0d8-4d2b-8da6-6581a2176ffb",
   "metadata": {},
   "outputs": [],
   "source": [
    "import pandas as pd"
   ]
  },
  {
   "cell_type": "code",
   "execution_count": 2,
   "id": "58408ed7-6f6b-4713-8f9e-e84e9531678d",
   "metadata": {},
   "outputs": [],
   "source": [
    "df = pd.read_csv('btcusdt_1d_ohlcv_av_1Jan2019_to_24Sep2021_1day_csv_ver.csv')"
   ]
  },
  {
   "cell_type": "code",
   "execution_count": 3,
   "id": "1412e3ee-63f5-49c1-8b2a-0a79c0d06869",
   "metadata": {},
   "outputs": [
    {
     "name": "stdout",
     "output_type": "stream",
     "text": [
      "<class 'pandas.core.frame.DataFrame'>\n",
      "RangeIndex: 1190 entries, 0 to 1189\n",
      "Data columns (total 28 columns):\n",
      " #   Column             Non-Null Count  Dtype  \n",
      "---  ------             --------------  -----  \n",
      " 0   Unnamed: 0         1190 non-null   int64  \n",
      " 1   open_time          1190 non-null   object \n",
      " 2   BTCUSDT_open       1190 non-null   float64\n",
      " 3   BTCUSDT_high       1190 non-null   float64\n",
      " 4   BTCUSDT_low        1190 non-null   float64\n",
      " 5   BTCUSDT_close      1190 non-null   float64\n",
      " 6   BTCUSDT_volume     1190 non-null   float64\n",
      " 7   close_time         1190 non-null   object \n",
      " 8   qav                1190 non-null   float64\n",
      " 9   num_trades         1190 non-null   int64  \n",
      " 10  taker_base_vol     1190 non-null   float64\n",
      " 11  taker_quote_vol    1190 non-null   float64\n",
      " 12  is_best_match      1190 non-null   int64  \n",
      " 13  date               1190 non-null   object \n",
      " 14  usd_close          172 non-null    float64\n",
      " 15  spy_close          172 non-null    float64\n",
      " 16  ftse_china_close   238 non-null    float64\n",
      " 17  gld_close          172 non-null    float64\n",
      " 18  nfp_close          1190 non-null   float64\n",
      " 19  btc_txn_vol        1188 non-null   float64\n",
      " 20  btc_wallet_unique  1190 non-null   float64\n",
      " 21  btc_blk_size_mb    1190 non-null   float64\n",
      " 22  year               1190 non-null   int64  \n",
      " 23  month              1190 non-null   int64  \n",
      " 24  date_of_month      1190 non-null   int64  \n",
      " 25  day_of_week        1190 non-null   int64  \n",
      " 26  day_of_year        1190 non-null   int64  \n",
      " 27  hour_of_day        1190 non-null   int64  \n",
      "dtypes: float64(16), int64(9), object(3)\n",
      "memory usage: 260.4+ KB\n"
     ]
    }
   ],
   "source": [
    "df.info()"
   ]
  },
  {
   "cell_type": "code",
   "execution_count": 70,
   "id": "53cb67e4-2943-42c9-9387-b0ef7987402e",
   "metadata": {},
   "outputs": [],
   "source": [
    "del df['Unnamed: 0']"
   ]
  },
  {
   "cell_type": "code",
   "execution_count": 72,
   "id": "babb47d0-e154-407b-9edb-1082583faa44",
   "metadata": {},
   "outputs": [],
   "source": [
    "df['close_diff'] = df.BTCUSDT_close.diff()"
   ]
  },
  {
   "cell_type": "code",
   "execution_count": 74,
   "id": "d1b621a6-ec7e-45c9-a545-7881944715d8",
   "metadata": {},
   "outputs": [],
   "source": [
    "df = df.loc[df['year'] == 2021]"
   ]
  },
  {
   "cell_type": "code",
   "execution_count": 75,
   "id": "6b59eadf-9605-4111-a81e-df1cfe353cc9",
   "metadata": {},
   "outputs": [],
   "source": [
    "df = df[['date', 'close_diff']]"
   ]
  },
  {
   "cell_type": "code",
   "execution_count": 76,
   "id": "210455be-6ea4-4d73-b57c-4dd21ddcc10a",
   "metadata": {},
   "outputs": [],
   "source": [
    "#df = df.asfreq('d')"
   ]
  },
  {
   "cell_type": "code",
   "execution_count": 77,
   "id": "4746fe4e-2215-4c2c-ade3-c4fd9e14754f",
   "metadata": {},
   "outputs": [
    {
     "data": {
      "text/html": [
       "<div>\n",
       "<style scoped>\n",
       "    .dataframe tbody tr th:only-of-type {\n",
       "        vertical-align: middle;\n",
       "    }\n",
       "\n",
       "    .dataframe tbody tr th {\n",
       "        vertical-align: top;\n",
       "    }\n",
       "\n",
       "    .dataframe thead th {\n",
       "        text-align: right;\n",
       "    }\n",
       "</style>\n",
       "<table border=\"1\" class=\"dataframe\">\n",
       "  <thead>\n",
       "    <tr style=\"text-align: right;\">\n",
       "      <th></th>\n",
       "      <th>date</th>\n",
       "      <th>close_diff</th>\n",
       "    </tr>\n",
       "  </thead>\n",
       "  <tbody>\n",
       "    <tr>\n",
       "      <th>870</th>\n",
       "      <td>2021-01-01</td>\n",
       "      <td>408.06</td>\n",
       "    </tr>\n",
       "    <tr>\n",
       "      <th>871</th>\n",
       "      <td>2021-01-02</td>\n",
       "      <td>2846.64</td>\n",
       "    </tr>\n",
       "    <tr>\n",
       "      <th>872</th>\n",
       "      <td>2021-01-03</td>\n",
       "      <td>821.72</td>\n",
       "    </tr>\n",
       "    <tr>\n",
       "      <th>873</th>\n",
       "      <td>2021-01-03</td>\n",
       "      <td>0.00</td>\n",
       "    </tr>\n",
       "    <tr>\n",
       "      <th>874</th>\n",
       "      <td>2021-01-04</td>\n",
       "      <td>-1011.34</td>\n",
       "    </tr>\n",
       "  </tbody>\n",
       "</table>\n",
       "</div>"
      ],
      "text/plain": [
       "           date  close_diff\n",
       "870  2021-01-01      408.06\n",
       "871  2021-01-02     2846.64\n",
       "872  2021-01-03      821.72\n",
       "873  2021-01-03        0.00\n",
       "874  2021-01-04    -1011.34"
      ]
     },
     "execution_count": 77,
     "metadata": {},
     "output_type": "execute_result"
    }
   ],
   "source": [
    "df.head()"
   ]
  },
  {
   "cell_type": "code",
   "execution_count": 78,
   "id": "fa645bc5-8b75-460d-940c-715db197e050",
   "metadata": {},
   "outputs": [
    {
     "data": {
      "text/html": [
       "<div>\n",
       "<style scoped>\n",
       "    .dataframe tbody tr th:only-of-type {\n",
       "        vertical-align: middle;\n",
       "    }\n",
       "\n",
       "    .dataframe tbody tr th {\n",
       "        vertical-align: top;\n",
       "    }\n",
       "\n",
       "    .dataframe thead th {\n",
       "        text-align: right;\n",
       "    }\n",
       "</style>\n",
       "<table border=\"1\" class=\"dataframe\">\n",
       "  <thead>\n",
       "    <tr style=\"text-align: right;\">\n",
       "      <th></th>\n",
       "      <th>close_diff</th>\n",
       "    </tr>\n",
       "    <tr>\n",
       "      <th>date</th>\n",
       "      <th></th>\n",
       "    </tr>\n",
       "  </thead>\n",
       "  <tbody>\n",
       "    <tr>\n",
       "      <th>2021-01-01</th>\n",
       "      <td>408.06</td>\n",
       "    </tr>\n",
       "  </tbody>\n",
       "</table>\n",
       "</div>"
      ],
      "text/plain": [
       "            close_diff\n",
       "date                  \n",
       "2021-01-01      408.06"
      ]
     },
     "execution_count": 78,
     "metadata": {},
     "output_type": "execute_result"
    }
   ],
   "source": [
    "df.index = pd.DatetimeIndex(df['date'])\n",
    "#df.groupby(df.index).first()\n",
    "df.drop(['date'],axis=1,inplace=True)\n",
    "df.head(1)"
   ]
  },
  {
   "cell_type": "code",
   "execution_count": 79,
   "id": "ad690a72-75c5-46a5-a29a-ace2cb5ff5e0",
   "metadata": {},
   "outputs": [
    {
     "data": {
      "text/plain": [
       "False"
      ]
     },
     "execution_count": 79,
     "metadata": {},
     "output_type": "execute_result"
    }
   ],
   "source": [
    "df.index.is_unique"
   ]
  },
  {
   "cell_type": "code",
   "execution_count": 80,
   "id": "89286990-5f39-4c49-bea6-8b5b3dad1066",
   "metadata": {},
   "outputs": [],
   "source": [
    "df = df.loc[~df.index.duplicated(), :]"
   ]
  },
  {
   "cell_type": "code",
   "execution_count": 81,
   "id": "16a06b79-cdd5-4f59-aab8-c7987aab7319",
   "metadata": {},
   "outputs": [
    {
     "data": {
      "text/plain": [
       "DatetimeIndex(['2021-01-01', '2021-01-02', '2021-01-03', '2021-01-04',\n",
       "               '2021-01-05', '2021-01-06', '2021-01-07', '2021-01-08',\n",
       "               '2021-01-09', '2021-01-10',\n",
       "               ...\n",
       "               '2021-09-15', '2021-09-16', '2021-09-17', '2021-09-18',\n",
       "               '2021-09-19', '2021-09-20', '2021-09-21', '2021-09-22',\n",
       "               '2021-09-23', '2021-09-24'],\n",
       "              dtype='datetime64[ns]', name='date', length=267, freq='D')"
      ]
     },
     "execution_count": 81,
     "metadata": {},
     "output_type": "execute_result"
    }
   ],
   "source": [
    "df = df.asfreq('d')\n",
    "df.index"
   ]
  },
  {
   "cell_type": "code",
   "execution_count": 108,
   "id": "3e60e6cc-533d-4927-8411-3a89ae39ac69",
   "metadata": {},
   "outputs": [
    {
     "data": {
      "text/plain": [
       "False"
      ]
     },
     "execution_count": 108,
     "metadata": {},
     "output_type": "execute_result"
    }
   ],
   "source": [
    "#check for nulls\n",
    "df.isnull().values.any()"
   ]
  },
  {
   "cell_type": "markdown",
   "id": "ab8c186c-74d4-4431-a676-0b3cc3bc6807",
   "metadata": {},
   "source": [
    "### Start pycaret experiment for model evaluation, just based on close prices"
   ]
  },
  {
   "cell_type": "code",
   "execution_count": 128,
   "id": "243eeef9-7d85-4429-ab62-ef1d36085be7",
   "metadata": {},
   "outputs": [
    {
     "data": {
      "text/html": [
       "<style  type=\"text/css\" >\n",
       "</style><table id=\"T_817c551c_20b4_11ec_a2da_acde48001122\" ><thead>    <tr>        <th class=\"blank level0\" ></th>        <th class=\"col_heading level0 col0\" >Description</th>        <th class=\"col_heading level0 col1\" >Value</th>    </tr></thead><tbody>\n",
       "                <tr>\n",
       "                        <th id=\"T_817c551c_20b4_11ec_a2da_acde48001122level0_row0\" class=\"row_heading level0 row0\" >0</th>\n",
       "                        <td id=\"T_817c551c_20b4_11ec_a2da_acde48001122row0_col0\" class=\"data row0 col0\" >session_id</td>\n",
       "                        <td id=\"T_817c551c_20b4_11ec_a2da_acde48001122row0_col1\" class=\"data row0 col1\" >42</td>\n",
       "            </tr>\n",
       "            <tr>\n",
       "                        <th id=\"T_817c551c_20b4_11ec_a2da_acde48001122level0_row1\" class=\"row_heading level0 row1\" >1</th>\n",
       "                        <td id=\"T_817c551c_20b4_11ec_a2da_acde48001122row1_col0\" class=\"data row1 col0\" >Original Data</td>\n",
       "                        <td id=\"T_817c551c_20b4_11ec_a2da_acde48001122row1_col1\" class=\"data row1 col1\" >(267, 1)</td>\n",
       "            </tr>\n",
       "            <tr>\n",
       "                        <th id=\"T_817c551c_20b4_11ec_a2da_acde48001122level0_row2\" class=\"row_heading level0 row2\" >2</th>\n",
       "                        <td id=\"T_817c551c_20b4_11ec_a2da_acde48001122row2_col0\" class=\"data row2 col0\" >Missing Values</td>\n",
       "                        <td id=\"T_817c551c_20b4_11ec_a2da_acde48001122row2_col1\" class=\"data row2 col1\" >False</td>\n",
       "            </tr>\n",
       "            <tr>\n",
       "                        <th id=\"T_817c551c_20b4_11ec_a2da_acde48001122level0_row3\" class=\"row_heading level0 row3\" >3</th>\n",
       "                        <td id=\"T_817c551c_20b4_11ec_a2da_acde48001122row3_col0\" class=\"data row3 col0\" >Transformed Train Set</td>\n",
       "                        <td id=\"T_817c551c_20b4_11ec_a2da_acde48001122row3_col1\" class=\"data row3 col1\" >(211,)</td>\n",
       "            </tr>\n",
       "            <tr>\n",
       "                        <th id=\"T_817c551c_20b4_11ec_a2da_acde48001122level0_row4\" class=\"row_heading level0 row4\" >4</th>\n",
       "                        <td id=\"T_817c551c_20b4_11ec_a2da_acde48001122row4_col0\" class=\"data row4 col0\" >Transformed Test Set</td>\n",
       "                        <td id=\"T_817c551c_20b4_11ec_a2da_acde48001122row4_col1\" class=\"data row4 col1\" >(56,)</td>\n",
       "            </tr>\n",
       "            <tr>\n",
       "                        <th id=\"T_817c551c_20b4_11ec_a2da_acde48001122level0_row5\" class=\"row_heading level0 row5\" >5</th>\n",
       "                        <td id=\"T_817c551c_20b4_11ec_a2da_acde48001122row5_col0\" class=\"data row5 col0\" >Fold Generator</td>\n",
       "                        <td id=\"T_817c551c_20b4_11ec_a2da_acde48001122row5_col1\" class=\"data row5 col1\" >ExpandingWindowSplitter</td>\n",
       "            </tr>\n",
       "            <tr>\n",
       "                        <th id=\"T_817c551c_20b4_11ec_a2da_acde48001122level0_row6\" class=\"row_heading level0 row6\" >6</th>\n",
       "                        <td id=\"T_817c551c_20b4_11ec_a2da_acde48001122row6_col0\" class=\"data row6 col0\" >Fold Number</td>\n",
       "                        <td id=\"T_817c551c_20b4_11ec_a2da_acde48001122row6_col1\" class=\"data row6 col1\" >3</td>\n",
       "            </tr>\n",
       "            <tr>\n",
       "                        <th id=\"T_817c551c_20b4_11ec_a2da_acde48001122level0_row7\" class=\"row_heading level0 row7\" >7</th>\n",
       "                        <td id=\"T_817c551c_20b4_11ec_a2da_acde48001122row7_col0\" class=\"data row7 col0\" >CPU Jobs</td>\n",
       "                        <td id=\"T_817c551c_20b4_11ec_a2da_acde48001122row7_col1\" class=\"data row7 col1\" >-1</td>\n",
       "            </tr>\n",
       "            <tr>\n",
       "                        <th id=\"T_817c551c_20b4_11ec_a2da_acde48001122level0_row8\" class=\"row_heading level0 row8\" >8</th>\n",
       "                        <td id=\"T_817c551c_20b4_11ec_a2da_acde48001122row8_col0\" class=\"data row8 col0\" >Use GPU</td>\n",
       "                        <td id=\"T_817c551c_20b4_11ec_a2da_acde48001122row8_col1\" class=\"data row8 col1\" >False</td>\n",
       "            </tr>\n",
       "            <tr>\n",
       "                        <th id=\"T_817c551c_20b4_11ec_a2da_acde48001122level0_row9\" class=\"row_heading level0 row9\" >9</th>\n",
       "                        <td id=\"T_817c551c_20b4_11ec_a2da_acde48001122row9_col0\" class=\"data row9 col0\" >Log Experiment</td>\n",
       "                        <td id=\"T_817c551c_20b4_11ec_a2da_acde48001122row9_col1\" class=\"data row9 col1\" >False</td>\n",
       "            </tr>\n",
       "            <tr>\n",
       "                        <th id=\"T_817c551c_20b4_11ec_a2da_acde48001122level0_row10\" class=\"row_heading level0 row10\" >10</th>\n",
       "                        <td id=\"T_817c551c_20b4_11ec_a2da_acde48001122row10_col0\" class=\"data row10 col0\" >Experiment Name</td>\n",
       "                        <td id=\"T_817c551c_20b4_11ec_a2da_acde48001122row10_col1\" class=\"data row10 col1\" >ts-default-name</td>\n",
       "            </tr>\n",
       "            <tr>\n",
       "                        <th id=\"T_817c551c_20b4_11ec_a2da_acde48001122level0_row11\" class=\"row_heading level0 row11\" >11</th>\n",
       "                        <td id=\"T_817c551c_20b4_11ec_a2da_acde48001122row11_col0\" class=\"data row11 col0\" >USI</td>\n",
       "                        <td id=\"T_817c551c_20b4_11ec_a2da_acde48001122row11_col1\" class=\"data row11 col1\" >fc19</td>\n",
       "            </tr>\n",
       "            <tr>\n",
       "                        <th id=\"T_817c551c_20b4_11ec_a2da_acde48001122level0_row12\" class=\"row_heading level0 row12\" >12</th>\n",
       "                        <td id=\"T_817c551c_20b4_11ec_a2da_acde48001122row12_col0\" class=\"data row12 col0\" >Imputation Type</td>\n",
       "                        <td id=\"T_817c551c_20b4_11ec_a2da_acde48001122row12_col1\" class=\"data row12 col1\" >simple</td>\n",
       "            </tr>\n",
       "    </tbody></table>"
      ],
      "text/plain": [
       "<pandas.io.formats.style.Styler at 0x7fa2a1cdba20>"
      ]
     },
     "metadata": {},
     "output_type": "display_data"
    },
    {
     "name": "stderr",
     "output_type": "stream",
     "text": [
      "INFO:logs:self.master_model_container: 0\n",
      "INFO:logs:self.display_container: 1\n",
      "INFO:logs:Pipeline(memory=None,\n",
      "         steps=[('dtypes',\n",
      "                 DataTypes_Auto_infer(categorical_features=[],\n",
      "                                      display_types=False, features_todrop=[],\n",
      "                                      float_dtype='float64', id_columns=[],\n",
      "                                      ml_usecase='regression',\n",
      "                                      numerical_features=[],\n",
      "                                      target='close_diff', time_features=[])),\n",
      "                ('imputer',\n",
      "                 Simple_Imputer(categorical_strategy='most frequent',\n",
      "                                fill_value_categorical='not_available',\n",
      "                                fill_v...\n",
      "                ('scaling', 'passthrough'), ('P_transform', 'passthrough'),\n",
      "                ('binn', 'passthrough'), ('rem_outliers', 'passthrough'),\n",
      "                ('cluster_all', 'passthrough'),\n",
      "                ('dummy', Dummify(target='close_diff')),\n",
      "                ('fix_perfect', 'passthrough'),\n",
      "                ('clean_names', Clean_Colum_Names()),\n",
      "                ('feature_select', 'passthrough'), ('fix_multi', 'passthrough'),\n",
      "                ('dfs', 'passthrough'), ('pca', 'passthrough')],\n",
      "         verbose=False)\n",
      "INFO:logs:setup() successfully completed......................................\n"
     ]
    },
    {
     "data": {
      "text/plain": [
       "<pycaret.internal.pycaret_experiment.time_series_experiment.TimeSeriesExperiment at 0x7fa2a2e0bd68>"
      ]
     },
     "execution_count": 128,
     "metadata": {},
     "output_type": "execute_result"
    }
   ],
   "source": [
    "exp = TimeSeriesExperiment()\n",
    "exp.setup(data=df,session_id=42, fh=56) #fh we should test for 2 months data 56 days"
   ]
  },
  {
   "cell_type": "code",
   "execution_count": 129,
   "id": "d9bf97ff",
   "metadata": {},
   "outputs": [
    {
     "data": {
      "text/html": [
       "<style  type=\"text/css\" >\n",
       "    #T_e77ca04c_20b4_11ec_bc54_acde48001122 th {\n",
       "          text-align: left;\n",
       "    }#T_e77ca04c_20b4_11ec_bc54_acde48001122row0_col0,#T_e77ca04c_20b4_11ec_bc54_acde48001122row0_col4,#T_e77ca04c_20b4_11ec_bc54_acde48001122row1_col0,#T_e77ca04c_20b4_11ec_bc54_acde48001122row1_col1,#T_e77ca04c_20b4_11ec_bc54_acde48001122row1_col2,#T_e77ca04c_20b4_11ec_bc54_acde48001122row1_col3,#T_e77ca04c_20b4_11ec_bc54_acde48001122row1_col4,#T_e77ca04c_20b4_11ec_bc54_acde48001122row1_col5,#T_e77ca04c_20b4_11ec_bc54_acde48001122row2_col0,#T_e77ca04c_20b4_11ec_bc54_acde48001122row2_col1,#T_e77ca04c_20b4_11ec_bc54_acde48001122row2_col2,#T_e77ca04c_20b4_11ec_bc54_acde48001122row2_col3,#T_e77ca04c_20b4_11ec_bc54_acde48001122row2_col4,#T_e77ca04c_20b4_11ec_bc54_acde48001122row2_col5,#T_e77ca04c_20b4_11ec_bc54_acde48001122row3_col0,#T_e77ca04c_20b4_11ec_bc54_acde48001122row3_col1,#T_e77ca04c_20b4_11ec_bc54_acde48001122row3_col2,#T_e77ca04c_20b4_11ec_bc54_acde48001122row3_col3,#T_e77ca04c_20b4_11ec_bc54_acde48001122row3_col4,#T_e77ca04c_20b4_11ec_bc54_acde48001122row3_col5,#T_e77ca04c_20b4_11ec_bc54_acde48001122row4_col0,#T_e77ca04c_20b4_11ec_bc54_acde48001122row4_col1,#T_e77ca04c_20b4_11ec_bc54_acde48001122row4_col2,#T_e77ca04c_20b4_11ec_bc54_acde48001122row4_col3,#T_e77ca04c_20b4_11ec_bc54_acde48001122row4_col4,#T_e77ca04c_20b4_11ec_bc54_acde48001122row4_col5,#T_e77ca04c_20b4_11ec_bc54_acde48001122row5_col0,#T_e77ca04c_20b4_11ec_bc54_acde48001122row5_col1,#T_e77ca04c_20b4_11ec_bc54_acde48001122row5_col2,#T_e77ca04c_20b4_11ec_bc54_acde48001122row5_col3,#T_e77ca04c_20b4_11ec_bc54_acde48001122row5_col4,#T_e77ca04c_20b4_11ec_bc54_acde48001122row5_col5,#T_e77ca04c_20b4_11ec_bc54_acde48001122row6_col0,#T_e77ca04c_20b4_11ec_bc54_acde48001122row6_col1,#T_e77ca04c_20b4_11ec_bc54_acde48001122row6_col2,#T_e77ca04c_20b4_11ec_bc54_acde48001122row6_col3,#T_e77ca04c_20b4_11ec_bc54_acde48001122row6_col4,#T_e77ca04c_20b4_11ec_bc54_acde48001122row6_col5,#T_e77ca04c_20b4_11ec_bc54_acde48001122row7_col0,#T_e77ca04c_20b4_11ec_bc54_acde48001122row7_col1,#T_e77ca04c_20b4_11ec_bc54_acde48001122row7_col2,#T_e77ca04c_20b4_11ec_bc54_acde48001122row7_col3,#T_e77ca04c_20b4_11ec_bc54_acde48001122row7_col4,#T_e77ca04c_20b4_11ec_bc54_acde48001122row7_col5,#T_e77ca04c_20b4_11ec_bc54_acde48001122row8_col0,#T_e77ca04c_20b4_11ec_bc54_acde48001122row8_col1,#T_e77ca04c_20b4_11ec_bc54_acde48001122row8_col2,#T_e77ca04c_20b4_11ec_bc54_acde48001122row8_col3,#T_e77ca04c_20b4_11ec_bc54_acde48001122row8_col4,#T_e77ca04c_20b4_11ec_bc54_acde48001122row8_col5,#T_e77ca04c_20b4_11ec_bc54_acde48001122row9_col0,#T_e77ca04c_20b4_11ec_bc54_acde48001122row9_col1,#T_e77ca04c_20b4_11ec_bc54_acde48001122row9_col2,#T_e77ca04c_20b4_11ec_bc54_acde48001122row9_col3,#T_e77ca04c_20b4_11ec_bc54_acde48001122row9_col4,#T_e77ca04c_20b4_11ec_bc54_acde48001122row9_col5,#T_e77ca04c_20b4_11ec_bc54_acde48001122row10_col0,#T_e77ca04c_20b4_11ec_bc54_acde48001122row10_col1,#T_e77ca04c_20b4_11ec_bc54_acde48001122row10_col2,#T_e77ca04c_20b4_11ec_bc54_acde48001122row10_col3,#T_e77ca04c_20b4_11ec_bc54_acde48001122row10_col4,#T_e77ca04c_20b4_11ec_bc54_acde48001122row10_col5,#T_e77ca04c_20b4_11ec_bc54_acde48001122row11_col0,#T_e77ca04c_20b4_11ec_bc54_acde48001122row11_col1,#T_e77ca04c_20b4_11ec_bc54_acde48001122row11_col2,#T_e77ca04c_20b4_11ec_bc54_acde48001122row11_col3,#T_e77ca04c_20b4_11ec_bc54_acde48001122row11_col4,#T_e77ca04c_20b4_11ec_bc54_acde48001122row11_col5,#T_e77ca04c_20b4_11ec_bc54_acde48001122row12_col0,#T_e77ca04c_20b4_11ec_bc54_acde48001122row12_col1,#T_e77ca04c_20b4_11ec_bc54_acde48001122row12_col2,#T_e77ca04c_20b4_11ec_bc54_acde48001122row12_col3,#T_e77ca04c_20b4_11ec_bc54_acde48001122row12_col4,#T_e77ca04c_20b4_11ec_bc54_acde48001122row12_col5,#T_e77ca04c_20b4_11ec_bc54_acde48001122row13_col0,#T_e77ca04c_20b4_11ec_bc54_acde48001122row13_col1,#T_e77ca04c_20b4_11ec_bc54_acde48001122row13_col2,#T_e77ca04c_20b4_11ec_bc54_acde48001122row13_col3,#T_e77ca04c_20b4_11ec_bc54_acde48001122row13_col4,#T_e77ca04c_20b4_11ec_bc54_acde48001122row13_col5,#T_e77ca04c_20b4_11ec_bc54_acde48001122row14_col0,#T_e77ca04c_20b4_11ec_bc54_acde48001122row14_col1,#T_e77ca04c_20b4_11ec_bc54_acde48001122row14_col2,#T_e77ca04c_20b4_11ec_bc54_acde48001122row14_col3,#T_e77ca04c_20b4_11ec_bc54_acde48001122row14_col4,#T_e77ca04c_20b4_11ec_bc54_acde48001122row14_col5,#T_e77ca04c_20b4_11ec_bc54_acde48001122row15_col0,#T_e77ca04c_20b4_11ec_bc54_acde48001122row15_col1,#T_e77ca04c_20b4_11ec_bc54_acde48001122row15_col2,#T_e77ca04c_20b4_11ec_bc54_acde48001122row15_col3,#T_e77ca04c_20b4_11ec_bc54_acde48001122row15_col4,#T_e77ca04c_20b4_11ec_bc54_acde48001122row15_col5,#T_e77ca04c_20b4_11ec_bc54_acde48001122row16_col0,#T_e77ca04c_20b4_11ec_bc54_acde48001122row16_col1,#T_e77ca04c_20b4_11ec_bc54_acde48001122row16_col2,#T_e77ca04c_20b4_11ec_bc54_acde48001122row16_col3,#T_e77ca04c_20b4_11ec_bc54_acde48001122row16_col4,#T_e77ca04c_20b4_11ec_bc54_acde48001122row16_col5,#T_e77ca04c_20b4_11ec_bc54_acde48001122row17_col0,#T_e77ca04c_20b4_11ec_bc54_acde48001122row17_col1,#T_e77ca04c_20b4_11ec_bc54_acde48001122row17_col2,#T_e77ca04c_20b4_11ec_bc54_acde48001122row17_col3,#T_e77ca04c_20b4_11ec_bc54_acde48001122row17_col5,#T_e77ca04c_20b4_11ec_bc54_acde48001122row18_col0,#T_e77ca04c_20b4_11ec_bc54_acde48001122row18_col1,#T_e77ca04c_20b4_11ec_bc54_acde48001122row18_col2,#T_e77ca04c_20b4_11ec_bc54_acde48001122row18_col3,#T_e77ca04c_20b4_11ec_bc54_acde48001122row18_col4,#T_e77ca04c_20b4_11ec_bc54_acde48001122row18_col5,#T_e77ca04c_20b4_11ec_bc54_acde48001122row19_col0,#T_e77ca04c_20b4_11ec_bc54_acde48001122row19_col1,#T_e77ca04c_20b4_11ec_bc54_acde48001122row19_col2,#T_e77ca04c_20b4_11ec_bc54_acde48001122row19_col3,#T_e77ca04c_20b4_11ec_bc54_acde48001122row19_col4,#T_e77ca04c_20b4_11ec_bc54_acde48001122row19_col5,#T_e77ca04c_20b4_11ec_bc54_acde48001122row20_col0,#T_e77ca04c_20b4_11ec_bc54_acde48001122row20_col1,#T_e77ca04c_20b4_11ec_bc54_acde48001122row20_col2,#T_e77ca04c_20b4_11ec_bc54_acde48001122row20_col3,#T_e77ca04c_20b4_11ec_bc54_acde48001122row20_col4,#T_e77ca04c_20b4_11ec_bc54_acde48001122row20_col5,#T_e77ca04c_20b4_11ec_bc54_acde48001122row21_col0,#T_e77ca04c_20b4_11ec_bc54_acde48001122row21_col1,#T_e77ca04c_20b4_11ec_bc54_acde48001122row21_col2,#T_e77ca04c_20b4_11ec_bc54_acde48001122row21_col3,#T_e77ca04c_20b4_11ec_bc54_acde48001122row21_col4,#T_e77ca04c_20b4_11ec_bc54_acde48001122row21_col5,#T_e77ca04c_20b4_11ec_bc54_acde48001122row22_col0,#T_e77ca04c_20b4_11ec_bc54_acde48001122row22_col1,#T_e77ca04c_20b4_11ec_bc54_acde48001122row22_col2,#T_e77ca04c_20b4_11ec_bc54_acde48001122row22_col3,#T_e77ca04c_20b4_11ec_bc54_acde48001122row22_col4,#T_e77ca04c_20b4_11ec_bc54_acde48001122row22_col5,#T_e77ca04c_20b4_11ec_bc54_acde48001122row23_col0,#T_e77ca04c_20b4_11ec_bc54_acde48001122row23_col1,#T_e77ca04c_20b4_11ec_bc54_acde48001122row23_col2,#T_e77ca04c_20b4_11ec_bc54_acde48001122row23_col3,#T_e77ca04c_20b4_11ec_bc54_acde48001122row23_col4,#T_e77ca04c_20b4_11ec_bc54_acde48001122row23_col5,#T_e77ca04c_20b4_11ec_bc54_acde48001122row24_col0,#T_e77ca04c_20b4_11ec_bc54_acde48001122row24_col1,#T_e77ca04c_20b4_11ec_bc54_acde48001122row24_col2,#T_e77ca04c_20b4_11ec_bc54_acde48001122row24_col3,#T_e77ca04c_20b4_11ec_bc54_acde48001122row24_col4,#T_e77ca04c_20b4_11ec_bc54_acde48001122row24_col5{\n",
       "            text-align:  left;\n",
       "            text-align:  left;\n",
       "        }#T_e77ca04c_20b4_11ec_bc54_acde48001122row0_col1,#T_e77ca04c_20b4_11ec_bc54_acde48001122row0_col2,#T_e77ca04c_20b4_11ec_bc54_acde48001122row0_col3,#T_e77ca04c_20b4_11ec_bc54_acde48001122row0_col5,#T_e77ca04c_20b4_11ec_bc54_acde48001122row17_col4{\n",
       "            text-align:  left;\n",
       "            text-align:  left;\n",
       "            background-color:  yellow;\n",
       "        }#T_e77ca04c_20b4_11ec_bc54_acde48001122row0_col6,#T_e77ca04c_20b4_11ec_bc54_acde48001122row1_col6,#T_e77ca04c_20b4_11ec_bc54_acde48001122row2_col6,#T_e77ca04c_20b4_11ec_bc54_acde48001122row3_col6,#T_e77ca04c_20b4_11ec_bc54_acde48001122row4_col6,#T_e77ca04c_20b4_11ec_bc54_acde48001122row5_col6,#T_e77ca04c_20b4_11ec_bc54_acde48001122row6_col6,#T_e77ca04c_20b4_11ec_bc54_acde48001122row7_col6,#T_e77ca04c_20b4_11ec_bc54_acde48001122row9_col6,#T_e77ca04c_20b4_11ec_bc54_acde48001122row10_col6,#T_e77ca04c_20b4_11ec_bc54_acde48001122row11_col6,#T_e77ca04c_20b4_11ec_bc54_acde48001122row12_col6,#T_e77ca04c_20b4_11ec_bc54_acde48001122row13_col6,#T_e77ca04c_20b4_11ec_bc54_acde48001122row14_col6,#T_e77ca04c_20b4_11ec_bc54_acde48001122row15_col6,#T_e77ca04c_20b4_11ec_bc54_acde48001122row16_col6,#T_e77ca04c_20b4_11ec_bc54_acde48001122row17_col6,#T_e77ca04c_20b4_11ec_bc54_acde48001122row18_col6,#T_e77ca04c_20b4_11ec_bc54_acde48001122row19_col6,#T_e77ca04c_20b4_11ec_bc54_acde48001122row20_col6,#T_e77ca04c_20b4_11ec_bc54_acde48001122row21_col6,#T_e77ca04c_20b4_11ec_bc54_acde48001122row22_col6,#T_e77ca04c_20b4_11ec_bc54_acde48001122row23_col6,#T_e77ca04c_20b4_11ec_bc54_acde48001122row24_col6{\n",
       "            text-align:  left;\n",
       "            text-align:  left;\n",
       "            background-color:  lightgrey;\n",
       "        }#T_e77ca04c_20b4_11ec_bc54_acde48001122row8_col6{\n",
       "            text-align:  left;\n",
       "            text-align:  left;\n",
       "            background-color:  yellow;\n",
       "            background-color:  lightgrey;\n",
       "        }</style><table id=\"T_e77ca04c_20b4_11ec_bc54_acde48001122\" ><thead>    <tr>        <th class=\"blank level0\" ></th>        <th class=\"col_heading level0 col0\" >Model</th>        <th class=\"col_heading level0 col1\" >MAE</th>        <th class=\"col_heading level0 col2\" >RMSE</th>        <th class=\"col_heading level0 col3\" >MAPE</th>        <th class=\"col_heading level0 col4\" >SMAPE</th>        <th class=\"col_heading level0 col5\" >R2</th>        <th class=\"col_heading level0 col6\" >TT (Sec)</th>    </tr></thead><tbody>\n",
       "                <tr>\n",
       "                        <th id=\"T_e77ca04c_20b4_11ec_bc54_acde48001122level0_row0\" class=\"row_heading level0 row0\" >auto_arima</th>\n",
       "                        <td id=\"T_e77ca04c_20b4_11ec_bc54_acde48001122row0_col0\" class=\"data row0 col0\" >Auto ARIMA</td>\n",
       "                        <td id=\"T_e77ca04c_20b4_11ec_bc54_acde48001122row0_col1\" class=\"data row0 col1\" >1506.6874</td>\n",
       "                        <td id=\"T_e77ca04c_20b4_11ec_bc54_acde48001122row0_col2\" class=\"data row0 col2\" >4071315.0783</td>\n",
       "                        <td id=\"T_e77ca04c_20b4_11ec_bc54_acde48001122row0_col3\" class=\"data row0 col3\" >1.0730</td>\n",
       "                        <td id=\"T_e77ca04c_20b4_11ec_bc54_acde48001122row0_col4\" class=\"data row0 col4\" >1.8795</td>\n",
       "                        <td id=\"T_e77ca04c_20b4_11ec_bc54_acde48001122row0_col5\" class=\"data row0 col5\" >-0.0317</td>\n",
       "                        <td id=\"T_e77ca04c_20b4_11ec_bc54_acde48001122row0_col6\" class=\"data row0 col6\" >0.1733</td>\n",
       "            </tr>\n",
       "            <tr>\n",
       "                        <th id=\"T_e77ca04c_20b4_11ec_bc54_acde48001122level0_row1\" class=\"row_heading level0 row1\" >arima</th>\n",
       "                        <td id=\"T_e77ca04c_20b4_11ec_bc54_acde48001122row1_col0\" class=\"data row1 col0\" >ARIMA</td>\n",
       "                        <td id=\"T_e77ca04c_20b4_11ec_bc54_acde48001122row1_col1\" class=\"data row1 col1\" >1514.5486</td>\n",
       "                        <td id=\"T_e77ca04c_20b4_11ec_bc54_acde48001122row1_col2\" class=\"data row1 col2\" >4078818.0565</td>\n",
       "                        <td id=\"T_e77ca04c_20b4_11ec_bc54_acde48001122row1_col3\" class=\"data row1 col3\" >1.9021</td>\n",
       "                        <td id=\"T_e77ca04c_20b4_11ec_bc54_acde48001122row1_col4\" class=\"data row1 col4\" >1.6510</td>\n",
       "                        <td id=\"T_e77ca04c_20b4_11ec_bc54_acde48001122row1_col5\" class=\"data row1 col5\" >-0.0340</td>\n",
       "                        <td id=\"T_e77ca04c_20b4_11ec_bc54_acde48001122row1_col6\" class=\"data row1 col6\" >0.5167</td>\n",
       "            </tr>\n",
       "            <tr>\n",
       "                        <th id=\"T_e77ca04c_20b4_11ec_bc54_acde48001122level0_row2\" class=\"row_heading level0 row2\" >dt_cds_dt</th>\n",
       "                        <td id=\"T_e77ca04c_20b4_11ec_bc54_acde48001122row2_col0\" class=\"data row2 col0\" >Decision Tree w/ Cond. Deseasonalize & Detrending</td>\n",
       "                        <td id=\"T_e77ca04c_20b4_11ec_bc54_acde48001122row2_col1\" class=\"data row2 col1\" >2213.8097</td>\n",
       "                        <td id=\"T_e77ca04c_20b4_11ec_bc54_acde48001122row2_col2\" class=\"data row2 col2\" >8088001.1087</td>\n",
       "                        <td id=\"T_e77ca04c_20b4_11ec_bc54_acde48001122row2_col3\" class=\"data row2 col3\" >3.9698</td>\n",
       "                        <td id=\"T_e77ca04c_20b4_11ec_bc54_acde48001122row2_col4\" class=\"data row2 col4\" >1.5377</td>\n",
       "                        <td id=\"T_e77ca04c_20b4_11ec_bc54_acde48001122row2_col5\" class=\"data row2 col5\" >-1.4084</td>\n",
       "                        <td id=\"T_e77ca04c_20b4_11ec_bc54_acde48001122row2_col6\" class=\"data row2 col6\" >0.1533</td>\n",
       "            </tr>\n",
       "            <tr>\n",
       "                        <th id=\"T_e77ca04c_20b4_11ec_bc54_acde48001122level0_row3\" class=\"row_heading level0 row3\" >gbr_cds_dt</th>\n",
       "                        <td id=\"T_e77ca04c_20b4_11ec_bc54_acde48001122row3_col0\" class=\"data row3 col0\" >Gradient Boosting w/ Cond. Deseasonalize & Detrending</td>\n",
       "                        <td id=\"T_e77ca04c_20b4_11ec_bc54_acde48001122row3_col1\" class=\"data row3 col1\" >1792.3059</td>\n",
       "                        <td id=\"T_e77ca04c_20b4_11ec_bc54_acde48001122row3_col2\" class=\"data row3 col2\" >5388717.8296</td>\n",
       "                        <td id=\"T_e77ca04c_20b4_11ec_bc54_acde48001122row3_col3\" class=\"data row3 col3\" >4.1132</td>\n",
       "                        <td id=\"T_e77ca04c_20b4_11ec_bc54_acde48001122row3_col4\" class=\"data row3 col4\" >1.5505</td>\n",
       "                        <td id=\"T_e77ca04c_20b4_11ec_bc54_acde48001122row3_col5\" class=\"data row3 col5\" >-0.4244</td>\n",
       "                        <td id=\"T_e77ca04c_20b4_11ec_bc54_acde48001122row3_col6\" class=\"data row3 col6\" >0.1067</td>\n",
       "            </tr>\n",
       "            <tr>\n",
       "                        <th id=\"T_e77ca04c_20b4_11ec_bc54_acde48001122level0_row4\" class=\"row_heading level0 row4\" >theta</th>\n",
       "                        <td id=\"T_e77ca04c_20b4_11ec_bc54_acde48001122row4_col0\" class=\"data row4 col0\" >Theta Forecaster</td>\n",
       "                        <td id=\"T_e77ca04c_20b4_11ec_bc54_acde48001122row4_col1\" class=\"data row4 col1\" >1595.3121</td>\n",
       "                        <td id=\"T_e77ca04c_20b4_11ec_bc54_acde48001122row4_col2\" class=\"data row4 col2\" >4401788.1000</td>\n",
       "                        <td id=\"T_e77ca04c_20b4_11ec_bc54_acde48001122row4_col3\" class=\"data row4 col3\" >4.5469</td>\n",
       "                        <td id=\"T_e77ca04c_20b4_11ec_bc54_acde48001122row4_col4\" class=\"data row4 col4\" >1.5321</td>\n",
       "                        <td id=\"T_e77ca04c_20b4_11ec_bc54_acde48001122row4_col5\" class=\"data row4 col5\" >-0.1484</td>\n",
       "                        <td id=\"T_e77ca04c_20b4_11ec_bc54_acde48001122row4_col6\" class=\"data row4 col6\" >0.0333</td>\n",
       "            </tr>\n",
       "            <tr>\n",
       "                        <th id=\"T_e77ca04c_20b4_11ec_bc54_acde48001122level0_row5\" class=\"row_heading level0 row5\" >br_cds_dt</th>\n",
       "                        <td id=\"T_e77ca04c_20b4_11ec_bc54_acde48001122row5_col0\" class=\"data row5 col0\" >Bayesian Ridge w/ Cond. Deseasonalize & Detrending</td>\n",
       "                        <td id=\"T_e77ca04c_20b4_11ec_bc54_acde48001122row5_col1\" class=\"data row5 col1\" >1600.2756</td>\n",
       "                        <td id=\"T_e77ca04c_20b4_11ec_bc54_acde48001122row5_col2\" class=\"data row5 col2\" >4353829.5905</td>\n",
       "                        <td id=\"T_e77ca04c_20b4_11ec_bc54_acde48001122row5_col3\" class=\"data row5 col3\" >4.8671</td>\n",
       "                        <td id=\"T_e77ca04c_20b4_11ec_bc54_acde48001122row5_col4\" class=\"data row5 col4\" >1.5699</td>\n",
       "                        <td id=\"T_e77ca04c_20b4_11ec_bc54_acde48001122row5_col5\" class=\"data row5 col5\" >-0.1644</td>\n",
       "                        <td id=\"T_e77ca04c_20b4_11ec_bc54_acde48001122row5_col6\" class=\"data row5 col6\" >0.1000</td>\n",
       "            </tr>\n",
       "            <tr>\n",
       "                        <th id=\"T_e77ca04c_20b4_11ec_bc54_acde48001122level0_row6\" class=\"row_heading level0 row6\" >omp_cds_dt</th>\n",
       "                        <td id=\"T_e77ca04c_20b4_11ec_bc54_acde48001122row6_col0\" class=\"data row6 col0\" >Orthogonal Matching Pursuit w/ Cond. Deseasonalize & Detrending</td>\n",
       "                        <td id=\"T_e77ca04c_20b4_11ec_bc54_acde48001122row6_col1\" class=\"data row6 col1\" >1611.0566</td>\n",
       "                        <td id=\"T_e77ca04c_20b4_11ec_bc54_acde48001122row6_col2\" class=\"data row6 col2\" >4412393.5438</td>\n",
       "                        <td id=\"T_e77ca04c_20b4_11ec_bc54_acde48001122row6_col3\" class=\"data row6 col3\" >4.9458</td>\n",
       "                        <td id=\"T_e77ca04c_20b4_11ec_bc54_acde48001122row6_col4\" class=\"data row6 col4\" >1.5584</td>\n",
       "                        <td id=\"T_e77ca04c_20b4_11ec_bc54_acde48001122row6_col5\" class=\"data row6 col5\" >-0.1779</td>\n",
       "                        <td id=\"T_e77ca04c_20b4_11ec_bc54_acde48001122row6_col6\" class=\"data row6 col6\" >0.0800</td>\n",
       "            </tr>\n",
       "            <tr>\n",
       "                        <th id=\"T_e77ca04c_20b4_11ec_bc54_acde48001122level0_row7\" class=\"row_heading level0 row7\" >llar_cds_dt</th>\n",
       "                        <td id=\"T_e77ca04c_20b4_11ec_bc54_acde48001122row7_col0\" class=\"data row7 col0\" >Lasso Least Angular Regressor w/ Cond. Deseasonalize & Detrending</td>\n",
       "                        <td id=\"T_e77ca04c_20b4_11ec_bc54_acde48001122row7_col1\" class=\"data row7 col1\" >1663.3397</td>\n",
       "                        <td id=\"T_e77ca04c_20b4_11ec_bc54_acde48001122row7_col2\" class=\"data row7 col2\" >4689605.1268</td>\n",
       "                        <td id=\"T_e77ca04c_20b4_11ec_bc54_acde48001122row7_col3\" class=\"data row7 col3\" >5.1548</td>\n",
       "                        <td id=\"T_e77ca04c_20b4_11ec_bc54_acde48001122row7_col4\" class=\"data row7 col4\" >1.5474</td>\n",
       "                        <td id=\"T_e77ca04c_20b4_11ec_bc54_acde48001122row7_col5\" class=\"data row7 col5\" >-0.2489</td>\n",
       "                        <td id=\"T_e77ca04c_20b4_11ec_bc54_acde48001122row7_col6\" class=\"data row7 col6\" >0.0833</td>\n",
       "            </tr>\n",
       "            <tr>\n",
       "                        <th id=\"T_e77ca04c_20b4_11ec_bc54_acde48001122level0_row8\" class=\"row_heading level0 row8\" >polytrend</th>\n",
       "                        <td id=\"T_e77ca04c_20b4_11ec_bc54_acde48001122row8_col0\" class=\"data row8 col0\" >Polynomial Trend Forecaster</td>\n",
       "                        <td id=\"T_e77ca04c_20b4_11ec_bc54_acde48001122row8_col1\" class=\"data row8 col1\" >1620.6914</td>\n",
       "                        <td id=\"T_e77ca04c_20b4_11ec_bc54_acde48001122row8_col2\" class=\"data row8 col2\" >4455590.0319</td>\n",
       "                        <td id=\"T_e77ca04c_20b4_11ec_bc54_acde48001122row8_col3\" class=\"data row8 col3\" >5.2120</td>\n",
       "                        <td id=\"T_e77ca04c_20b4_11ec_bc54_acde48001122row8_col4\" class=\"data row8 col4\" >1.5401</td>\n",
       "                        <td id=\"T_e77ca04c_20b4_11ec_bc54_acde48001122row8_col5\" class=\"data row8 col5\" >-0.1871</td>\n",
       "                        <td id=\"T_e77ca04c_20b4_11ec_bc54_acde48001122row8_col6\" class=\"data row8 col6\" >0.0233</td>\n",
       "            </tr>\n",
       "            <tr>\n",
       "                        <th id=\"T_e77ca04c_20b4_11ec_bc54_acde48001122level0_row9\" class=\"row_heading level0 row9\" >en_cds_dt</th>\n",
       "                        <td id=\"T_e77ca04c_20b4_11ec_bc54_acde48001122row9_col0\" class=\"data row9 col0\" >Elastic Net w/ Cond. Deseasonalize & Detrending</td>\n",
       "                        <td id=\"T_e77ca04c_20b4_11ec_bc54_acde48001122row9_col1\" class=\"data row9 col1\" >1666.1017</td>\n",
       "                        <td id=\"T_e77ca04c_20b4_11ec_bc54_acde48001122row9_col2\" class=\"data row9 col2\" >4708806.1136</td>\n",
       "                        <td id=\"T_e77ca04c_20b4_11ec_bc54_acde48001122row9_col3\" class=\"data row9 col3\" >5.2170</td>\n",
       "                        <td id=\"T_e77ca04c_20b4_11ec_bc54_acde48001122row9_col4\" class=\"data row9 col4\" >1.5487</td>\n",
       "                        <td id=\"T_e77ca04c_20b4_11ec_bc54_acde48001122row9_col5\" class=\"data row9 col5\" >-0.2540</td>\n",
       "                        <td id=\"T_e77ca04c_20b4_11ec_bc54_acde48001122row9_col6\" class=\"data row9 col6\" >0.0800</td>\n",
       "            </tr>\n",
       "            <tr>\n",
       "                        <th id=\"T_e77ca04c_20b4_11ec_bc54_acde48001122level0_row10\" class=\"row_heading level0 row10\" >lar_cds_dt</th>\n",
       "                        <td id=\"T_e77ca04c_20b4_11ec_bc54_acde48001122row10_col0\" class=\"data row10 col0\" >Least Angular Regressor w/ Cond. Deseasonalize & Detrending</td>\n",
       "                        <td id=\"T_e77ca04c_20b4_11ec_bc54_acde48001122row10_col1\" class=\"data row10 col1\" >1666.1019</td>\n",
       "                        <td id=\"T_e77ca04c_20b4_11ec_bc54_acde48001122row10_col2\" class=\"data row10 col2\" >4708807.1990</td>\n",
       "                        <td id=\"T_e77ca04c_20b4_11ec_bc54_acde48001122row10_col3\" class=\"data row10 col3\" >5.2170</td>\n",
       "                        <td id=\"T_e77ca04c_20b4_11ec_bc54_acde48001122row10_col4\" class=\"data row10 col4\" >1.5487</td>\n",
       "                        <td id=\"T_e77ca04c_20b4_11ec_bc54_acde48001122row10_col5\" class=\"data row10 col5\" >-0.2540</td>\n",
       "                        <td id=\"T_e77ca04c_20b4_11ec_bc54_acde48001122row10_col6\" class=\"data row10 col6\" >0.1067</td>\n",
       "            </tr>\n",
       "            <tr>\n",
       "                        <th id=\"T_e77ca04c_20b4_11ec_bc54_acde48001122level0_row11\" class=\"row_heading level0 row11\" >ridge_cds_dt</th>\n",
       "                        <td id=\"T_e77ca04c_20b4_11ec_bc54_acde48001122row11_col0\" class=\"data row11 col0\" >Ridge w/ Cond. Deseasonalize & Detrending</td>\n",
       "                        <td id=\"T_e77ca04c_20b4_11ec_bc54_acde48001122row11_col1\" class=\"data row11 col1\" >1666.1019</td>\n",
       "                        <td id=\"T_e77ca04c_20b4_11ec_bc54_acde48001122row11_col2\" class=\"data row11 col2\" >4708807.1793</td>\n",
       "                        <td id=\"T_e77ca04c_20b4_11ec_bc54_acde48001122row11_col3\" class=\"data row11 col3\" >5.2170</td>\n",
       "                        <td id=\"T_e77ca04c_20b4_11ec_bc54_acde48001122row11_col4\" class=\"data row11 col4\" >1.5487</td>\n",
       "                        <td id=\"T_e77ca04c_20b4_11ec_bc54_acde48001122row11_col5\" class=\"data row11 col5\" >-0.2540</td>\n",
       "                        <td id=\"T_e77ca04c_20b4_11ec_bc54_acde48001122row11_col6\" class=\"data row11 col6\" >0.1067</td>\n",
       "            </tr>\n",
       "            <tr>\n",
       "                        <th id=\"T_e77ca04c_20b4_11ec_bc54_acde48001122level0_row12\" class=\"row_heading level0 row12\" >lr_cds_dt</th>\n",
       "                        <td id=\"T_e77ca04c_20b4_11ec_bc54_acde48001122row12_col0\" class=\"data row12 col0\" >Linear w/ Cond. Deseasonalize & Detrending</td>\n",
       "                        <td id=\"T_e77ca04c_20b4_11ec_bc54_acde48001122row12_col1\" class=\"data row12 col1\" >1666.1019</td>\n",
       "                        <td id=\"T_e77ca04c_20b4_11ec_bc54_acde48001122row12_col2\" class=\"data row12 col2\" >4708807.1990</td>\n",
       "                        <td id=\"T_e77ca04c_20b4_11ec_bc54_acde48001122row12_col3\" class=\"data row12 col3\" >5.2170</td>\n",
       "                        <td id=\"T_e77ca04c_20b4_11ec_bc54_acde48001122row12_col4\" class=\"data row12 col4\" >1.5487</td>\n",
       "                        <td id=\"T_e77ca04c_20b4_11ec_bc54_acde48001122row12_col5\" class=\"data row12 col5\" >-0.2540</td>\n",
       "                        <td id=\"T_e77ca04c_20b4_11ec_bc54_acde48001122row12_col6\" class=\"data row12 col6\" >0.0867</td>\n",
       "            </tr>\n",
       "            <tr>\n",
       "                        <th id=\"T_e77ca04c_20b4_11ec_bc54_acde48001122level0_row13\" class=\"row_heading level0 row13\" >lasso_cds_dt</th>\n",
       "                        <td id=\"T_e77ca04c_20b4_11ec_bc54_acde48001122row13_col0\" class=\"data row13 col0\" >Lasso w/ Cond. Deseasonalize & Detrending</td>\n",
       "                        <td id=\"T_e77ca04c_20b4_11ec_bc54_acde48001122row13_col1\" class=\"data row13 col1\" >1666.1017</td>\n",
       "                        <td id=\"T_e77ca04c_20b4_11ec_bc54_acde48001122row13_col2\" class=\"data row13 col2\" >4708805.6962</td>\n",
       "                        <td id=\"T_e77ca04c_20b4_11ec_bc54_acde48001122row13_col3\" class=\"data row13 col3\" >5.2170</td>\n",
       "                        <td id=\"T_e77ca04c_20b4_11ec_bc54_acde48001122row13_col4\" class=\"data row13 col4\" >1.5487</td>\n",
       "                        <td id=\"T_e77ca04c_20b4_11ec_bc54_acde48001122row13_col5\" class=\"data row13 col5\" >-0.2540</td>\n",
       "                        <td id=\"T_e77ca04c_20b4_11ec_bc54_acde48001122row13_col6\" class=\"data row13 col6\" >0.1067</td>\n",
       "            </tr>\n",
       "            <tr>\n",
       "                        <th id=\"T_e77ca04c_20b4_11ec_bc54_acde48001122level0_row14\" class=\"row_heading level0 row14\" >rf_cds_dt</th>\n",
       "                        <td id=\"T_e77ca04c_20b4_11ec_bc54_acde48001122row14_col0\" class=\"data row14 col0\" >Random Forest w/ Cond. Deseasonalize & Detrending</td>\n",
       "                        <td id=\"T_e77ca04c_20b4_11ec_bc54_acde48001122row14_col1\" class=\"data row14 col1\" >1648.5811</td>\n",
       "                        <td id=\"T_e77ca04c_20b4_11ec_bc54_acde48001122row14_col2\" class=\"data row14 col2\" >4599939.3004</td>\n",
       "                        <td id=\"T_e77ca04c_20b4_11ec_bc54_acde48001122row14_col3\" class=\"data row14 col3\" >5.5242</td>\n",
       "                        <td id=\"T_e77ca04c_20b4_11ec_bc54_acde48001122row14_col4\" class=\"data row14 col4\" >1.5126</td>\n",
       "                        <td id=\"T_e77ca04c_20b4_11ec_bc54_acde48001122row14_col5\" class=\"data row14 col5\" >-0.2257</td>\n",
       "                        <td id=\"T_e77ca04c_20b4_11ec_bc54_acde48001122row14_col6\" class=\"data row14 col6\" >2.3067</td>\n",
       "            </tr>\n",
       "            <tr>\n",
       "                        <th id=\"T_e77ca04c_20b4_11ec_bc54_acde48001122level0_row15\" class=\"row_heading level0 row15\" >et_cds_dt</th>\n",
       "                        <td id=\"T_e77ca04c_20b4_11ec_bc54_acde48001122row15_col0\" class=\"data row15 col0\" >Extra Trees w/ Cond. Deseasonalize & Detrending</td>\n",
       "                        <td id=\"T_e77ca04c_20b4_11ec_bc54_acde48001122row15_col1\" class=\"data row15 col1\" >1632.5491</td>\n",
       "                        <td id=\"T_e77ca04c_20b4_11ec_bc54_acde48001122row15_col2\" class=\"data row15 col2\" >4692183.9931</td>\n",
       "                        <td id=\"T_e77ca04c_20b4_11ec_bc54_acde48001122row15_col3\" class=\"data row15 col3\" >5.6892</td>\n",
       "                        <td id=\"T_e77ca04c_20b4_11ec_bc54_acde48001122row15_col4\" class=\"data row15 col4\" >1.4601</td>\n",
       "                        <td id=\"T_e77ca04c_20b4_11ec_bc54_acde48001122row15_col5\" class=\"data row15 col5\" >-0.2338</td>\n",
       "                        <td id=\"T_e77ca04c_20b4_11ec_bc54_acde48001122row15_col6\" class=\"data row15 col6\" >2.1700</td>\n",
       "            </tr>\n",
       "            <tr>\n",
       "                        <th id=\"T_e77ca04c_20b4_11ec_bc54_acde48001122level0_row16\" class=\"row_heading level0 row16\" >ets</th>\n",
       "                        <td id=\"T_e77ca04c_20b4_11ec_bc54_acde48001122row16_col0\" class=\"data row16 col0\" >ETS</td>\n",
       "                        <td id=\"T_e77ca04c_20b4_11ec_bc54_acde48001122row16_col1\" class=\"data row16 col1\" >1642.2312</td>\n",
       "                        <td id=\"T_e77ca04c_20b4_11ec_bc54_acde48001122row16_col2\" class=\"data row16 col2\" >4648843.1166</td>\n",
       "                        <td id=\"T_e77ca04c_20b4_11ec_bc54_acde48001122row16_col3\" class=\"data row16 col3\" >5.7493</td>\n",
       "                        <td id=\"T_e77ca04c_20b4_11ec_bc54_acde48001122row16_col4\" class=\"data row16 col4\" >1.6057</td>\n",
       "                        <td id=\"T_e77ca04c_20b4_11ec_bc54_acde48001122row16_col5\" class=\"data row16 col5\" >-0.1850</td>\n",
       "                        <td id=\"T_e77ca04c_20b4_11ec_bc54_acde48001122row16_col6\" class=\"data row16 col6\" >0.0467</td>\n",
       "            </tr>\n",
       "            <tr>\n",
       "                        <th id=\"T_e77ca04c_20b4_11ec_bc54_acde48001122level0_row17\" class=\"row_heading level0 row17\" >ada_cds_dt</th>\n",
       "                        <td id=\"T_e77ca04c_20b4_11ec_bc54_acde48001122row17_col0\" class=\"data row17 col0\" >AdaBoost w/ Cond. Deseasonalize & Detrending</td>\n",
       "                        <td id=\"T_e77ca04c_20b4_11ec_bc54_acde48001122row17_col1\" class=\"data row17 col1\" >1633.3856</td>\n",
       "                        <td id=\"T_e77ca04c_20b4_11ec_bc54_acde48001122row17_col2\" class=\"data row17 col2\" >4602710.5412</td>\n",
       "                        <td id=\"T_e77ca04c_20b4_11ec_bc54_acde48001122row17_col3\" class=\"data row17 col3\" >5.7568</td>\n",
       "                        <td id=\"T_e77ca04c_20b4_11ec_bc54_acde48001122row17_col4\" class=\"data row17 col4\" >1.3754</td>\n",
       "                        <td id=\"T_e77ca04c_20b4_11ec_bc54_acde48001122row17_col5\" class=\"data row17 col5\" >-0.2466</td>\n",
       "                        <td id=\"T_e77ca04c_20b4_11ec_bc54_acde48001122row17_col6\" class=\"data row17 col6\" >0.2633</td>\n",
       "            </tr>\n",
       "            <tr>\n",
       "                        <th id=\"T_e77ca04c_20b4_11ec_bc54_acde48001122level0_row18\" class=\"row_heading level0 row18\" >lightgbm_cds_dt</th>\n",
       "                        <td id=\"T_e77ca04c_20b4_11ec_bc54_acde48001122row18_col0\" class=\"data row18 col0\" >Light Gradient Boosting w/ Cond. Deseasonalize & Detrending</td>\n",
       "                        <td id=\"T_e77ca04c_20b4_11ec_bc54_acde48001122row18_col1\" class=\"data row18 col1\" >1685.1759</td>\n",
       "                        <td id=\"T_e77ca04c_20b4_11ec_bc54_acde48001122row18_col2\" class=\"data row18 col2\" >4488529.6658</td>\n",
       "                        <td id=\"T_e77ca04c_20b4_11ec_bc54_acde48001122row18_col3\" class=\"data row18 col3\" >6.7242</td>\n",
       "                        <td id=\"T_e77ca04c_20b4_11ec_bc54_acde48001122row18_col4\" class=\"data row18 col4\" >1.4306</td>\n",
       "                        <td id=\"T_e77ca04c_20b4_11ec_bc54_acde48001122row18_col5\" class=\"data row18 col5\" >-0.2182</td>\n",
       "                        <td id=\"T_e77ca04c_20b4_11ec_bc54_acde48001122row18_col6\" class=\"data row18 col6\" >0.0767</td>\n",
       "            </tr>\n",
       "            <tr>\n",
       "                        <th id=\"T_e77ca04c_20b4_11ec_bc54_acde48001122level0_row19\" class=\"row_heading level0 row19\" >knn_cds_dt</th>\n",
       "                        <td id=\"T_e77ca04c_20b4_11ec_bc54_acde48001122row19_col0\" class=\"data row19 col0\" >K Neighbors w/ Cond. Deseasonalize & Detrending</td>\n",
       "                        <td id=\"T_e77ca04c_20b4_11ec_bc54_acde48001122row19_col1\" class=\"data row19 col1\" >1846.0389</td>\n",
       "                        <td id=\"T_e77ca04c_20b4_11ec_bc54_acde48001122row19_col2\" class=\"data row19 col2\" >5560887.0751</td>\n",
       "                        <td id=\"T_e77ca04c_20b4_11ec_bc54_acde48001122row19_col3\" class=\"data row19 col3\" >7.1571</td>\n",
       "                        <td id=\"T_e77ca04c_20b4_11ec_bc54_acde48001122row19_col4\" class=\"data row19 col4\" >1.4453</td>\n",
       "                        <td id=\"T_e77ca04c_20b4_11ec_bc54_acde48001122row19_col5\" class=\"data row19 col5\" >-0.4280</td>\n",
       "                        <td id=\"T_e77ca04c_20b4_11ec_bc54_acde48001122row19_col6\" class=\"data row19 col6\" >2.1367</td>\n",
       "            </tr>\n",
       "            <tr>\n",
       "                        <th id=\"T_e77ca04c_20b4_11ec_bc54_acde48001122level0_row20\" class=\"row_heading level0 row20\" >naive</th>\n",
       "                        <td id=\"T_e77ca04c_20b4_11ec_bc54_acde48001122row20_col0\" class=\"data row20 col0\" >Naive Forecaster</td>\n",
       "                        <td id=\"T_e77ca04c_20b4_11ec_bc54_acde48001122row20_col1\" class=\"data row20 col1\" >2034.5496</td>\n",
       "                        <td id=\"T_e77ca04c_20b4_11ec_bc54_acde48001122row20_col2\" class=\"data row20 col2\" >6331767.2756</td>\n",
       "                        <td id=\"T_e77ca04c_20b4_11ec_bc54_acde48001122row20_col3\" class=\"data row20 col3\" >8.1831</td>\n",
       "                        <td id=\"T_e77ca04c_20b4_11ec_bc54_acde48001122row20_col4\" class=\"data row20 col4\" >1.6137</td>\n",
       "                        <td id=\"T_e77ca04c_20b4_11ec_bc54_acde48001122row20_col5\" class=\"data row20 col5\" >-1.0323</td>\n",
       "                        <td id=\"T_e77ca04c_20b4_11ec_bc54_acde48001122row20_col6\" class=\"data row20 col6\" >5.2067</td>\n",
       "            </tr>\n",
       "            <tr>\n",
       "                        <th id=\"T_e77ca04c_20b4_11ec_bc54_acde48001122level0_row21\" class=\"row_heading level0 row21\" >snaive</th>\n",
       "                        <td id=\"T_e77ca04c_20b4_11ec_bc54_acde48001122row21_col0\" class=\"data row21 col0\" >Seasonal Naive Forecaster</td>\n",
       "                        <td id=\"T_e77ca04c_20b4_11ec_bc54_acde48001122row21_col1\" class=\"data row21 col1\" >2034.5496</td>\n",
       "                        <td id=\"T_e77ca04c_20b4_11ec_bc54_acde48001122row21_col2\" class=\"data row21 col2\" >6331767.2756</td>\n",
       "                        <td id=\"T_e77ca04c_20b4_11ec_bc54_acde48001122row21_col3\" class=\"data row21 col3\" >8.1831</td>\n",
       "                        <td id=\"T_e77ca04c_20b4_11ec_bc54_acde48001122row21_col4\" class=\"data row21 col4\" >1.6137</td>\n",
       "                        <td id=\"T_e77ca04c_20b4_11ec_bc54_acde48001122row21_col5\" class=\"data row21 col5\" >-1.0323</td>\n",
       "                        <td id=\"T_e77ca04c_20b4_11ec_bc54_acde48001122row21_col6\" class=\"data row21 col6\" >5.0333</td>\n",
       "            </tr>\n",
       "            <tr>\n",
       "                        <th id=\"T_e77ca04c_20b4_11ec_bc54_acde48001122level0_row22\" class=\"row_heading level0 row22\" >exp_smooth</th>\n",
       "                        <td id=\"T_e77ca04c_20b4_11ec_bc54_acde48001122row22_col0\" class=\"data row22 col0\" >Exponential Smoothing</td>\n",
       "                        <td id=\"T_e77ca04c_20b4_11ec_bc54_acde48001122row22_col1\" class=\"data row22 col1\" >2367.2882</td>\n",
       "                        <td id=\"T_e77ca04c_20b4_11ec_bc54_acde48001122row22_col2\" class=\"data row22 col2\" >10246862.9315</td>\n",
       "                        <td id=\"T_e77ca04c_20b4_11ec_bc54_acde48001122row22_col3\" class=\"data row22 col3\" >12.8947</td>\n",
       "                        <td id=\"T_e77ca04c_20b4_11ec_bc54_acde48001122row22_col4\" class=\"data row22 col4\" >1.6149</td>\n",
       "                        <td id=\"T_e77ca04c_20b4_11ec_bc54_acde48001122row22_col5\" class=\"data row22 col5\" >-1.6303</td>\n",
       "                        <td id=\"T_e77ca04c_20b4_11ec_bc54_acde48001122row22_col6\" class=\"data row22 col6\" >0.0633</td>\n",
       "            </tr>\n",
       "            <tr>\n",
       "                        <th id=\"T_e77ca04c_20b4_11ec_bc54_acde48001122level0_row23\" class=\"row_heading level0 row23\" >huber_cds_dt</th>\n",
       "                        <td id=\"T_e77ca04c_20b4_11ec_bc54_acde48001122row23_col0\" class=\"data row23 col0\" >Huber w/ Cond. Deseasonalize & Detrending</td>\n",
       "                        <td id=\"T_e77ca04c_20b4_11ec_bc54_acde48001122row23_col1\" class=\"data row23 col1\" >4029.2582</td>\n",
       "                        <td id=\"T_e77ca04c_20b4_11ec_bc54_acde48001122row23_col2\" class=\"data row23 col2\" >46703251.3084</td>\n",
       "                        <td id=\"T_e77ca04c_20b4_11ec_bc54_acde48001122row23_col3\" class=\"data row23 col3\" >34.0080</td>\n",
       "                        <td id=\"T_e77ca04c_20b4_11ec_bc54_acde48001122row23_col4\" class=\"data row23 col4\" >1.6312</td>\n",
       "                        <td id=\"T_e77ca04c_20b4_11ec_bc54_acde48001122row23_col5\" class=\"data row23 col5\" >-11.0899</td>\n",
       "                        <td id=\"T_e77ca04c_20b4_11ec_bc54_acde48001122row23_col6\" class=\"data row23 col6\" >0.1367</td>\n",
       "            </tr>\n",
       "            <tr>\n",
       "                        <th id=\"T_e77ca04c_20b4_11ec_bc54_acde48001122level0_row24\" class=\"row_heading level0 row24\" >par_cds_dt</th>\n",
       "                        <td id=\"T_e77ca04c_20b4_11ec_bc54_acde48001122row24_col0\" class=\"data row24 col0\" >Passive Aggressive w/ Cond. Deseasonalize & Detrending</td>\n",
       "                        <td id=\"T_e77ca04c_20b4_11ec_bc54_acde48001122row24_col1\" class=\"data row24 col1\" >329417.9887</td>\n",
       "                        <td id=\"T_e77ca04c_20b4_11ec_bc54_acde48001122row24_col2\" class=\"data row24 col2\" >748634060201.6293</td>\n",
       "                        <td id=\"T_e77ca04c_20b4_11ec_bc54_acde48001122row24_col3\" class=\"data row24 col3\" >6193.5276</td>\n",
       "                        <td id=\"T_e77ca04c_20b4_11ec_bc54_acde48001122row24_col4\" class=\"data row24 col4\" >1.7836</td>\n",
       "                        <td id=\"T_e77ca04c_20b4_11ec_bc54_acde48001122row24_col5\" class=\"data row24 col5\" >-234910.6760</td>\n",
       "                        <td id=\"T_e77ca04c_20b4_11ec_bc54_acde48001122row24_col6\" class=\"data row24 col6\" >0.1067</td>\n",
       "            </tr>\n",
       "    </tbody></table>"
      ],
      "text/plain": [
       "<pandas.io.formats.style.Styler at 0x7fa29aca0198>"
      ]
     },
     "metadata": {},
     "output_type": "display_data"
    },
    {
     "name": "stderr",
     "output_type": "stream",
     "text": [
      "INFO:logs:master_model_container: 50\n",
      "INFO:logs:display_container: 2\n",
      "INFO:logs:AutoARIMA(D=None, alpha=0.05, d=None, error_action='warn',\n",
      "          information_criterion='aic', max_D=1, max_P=2, max_Q=2, max_d=2,\n",
      "          max_order=5, max_p=5, max_q=5, maxiter=50, method='lbfgs', n_fits=10,\n",
      "          n_jobs=1, offset_test_args=None, out_of_sample_size=0, random=False,\n",
      "          random_state=42, scoring='mse', scoring_args=None, seasonal=True,\n",
      "          seasonal_test='ocsb', seasonal_test_args=None, sp=1, start_P=1,\n",
      "          start_Q=1, start_p=2, start_params=None, ...)\n",
      "INFO:logs:compare_models() succesfully completed......................................\n"
     ]
    }
   ],
   "source": [
    "best = exp.compare_models(sort = 'MAPE') #mean abs percentage error"
   ]
  },
  {
   "cell_type": "code",
   "execution_count": 135,
   "id": "749f72bf-522b-431f-9564-b68cb74728f3",
   "metadata": {},
   "outputs": [
    {
     "data": {
      "text/html": [
       "<style  type=\"text/css\" >\n",
       "#T_74e5f564_20b5_11ec_a007_acde48001122row3_col0,#T_74e5f564_20b5_11ec_a007_acde48001122row3_col1,#T_74e5f564_20b5_11ec_a007_acde48001122row3_col2,#T_74e5f564_20b5_11ec_a007_acde48001122row3_col3,#T_74e5f564_20b5_11ec_a007_acde48001122row3_col4,#T_74e5f564_20b5_11ec_a007_acde48001122row3_col5{\n",
       "            background:  yellow;\n",
       "        }</style><table id=\"T_74e5f564_20b5_11ec_a007_acde48001122\" ><thead>    <tr>        <th class=\"blank level0\" ></th>        <th class=\"col_heading level0 col0\" >cutoff</th>        <th class=\"col_heading level0 col1\" >MAE</th>        <th class=\"col_heading level0 col2\" >RMSE</th>        <th class=\"col_heading level0 col3\" >MAPE</th>        <th class=\"col_heading level0 col4\" >SMAPE</th>        <th class=\"col_heading level0 col5\" >R2</th>    </tr></thead><tbody>\n",
       "                <tr>\n",
       "                        <th id=\"T_74e5f564_20b5_11ec_a007_acde48001122level0_row0\" class=\"row_heading level0 row0\" >0</th>\n",
       "                        <td id=\"T_74e5f564_20b5_11ec_a007_acde48001122row0_col0\" class=\"data row0 col0\" >2021-02-12</td>\n",
       "                        <td id=\"T_74e5f564_20b5_11ec_a007_acde48001122row0_col1\" class=\"data row0 col1\" >1523.0568</td>\n",
       "                        <td id=\"T_74e5f564_20b5_11ec_a007_acde48001122row0_col2\" class=\"data row0 col2\" >3911492.9634</td>\n",
       "                        <td id=\"T_74e5f564_20b5_11ec_a007_acde48001122row0_col3\" class=\"data row0 col3\" >1.0000</td>\n",
       "                        <td id=\"T_74e5f564_20b5_11ec_a007_acde48001122row0_col4\" class=\"data row0 col4\" >2.0000</td>\n",
       "                        <td id=\"T_74e5f564_20b5_11ec_a007_acde48001122row0_col5\" class=\"data row0 col5\" >-0.0097</td>\n",
       "            </tr>\n",
       "            <tr>\n",
       "                        <th id=\"T_74e5f564_20b5_11ec_a007_acde48001122level0_row1\" class=\"row_heading level0 row1\" >1</th>\n",
       "                        <td id=\"T_74e5f564_20b5_11ec_a007_acde48001122row1_col0\" class=\"data row1 col0\" >2021-04-09</td>\n",
       "                        <td id=\"T_74e5f564_20b5_11ec_a007_acde48001122row1_col1\" class=\"data row1 col1\" >1859.7416</td>\n",
       "                        <td id=\"T_74e5f564_20b5_11ec_a007_acde48001122row1_col2\" class=\"data row1 col2\" >6086558.0791</td>\n",
       "                        <td id=\"T_74e5f564_20b5_11ec_a007_acde48001122row1_col3\" class=\"data row1 col3\" >1.2190</td>\n",
       "                        <td id=\"T_74e5f564_20b5_11ec_a007_acde48001122row1_col4\" class=\"data row1 col4\" >1.6385</td>\n",
       "                        <td id=\"T_74e5f564_20b5_11ec_a007_acde48001122row1_col5\" class=\"data row1 col5\" >-0.0811</td>\n",
       "            </tr>\n",
       "            <tr>\n",
       "                        <th id=\"T_74e5f564_20b5_11ec_a007_acde48001122level0_row2\" class=\"row_heading level0 row2\" >2</th>\n",
       "                        <td id=\"T_74e5f564_20b5_11ec_a007_acde48001122row2_col0\" class=\"data row2 col0\" >2021-06-04</td>\n",
       "                        <td id=\"T_74e5f564_20b5_11ec_a007_acde48001122row2_col1\" class=\"data row2 col1\" >1137.2637</td>\n",
       "                        <td id=\"T_74e5f564_20b5_11ec_a007_acde48001122row2_col2\" class=\"data row2 col2\" >2215894.1924</td>\n",
       "                        <td id=\"T_74e5f564_20b5_11ec_a007_acde48001122row2_col3\" class=\"data row2 col3\" >1.0000</td>\n",
       "                        <td id=\"T_74e5f564_20b5_11ec_a007_acde48001122row2_col4\" class=\"data row2 col4\" >2.0000</td>\n",
       "                        <td id=\"T_74e5f564_20b5_11ec_a007_acde48001122row2_col5\" class=\"data row2 col5\" >-0.0042</td>\n",
       "            </tr>\n",
       "            <tr>\n",
       "                        <th id=\"T_74e5f564_20b5_11ec_a007_acde48001122level0_row3\" class=\"row_heading level0 row3\" >Mean</th>\n",
       "                        <td id=\"T_74e5f564_20b5_11ec_a007_acde48001122row3_col0\" class=\"data row3 col0\" >nan</td>\n",
       "                        <td id=\"T_74e5f564_20b5_11ec_a007_acde48001122row3_col1\" class=\"data row3 col1\" >1506.6874</td>\n",
       "                        <td id=\"T_74e5f564_20b5_11ec_a007_acde48001122row3_col2\" class=\"data row3 col2\" >4071315.0783</td>\n",
       "                        <td id=\"T_74e5f564_20b5_11ec_a007_acde48001122row3_col3\" class=\"data row3 col3\" >1.0730</td>\n",
       "                        <td id=\"T_74e5f564_20b5_11ec_a007_acde48001122row3_col4\" class=\"data row3 col4\" >1.8795</td>\n",
       "                        <td id=\"T_74e5f564_20b5_11ec_a007_acde48001122row3_col5\" class=\"data row3 col5\" >-0.0317</td>\n",
       "            </tr>\n",
       "            <tr>\n",
       "                        <th id=\"T_74e5f564_20b5_11ec_a007_acde48001122level0_row4\" class=\"row_heading level0 row4\" >SD</th>\n",
       "                        <td id=\"T_74e5f564_20b5_11ec_a007_acde48001122row4_col0\" class=\"data row4 col0\" >nan</td>\n",
       "                        <td id=\"T_74e5f564_20b5_11ec_a007_acde48001122row4_col1\" class=\"data row4 col1\" >295.1774</td>\n",
       "                        <td id=\"T_74e5f564_20b5_11ec_a007_acde48001122row4_col2\" class=\"data row4 col2\" >1584227.9007</td>\n",
       "                        <td id=\"T_74e5f564_20b5_11ec_a007_acde48001122row4_col3\" class=\"data row4 col3\" >0.1032</td>\n",
       "                        <td id=\"T_74e5f564_20b5_11ec_a007_acde48001122row4_col4\" class=\"data row4 col4\" >0.1704</td>\n",
       "                        <td id=\"T_74e5f564_20b5_11ec_a007_acde48001122row4_col5\" class=\"data row4 col5\" >0.0350</td>\n",
       "            </tr>\n",
       "    </tbody></table>"
      ],
      "text/plain": [
       "<pandas.io.formats.style.Styler at 0x7fa2a2517128>"
      ]
     },
     "metadata": {},
     "output_type": "display_data"
    },
    {
     "name": "stderr",
     "output_type": "stream",
     "text": [
      "INFO:logs:master_model_container: 52\n",
      "INFO:logs:display_container: 4\n",
      "INFO:logs:AutoARIMA(D=None, alpha=0.05, d=None, error_action='warn',\n",
      "          information_criterion='aic', max_D=1, max_P=2, max_Q=2, max_d=2,\n",
      "          max_order=5, max_p=5, max_q=5, maxiter=50, method='lbfgs', n_fits=10,\n",
      "          n_jobs=1, offset_test_args=None, out_of_sample_size=0, random=False,\n",
      "          random_state=42, scoring='mse', scoring_args=None, seasonal=True,\n",
      "          seasonal_test='ocsb', seasonal_test_args=None, sp=1, start_P=1,\n",
      "          start_Q=1, start_p=2, start_params=None, ...)\n",
      "INFO:logs:create_model() successfully completed......................................\n"
     ]
    },
    {
     "data": {
      "text/plain": [
       "AutoARIMA(D=None, alpha=0.05, d=None, error_action='warn',\n",
       "          information_criterion='aic', max_D=1, max_P=2, max_Q=2, max_d=2,\n",
       "          max_order=5, max_p=5, max_q=5, maxiter=50, method='lbfgs', n_fits=10,\n",
       "          n_jobs=1, offset_test_args=None, out_of_sample_size=0, random=False,\n",
       "          random_state=42, scoring='mse', scoring_args=None, seasonal=True,\n",
       "          seasonal_test='ocsb', seasonal_test_args=None, sp=1, start_P=1,\n",
       "          start_Q=1, start_p=2, start_params=None, ...)"
      ]
     },
     "execution_count": 135,
     "metadata": {},
     "output_type": "execute_result"
    }
   ],
   "source": [
    "## Create a model manually\n",
    "model = exp.create_model(\"auto_arima\")\n",
    "model"
   ]
  },
  {
   "cell_type": "code",
   "execution_count": 136,
   "id": "9bf51bf5-7370-439c-b9e8-23dbc2d00278",
   "metadata": {},
   "outputs": [
    {
     "name": "stderr",
     "output_type": "stream",
     "text": [
      "INFO:logs:Initializing get_config()\n",
      "INFO:logs:get_config(variable=y_train, self=<pycaret.internal.pycaret_experiment.time_series_experiment.TimeSeriesExperiment object at 0x7fa2a2e0bd68>)\n",
      "INFO:logs:Variable: y_train returned as date\n",
      "2021-01-01     408.06\n",
      "2021-01-02    2846.64\n",
      "2021-01-03     821.72\n",
      "2021-01-04   -1011.34\n",
      "2021-01-05    1960.82\n",
      "               ...   \n",
      "2021-07-26    1856.58\n",
      "2021-07-27    2220.27\n",
      "2021-07-28     561.69\n",
      "2021-07-29      -3.08\n",
      "2021-07-30    2189.89\n",
      "Freq: D, Name: close_diff, Length: 211, dtype: float64\n",
      "INFO:logs:get_config() succesfully completed......................................\n"
     ]
    },
    {
     "data": {
      "text/plain": [
       "date\n",
       "2021-01-01     408.06\n",
       "2021-01-02    2846.64\n",
       "2021-01-03     821.72\n",
       "2021-01-04   -1011.34\n",
       "2021-01-05    1960.82\n",
       "Freq: D, Name: close_diff, dtype: float64"
      ]
     },
     "execution_count": 136,
     "metadata": {},
     "output_type": "execute_result"
    }
   ],
   "source": [
    "y_train = exp.get_config(\"y_train\")\n",
    "y_train[:5]"
   ]
  },
  {
   "cell_type": "code",
   "execution_count": 140,
   "id": "ca576426-4f73-41b7-b521-9d8245803934",
   "metadata": {},
   "outputs": [],
   "source": [
    "copy_df = df.squeeze()"
   ]
  },
  {
   "cell_type": "code",
   "execution_count": 144,
   "id": "d96b7cf2-60a0-4d7f-ab88-29494ad2c7b1",
   "metadata": {},
   "outputs": [
    {
     "name": "stderr",
     "output_type": "stream",
     "text": [
      "INFO:logs:Preparing display monitor\n"
     ]
    },
    {
     "data": {
      "text/html": [
       "<style  type=\"text/css\" >\n",
       "</style><table id=\"T_094ff51a_20b6_11ec_8525_acde48001122\" ><thead>    <tr>        <th class=\"blank level0\" ></th>        <th class=\"col_heading level0 col0\" >Model</th>        <th class=\"col_heading level0 col1\" >MAE</th>        <th class=\"col_heading level0 col2\" >RMSE</th>        <th class=\"col_heading level0 col3\" >MAPE</th>        <th class=\"col_heading level0 col4\" >SMAPE</th>        <th class=\"col_heading level0 col5\" >R2</th>    </tr></thead><tbody>\n",
       "                <tr>\n",
       "                        <th id=\"T_094ff51a_20b6_11ec_8525_acde48001122level0_row0\" class=\"row_heading level0 row0\" >0</th>\n",
       "                        <td id=\"T_094ff51a_20b6_11ec_8525_acde48001122row0_col0\" class=\"data row0 col0\" >Auto ARIMA</td>\n",
       "                        <td id=\"T_094ff51a_20b6_11ec_8525_acde48001122row0_col1\" class=\"data row0 col1\" >1261.6971</td>\n",
       "                        <td id=\"T_094ff51a_20b6_11ec_8525_acde48001122row0_col2\" class=\"data row0 col2\" >1661.9518</td>\n",
       "                        <td id=\"T_094ff51a_20b6_11ec_8525_acde48001122row0_col3\" class=\"data row0 col3\" >1.0000</td>\n",
       "                        <td id=\"T_094ff51a_20b6_11ec_8525_acde48001122row0_col4\" class=\"data row0 col4\" >2.0000</td>\n",
       "                        <td id=\"T_094ff51a_20b6_11ec_8525_acde48001122row0_col5\" class=\"data row0 col5\" >-0.0008</td>\n",
       "            </tr>\n",
       "    </tbody></table>"
      ],
      "text/plain": [
       "<pandas.io.formats.style.Styler at 0x7fa29d2b2d30>"
      ]
     },
     "metadata": {},
     "output_type": "display_data"
    },
    {
     "data": {
      "image/png": "[encoded data removed]",
      "text/plain": [
       "<Figure size 1152x288 with 1 Axes>"
      ]
     },
     "metadata": {
      "needs_background": "light"
     },
     "output_type": "display_data"
    }
   ],
   "source": [
    "y_predict = exp.predict_model(model)\n",
    "plot_series(copy_df, y_train, y_predict, labels=['All', 'Train', 'Test Predictions'])\n",
    "plt.grid()"
   ]
  },
  {
   "cell_type": "markdown",
   "id": "e43edc73-b529-4e17-b18d-76ba35ff7947",
   "metadata": {},
   "source": [
    "### Start pycaret experiment for model evaluation, just based on BTC actual prices"
   ]
  },
  {
   "cell_type": "code",
   "execution_count": 146,
   "id": "1f49b63d-bb0a-4469-8b3c-c43e15ea1985",
   "metadata": {},
   "outputs": [],
   "source": [
    "df = pd.read_csv('btcusdt_1d_ohlcv_av_1Jan2019_to_24Sep2021_1day_csv_ver.csv')"
   ]
  },
  {
   "cell_type": "code",
   "execution_count": 147,
   "id": "8423766c-f60d-42b1-9144-f95e07f9c1ec",
   "metadata": {},
   "outputs": [],
   "source": [
    "del df['Unnamed: 0']"
   ]
  },
  {
   "cell_type": "code",
   "execution_count": 148,
   "id": "75ff9d18-d43a-45a8-bcef-d5de3da881d7",
   "metadata": {},
   "outputs": [],
   "source": [
    "df = df.loc[df['year'] == 2021]"
   ]
  },
  {
   "cell_type": "code",
   "execution_count": 149,
   "id": "6c3a9fac-1eac-40a6-991f-bebb80726e6b",
   "metadata": {},
   "outputs": [],
   "source": [
    "df = df[['date', 'BTCUSDT_close']]"
   ]
  },
  {
   "cell_type": "code",
   "execution_count": 150,
   "id": "8baadd43-3788-46bc-baf3-d18090dc54b4",
   "metadata": {},
   "outputs": [
    {
     "data": {
      "text/html": [
       "<div>\n",
       "<style scoped>\n",
       "    .dataframe tbody tr th:only-of-type {\n",
       "        vertical-align: middle;\n",
       "    }\n",
       "\n",
       "    .dataframe tbody tr th {\n",
       "        vertical-align: top;\n",
       "    }\n",
       "\n",
       "    .dataframe thead th {\n",
       "        text-align: right;\n",
       "    }\n",
       "</style>\n",
       "<table border=\"1\" class=\"dataframe\">\n",
       "  <thead>\n",
       "    <tr style=\"text-align: right;\">\n",
       "      <th></th>\n",
       "      <th>date</th>\n",
       "      <th>BTCUSDT_close</th>\n",
       "    </tr>\n",
       "  </thead>\n",
       "  <tbody>\n",
       "    <tr>\n",
       "      <th>870</th>\n",
       "      <td>2021-01-01</td>\n",
       "      <td>29331.69</td>\n",
       "    </tr>\n",
       "    <tr>\n",
       "      <th>871</th>\n",
       "      <td>2021-01-02</td>\n",
       "      <td>32178.33</td>\n",
       "    </tr>\n",
       "    <tr>\n",
       "      <th>872</th>\n",
       "      <td>2021-01-03</td>\n",
       "      <td>33000.05</td>\n",
       "    </tr>\n",
       "    <tr>\n",
       "      <th>873</th>\n",
       "      <td>2021-01-03</td>\n",
       "      <td>33000.05</td>\n",
       "    </tr>\n",
       "    <tr>\n",
       "      <th>874</th>\n",
       "      <td>2021-01-04</td>\n",
       "      <td>31988.71</td>\n",
       "    </tr>\n",
       "  </tbody>\n",
       "</table>\n",
       "</div>"
      ],
      "text/plain": [
       "           date  BTCUSDT_close\n",
       "870  2021-01-01       29331.69\n",
       "871  2021-01-02       32178.33\n",
       "872  2021-01-03       33000.05\n",
       "873  2021-01-03       33000.05\n",
       "874  2021-01-04       31988.71"
      ]
     },
     "execution_count": 150,
     "metadata": {},
     "output_type": "execute_result"
    }
   ],
   "source": [
    "df.head()"
   ]
  },
  {
   "cell_type": "code",
   "execution_count": 151,
   "id": "e3fc83f0-5a30-4d97-83d2-acaf26c15702",
   "metadata": {},
   "outputs": [
    {
     "data": {
      "text/html": [
       "<div>\n",
       "<style scoped>\n",
       "    .dataframe tbody tr th:only-of-type {\n",
       "        vertical-align: middle;\n",
       "    }\n",
       "\n",
       "    .dataframe tbody tr th {\n",
       "        vertical-align: top;\n",
       "    }\n",
       "\n",
       "    .dataframe thead th {\n",
       "        text-align: right;\n",
       "    }\n",
       "</style>\n",
       "<table border=\"1\" class=\"dataframe\">\n",
       "  <thead>\n",
       "    <tr style=\"text-align: right;\">\n",
       "      <th></th>\n",
       "      <th>BTCUSDT_close</th>\n",
       "    </tr>\n",
       "    <tr>\n",
       "      <th>date</th>\n",
       "      <th></th>\n",
       "    </tr>\n",
       "  </thead>\n",
       "  <tbody>\n",
       "    <tr>\n",
       "      <th>2021-01-01</th>\n",
       "      <td>29331.69</td>\n",
       "    </tr>\n",
       "  </tbody>\n",
       "</table>\n",
       "</div>"
      ],
      "text/plain": [
       "            BTCUSDT_close\n",
       "date                     \n",
       "2021-01-01       29331.69"
      ]
     },
     "execution_count": 151,
     "metadata": {},
     "output_type": "execute_result"
    }
   ],
   "source": [
    "df.index = pd.DatetimeIndex(df['date'])\n",
    "#df.groupby(df.index).first()\n",
    "df.drop(['date'],axis=1,inplace=True)\n",
    "df.head(1)"
   ]
  },
  {
   "cell_type": "code",
   "execution_count": 152,
   "id": "f7cc9a3b-cfe4-46dc-8b81-025a2170a12e",
   "metadata": {},
   "outputs": [
    {
     "data": {
      "text/plain": [
       "False"
      ]
     },
     "execution_count": 152,
     "metadata": {},
     "output_type": "execute_result"
    }
   ],
   "source": [
    "df.index.is_unique"
   ]
  },
  {
   "cell_type": "code",
   "execution_count": 153,
   "id": "ca41a09b-c9a3-41bd-8044-eb51f91ce127",
   "metadata": {},
   "outputs": [],
   "source": [
    "df = df.loc[~df.index.duplicated(), :]"
   ]
  },
  {
   "cell_type": "code",
   "execution_count": 154,
   "id": "124c1546-84f4-4116-a138-5daea399b4b7",
   "metadata": {},
   "outputs": [
    {
     "data": {
      "text/plain": [
       "DatetimeIndex(['2021-01-01', '2021-01-02', '2021-01-03', '2021-01-04',\n",
       "               '2021-01-05', '2021-01-06', '2021-01-07', '2021-01-08',\n",
       "               '2021-01-09', '2021-01-10',\n",
       "               ...\n",
       "               '2021-09-15', '2021-09-16', '2021-09-17', '2021-09-18',\n",
       "               '2021-09-19', '2021-09-20', '2021-09-21', '2021-09-22',\n",
       "               '2021-09-23', '2021-09-24'],\n",
       "              dtype='datetime64[ns]', name='date', length=267, freq='D')"
      ]
     },
     "execution_count": 154,
     "metadata": {},
     "output_type": "execute_result"
    }
   ],
   "source": [
    "df = df.asfreq('d')\n",
    "df.index"
   ]
  },
  {
   "cell_type": "code",
   "execution_count": 155,
   "id": "9ad04d2a-5897-4f7e-acff-c331ade11881",
   "metadata": {},
   "outputs": [
    {
     "data": {
      "text/html": [
       "<style  type=\"text/css\" >\n",
       "</style><table id=\"T_6704773a_20b6_11ec_a2da_acde48001122\" ><thead>    <tr>        <th class=\"blank level0\" ></th>        <th class=\"col_heading level0 col0\" >Description</th>        <th class=\"col_heading level0 col1\" >Value</th>    </tr></thead><tbody>\n",
       "                <tr>\n",
       "                        <th id=\"T_6704773a_20b6_11ec_a2da_acde48001122level0_row0\" class=\"row_heading level0 row0\" >0</th>\n",
       "                        <td id=\"T_6704773a_20b6_11ec_a2da_acde48001122row0_col0\" class=\"data row0 col0\" >session_id</td>\n",
       "                        <td id=\"T_6704773a_20b6_11ec_a2da_acde48001122row0_col1\" class=\"data row0 col1\" >42</td>\n",
       "            </tr>\n",
       "            <tr>\n",
       "                        <th id=\"T_6704773a_20b6_11ec_a2da_acde48001122level0_row1\" class=\"row_heading level0 row1\" >1</th>\n",
       "                        <td id=\"T_6704773a_20b6_11ec_a2da_acde48001122row1_col0\" class=\"data row1 col0\" >Original Data</td>\n",
       "                        <td id=\"T_6704773a_20b6_11ec_a2da_acde48001122row1_col1\" class=\"data row1 col1\" >(267, 1)</td>\n",
       "            </tr>\n",
       "            <tr>\n",
       "                        <th id=\"T_6704773a_20b6_11ec_a2da_acde48001122level0_row2\" class=\"row_heading level0 row2\" >2</th>\n",
       "                        <td id=\"T_6704773a_20b6_11ec_a2da_acde48001122row2_col0\" class=\"data row2 col0\" >Missing Values</td>\n",
       "                        <td id=\"T_6704773a_20b6_11ec_a2da_acde48001122row2_col1\" class=\"data row2 col1\" >False</td>\n",
       "            </tr>\n",
       "            <tr>\n",
       "                        <th id=\"T_6704773a_20b6_11ec_a2da_acde48001122level0_row3\" class=\"row_heading level0 row3\" >3</th>\n",
       "                        <td id=\"T_6704773a_20b6_11ec_a2da_acde48001122row3_col0\" class=\"data row3 col0\" >Transformed Train Set</td>\n",
       "                        <td id=\"T_6704773a_20b6_11ec_a2da_acde48001122row3_col1\" class=\"data row3 col1\" >(211,)</td>\n",
       "            </tr>\n",
       "            <tr>\n",
       "                        <th id=\"T_6704773a_20b6_11ec_a2da_acde48001122level0_row4\" class=\"row_heading level0 row4\" >4</th>\n",
       "                        <td id=\"T_6704773a_20b6_11ec_a2da_acde48001122row4_col0\" class=\"data row4 col0\" >Transformed Test Set</td>\n",
       "                        <td id=\"T_6704773a_20b6_11ec_a2da_acde48001122row4_col1\" class=\"data row4 col1\" >(56,)</td>\n",
       "            </tr>\n",
       "            <tr>\n",
       "                        <th id=\"T_6704773a_20b6_11ec_a2da_acde48001122level0_row5\" class=\"row_heading level0 row5\" >5</th>\n",
       "                        <td id=\"T_6704773a_20b6_11ec_a2da_acde48001122row5_col0\" class=\"data row5 col0\" >Fold Generator</td>\n",
       "                        <td id=\"T_6704773a_20b6_11ec_a2da_acde48001122row5_col1\" class=\"data row5 col1\" >ExpandingWindowSplitter</td>\n",
       "            </tr>\n",
       "            <tr>\n",
       "                        <th id=\"T_6704773a_20b6_11ec_a2da_acde48001122level0_row6\" class=\"row_heading level0 row6\" >6</th>\n",
       "                        <td id=\"T_6704773a_20b6_11ec_a2da_acde48001122row6_col0\" class=\"data row6 col0\" >Fold Number</td>\n",
       "                        <td id=\"T_6704773a_20b6_11ec_a2da_acde48001122row6_col1\" class=\"data row6 col1\" >3</td>\n",
       "            </tr>\n",
       "            <tr>\n",
       "                        <th id=\"T_6704773a_20b6_11ec_a2da_acde48001122level0_row7\" class=\"row_heading level0 row7\" >7</th>\n",
       "                        <td id=\"T_6704773a_20b6_11ec_a2da_acde48001122row7_col0\" class=\"data row7 col0\" >CPU Jobs</td>\n",
       "                        <td id=\"T_6704773a_20b6_11ec_a2da_acde48001122row7_col1\" class=\"data row7 col1\" >-1</td>\n",
       "            </tr>\n",
       "            <tr>\n",
       "                        <th id=\"T_6704773a_20b6_11ec_a2da_acde48001122level0_row8\" class=\"row_heading level0 row8\" >8</th>\n",
       "                        <td id=\"T_6704773a_20b6_11ec_a2da_acde48001122row8_col0\" class=\"data row8 col0\" >Use GPU</td>\n",
       "                        <td id=\"T_6704773a_20b6_11ec_a2da_acde48001122row8_col1\" class=\"data row8 col1\" >False</td>\n",
       "            </tr>\n",
       "            <tr>\n",
       "                        <th id=\"T_6704773a_20b6_11ec_a2da_acde48001122level0_row9\" class=\"row_heading level0 row9\" >9</th>\n",
       "                        <td id=\"T_6704773a_20b6_11ec_a2da_acde48001122row9_col0\" class=\"data row9 col0\" >Log Experiment</td>\n",
       "                        <td id=\"T_6704773a_20b6_11ec_a2da_acde48001122row9_col1\" class=\"data row9 col1\" >False</td>\n",
       "            </tr>\n",
       "            <tr>\n",
       "                        <th id=\"T_6704773a_20b6_11ec_a2da_acde48001122level0_row10\" class=\"row_heading level0 row10\" >10</th>\n",
       "                        <td id=\"T_6704773a_20b6_11ec_a2da_acde48001122row10_col0\" class=\"data row10 col0\" >Experiment Name</td>\n",
       "                        <td id=\"T_6704773a_20b6_11ec_a2da_acde48001122row10_col1\" class=\"data row10 col1\" >ts-default-name</td>\n",
       "            </tr>\n",
       "            <tr>\n",
       "                        <th id=\"T_6704773a_20b6_11ec_a2da_acde48001122level0_row11\" class=\"row_heading level0 row11\" >11</th>\n",
       "                        <td id=\"T_6704773a_20b6_11ec_a2da_acde48001122row11_col0\" class=\"data row11 col0\" >USI</td>\n",
       "                        <td id=\"T_6704773a_20b6_11ec_a2da_acde48001122row11_col1\" class=\"data row11 col1\" >a13a</td>\n",
       "            </tr>\n",
       "            <tr>\n",
       "                        <th id=\"T_6704773a_20b6_11ec_a2da_acde48001122level0_row12\" class=\"row_heading level0 row12\" >12</th>\n",
       "                        <td id=\"T_6704773a_20b6_11ec_a2da_acde48001122row12_col0\" class=\"data row12 col0\" >Imputation Type</td>\n",
       "                        <td id=\"T_6704773a_20b6_11ec_a2da_acde48001122row12_col1\" class=\"data row12 col1\" >simple</td>\n",
       "            </tr>\n",
       "    </tbody></table>"
      ],
      "text/plain": [
       "<pandas.io.formats.style.Styler at 0x7fa29f788550>"
      ]
     },
     "metadata": {},
     "output_type": "display_data"
    },
    {
     "name": "stderr",
     "output_type": "stream",
     "text": [
      "INFO:logs:self.master_model_container: 0\n",
      "INFO:logs:self.display_container: 1\n",
      "INFO:logs:Pipeline(memory=None,\n",
      "         steps=[('dtypes',\n",
      "                 DataTypes_Auto_infer(categorical_features=[],\n",
      "                                      display_types=False, features_todrop=[],\n",
      "                                      float_dtype='float64', id_columns=[],\n",
      "                                      ml_usecase='regression',\n",
      "                                      numerical_features=[],\n",
      "                                      target='BTCUSDT_close',\n",
      "                                      time_features=[])),\n",
      "                ('imputer',\n",
      "                 Simple_Imputer(categorical_strategy='most frequent',\n",
      "                                fill_value_categorical='not_available',\n",
      "                                fil...\n",
      "                ('scaling', 'passthrough'), ('P_transform', 'passthrough'),\n",
      "                ('binn', 'passthrough'), ('rem_outliers', 'passthrough'),\n",
      "                ('cluster_all', 'passthrough'),\n",
      "                ('dummy', Dummify(target='BTCUSDT_close')),\n",
      "                ('fix_perfect', 'passthrough'),\n",
      "                ('clean_names', Clean_Colum_Names()),\n",
      "                ('feature_select', 'passthrough'), ('fix_multi', 'passthrough'),\n",
      "                ('dfs', 'passthrough'), ('pca', 'passthrough')],\n",
      "         verbose=False)\n",
      "INFO:logs:setup() successfully completed......................................\n"
     ]
    },
    {
     "data": {
      "text/plain": [
       "<pycaret.internal.pycaret_experiment.time_series_experiment.TimeSeriesExperiment at 0x7fa29d2d1048>"
      ]
     },
     "execution_count": 155,
     "metadata": {},
     "output_type": "execute_result"
    }
   ],
   "source": [
    "exp = TimeSeriesExperiment()\n",
    "exp.setup(data=df,session_id=42, fh=56) #fh we should test for 2 months data 56 days"
   ]
  },
  {
   "cell_type": "code",
   "execution_count": 156,
   "id": "a06debe7-f3d7-493c-bddb-87685da43a69",
   "metadata": {},
   "outputs": [
    {
     "data": {
      "text/html": [
       "<style  type=\"text/css\" >\n",
       "    #T_b768866c_20b6_11ec_bc54_acde48001122 th {\n",
       "          text-align: left;\n",
       "    }#T_b768866c_20b6_11ec_bc54_acde48001122row0_col0,#T_b768866c_20b6_11ec_bc54_acde48001122row0_col5,#T_b768866c_20b6_11ec_bc54_acde48001122row1_col0,#T_b768866c_20b6_11ec_bc54_acde48001122row1_col1,#T_b768866c_20b6_11ec_bc54_acde48001122row1_col2,#T_b768866c_20b6_11ec_bc54_acde48001122row1_col3,#T_b768866c_20b6_11ec_bc54_acde48001122row2_col0,#T_b768866c_20b6_11ec_bc54_acde48001122row2_col1,#T_b768866c_20b6_11ec_bc54_acde48001122row2_col2,#T_b768866c_20b6_11ec_bc54_acde48001122row2_col3,#T_b768866c_20b6_11ec_bc54_acde48001122row2_col4,#T_b768866c_20b6_11ec_bc54_acde48001122row2_col5,#T_b768866c_20b6_11ec_bc54_acde48001122row3_col0,#T_b768866c_20b6_11ec_bc54_acde48001122row3_col1,#T_b768866c_20b6_11ec_bc54_acde48001122row3_col2,#T_b768866c_20b6_11ec_bc54_acde48001122row3_col3,#T_b768866c_20b6_11ec_bc54_acde48001122row3_col4,#T_b768866c_20b6_11ec_bc54_acde48001122row3_col5,#T_b768866c_20b6_11ec_bc54_acde48001122row4_col0,#T_b768866c_20b6_11ec_bc54_acde48001122row4_col1,#T_b768866c_20b6_11ec_bc54_acde48001122row4_col2,#T_b768866c_20b6_11ec_bc54_acde48001122row4_col3,#T_b768866c_20b6_11ec_bc54_acde48001122row4_col4,#T_b768866c_20b6_11ec_bc54_acde48001122row4_col5,#T_b768866c_20b6_11ec_bc54_acde48001122row5_col0,#T_b768866c_20b6_11ec_bc54_acde48001122row5_col1,#T_b768866c_20b6_11ec_bc54_acde48001122row5_col2,#T_b768866c_20b6_11ec_bc54_acde48001122row5_col3,#T_b768866c_20b6_11ec_bc54_acde48001122row5_col4,#T_b768866c_20b6_11ec_bc54_acde48001122row5_col5,#T_b768866c_20b6_11ec_bc54_acde48001122row6_col0,#T_b768866c_20b6_11ec_bc54_acde48001122row6_col1,#T_b768866c_20b6_11ec_bc54_acde48001122row6_col2,#T_b768866c_20b6_11ec_bc54_acde48001122row6_col3,#T_b768866c_20b6_11ec_bc54_acde48001122row6_col4,#T_b768866c_20b6_11ec_bc54_acde48001122row6_col5,#T_b768866c_20b6_11ec_bc54_acde48001122row7_col0,#T_b768866c_20b6_11ec_bc54_acde48001122row7_col1,#T_b768866c_20b6_11ec_bc54_acde48001122row7_col2,#T_b768866c_20b6_11ec_bc54_acde48001122row7_col3,#T_b768866c_20b6_11ec_bc54_acde48001122row7_col4,#T_b768866c_20b6_11ec_bc54_acde48001122row7_col5,#T_b768866c_20b6_11ec_bc54_acde48001122row8_col0,#T_b768866c_20b6_11ec_bc54_acde48001122row8_col1,#T_b768866c_20b6_11ec_bc54_acde48001122row8_col2,#T_b768866c_20b6_11ec_bc54_acde48001122row8_col3,#T_b768866c_20b6_11ec_bc54_acde48001122row8_col4,#T_b768866c_20b6_11ec_bc54_acde48001122row8_col5,#T_b768866c_20b6_11ec_bc54_acde48001122row9_col0,#T_b768866c_20b6_11ec_bc54_acde48001122row9_col1,#T_b768866c_20b6_11ec_bc54_acde48001122row9_col2,#T_b768866c_20b6_11ec_bc54_acde48001122row9_col3,#T_b768866c_20b6_11ec_bc54_acde48001122row9_col4,#T_b768866c_20b6_11ec_bc54_acde48001122row9_col5,#T_b768866c_20b6_11ec_bc54_acde48001122row10_col0,#T_b768866c_20b6_11ec_bc54_acde48001122row10_col1,#T_b768866c_20b6_11ec_bc54_acde48001122row10_col2,#T_b768866c_20b6_11ec_bc54_acde48001122row10_col3,#T_b768866c_20b6_11ec_bc54_acde48001122row10_col4,#T_b768866c_20b6_11ec_bc54_acde48001122row10_col5,#T_b768866c_20b6_11ec_bc54_acde48001122row11_col0,#T_b768866c_20b6_11ec_bc54_acde48001122row11_col1,#T_b768866c_20b6_11ec_bc54_acde48001122row11_col2,#T_b768866c_20b6_11ec_bc54_acde48001122row11_col3,#T_b768866c_20b6_11ec_bc54_acde48001122row11_col4,#T_b768866c_20b6_11ec_bc54_acde48001122row11_col5,#T_b768866c_20b6_11ec_bc54_acde48001122row12_col0,#T_b768866c_20b6_11ec_bc54_acde48001122row12_col1,#T_b768866c_20b6_11ec_bc54_acde48001122row12_col2,#T_b768866c_20b6_11ec_bc54_acde48001122row12_col3,#T_b768866c_20b6_11ec_bc54_acde48001122row12_col4,#T_b768866c_20b6_11ec_bc54_acde48001122row12_col5,#T_b768866c_20b6_11ec_bc54_acde48001122row13_col0,#T_b768866c_20b6_11ec_bc54_acde48001122row13_col1,#T_b768866c_20b6_11ec_bc54_acde48001122row13_col2,#T_b768866c_20b6_11ec_bc54_acde48001122row13_col3,#T_b768866c_20b6_11ec_bc54_acde48001122row13_col4,#T_b768866c_20b6_11ec_bc54_acde48001122row13_col5,#T_b768866c_20b6_11ec_bc54_acde48001122row14_col0,#T_b768866c_20b6_11ec_bc54_acde48001122row14_col1,#T_b768866c_20b6_11ec_bc54_acde48001122row14_col2,#T_b768866c_20b6_11ec_bc54_acde48001122row14_col3,#T_b768866c_20b6_11ec_bc54_acde48001122row14_col4,#T_b768866c_20b6_11ec_bc54_acde48001122row14_col5,#T_b768866c_20b6_11ec_bc54_acde48001122row15_col0,#T_b768866c_20b6_11ec_bc54_acde48001122row15_col1,#T_b768866c_20b6_11ec_bc54_acde48001122row15_col2,#T_b768866c_20b6_11ec_bc54_acde48001122row15_col3,#T_b768866c_20b6_11ec_bc54_acde48001122row15_col4,#T_b768866c_20b6_11ec_bc54_acde48001122row15_col5,#T_b768866c_20b6_11ec_bc54_acde48001122row16_col0,#T_b768866c_20b6_11ec_bc54_acde48001122row16_col1,#T_b768866c_20b6_11ec_bc54_acde48001122row16_col2,#T_b768866c_20b6_11ec_bc54_acde48001122row16_col3,#T_b768866c_20b6_11ec_bc54_acde48001122row16_col4,#T_b768866c_20b6_11ec_bc54_acde48001122row16_col5,#T_b768866c_20b6_11ec_bc54_acde48001122row17_col0,#T_b768866c_20b6_11ec_bc54_acde48001122row17_col1,#T_b768866c_20b6_11ec_bc54_acde48001122row17_col2,#T_b768866c_20b6_11ec_bc54_acde48001122row17_col3,#T_b768866c_20b6_11ec_bc54_acde48001122row17_col4,#T_b768866c_20b6_11ec_bc54_acde48001122row17_col5,#T_b768866c_20b6_11ec_bc54_acde48001122row18_col0,#T_b768866c_20b6_11ec_bc54_acde48001122row18_col1,#T_b768866c_20b6_11ec_bc54_acde48001122row18_col2,#T_b768866c_20b6_11ec_bc54_acde48001122row18_col3,#T_b768866c_20b6_11ec_bc54_acde48001122row18_col4,#T_b768866c_20b6_11ec_bc54_acde48001122row18_col5,#T_b768866c_20b6_11ec_bc54_acde48001122row19_col0,#T_b768866c_20b6_11ec_bc54_acde48001122row19_col1,#T_b768866c_20b6_11ec_bc54_acde48001122row19_col2,#T_b768866c_20b6_11ec_bc54_acde48001122row19_col3,#T_b768866c_20b6_11ec_bc54_acde48001122row19_col4,#T_b768866c_20b6_11ec_bc54_acde48001122row19_col5,#T_b768866c_20b6_11ec_bc54_acde48001122row20_col0,#T_b768866c_20b6_11ec_bc54_acde48001122row20_col1,#T_b768866c_20b6_11ec_bc54_acde48001122row20_col2,#T_b768866c_20b6_11ec_bc54_acde48001122row20_col3,#T_b768866c_20b6_11ec_bc54_acde48001122row20_col4,#T_b768866c_20b6_11ec_bc54_acde48001122row20_col5,#T_b768866c_20b6_11ec_bc54_acde48001122row21_col0,#T_b768866c_20b6_11ec_bc54_acde48001122row21_col1,#T_b768866c_20b6_11ec_bc54_acde48001122row21_col2,#T_b768866c_20b6_11ec_bc54_acde48001122row21_col3,#T_b768866c_20b6_11ec_bc54_acde48001122row21_col4,#T_b768866c_20b6_11ec_bc54_acde48001122row21_col5,#T_b768866c_20b6_11ec_bc54_acde48001122row22_col0,#T_b768866c_20b6_11ec_bc54_acde48001122row22_col1,#T_b768866c_20b6_11ec_bc54_acde48001122row22_col2,#T_b768866c_20b6_11ec_bc54_acde48001122row22_col3,#T_b768866c_20b6_11ec_bc54_acde48001122row22_col4,#T_b768866c_20b6_11ec_bc54_acde48001122row22_col5,#T_b768866c_20b6_11ec_bc54_acde48001122row23_col0,#T_b768866c_20b6_11ec_bc54_acde48001122row23_col1,#T_b768866c_20b6_11ec_bc54_acde48001122row23_col2,#T_b768866c_20b6_11ec_bc54_acde48001122row23_col3,#T_b768866c_20b6_11ec_bc54_acde48001122row23_col4,#T_b768866c_20b6_11ec_bc54_acde48001122row23_col5,#T_b768866c_20b6_11ec_bc54_acde48001122row24_col0,#T_b768866c_20b6_11ec_bc54_acde48001122row24_col1,#T_b768866c_20b6_11ec_bc54_acde48001122row24_col2,#T_b768866c_20b6_11ec_bc54_acde48001122row24_col3,#T_b768866c_20b6_11ec_bc54_acde48001122row24_col4,#T_b768866c_20b6_11ec_bc54_acde48001122row24_col5{\n",
       "            text-align:  left;\n",
       "            text-align:  left;\n",
       "        }#T_b768866c_20b6_11ec_bc54_acde48001122row0_col1,#T_b768866c_20b6_11ec_bc54_acde48001122row0_col2,#T_b768866c_20b6_11ec_bc54_acde48001122row0_col3,#T_b768866c_20b6_11ec_bc54_acde48001122row0_col4,#T_b768866c_20b6_11ec_bc54_acde48001122row1_col4,#T_b768866c_20b6_11ec_bc54_acde48001122row1_col5{\n",
       "            text-align:  left;\n",
       "            text-align:  left;\n",
       "            background-color:  yellow;\n",
       "        }#T_b768866c_20b6_11ec_bc54_acde48001122row0_col6,#T_b768866c_20b6_11ec_bc54_acde48001122row1_col6,#T_b768866c_20b6_11ec_bc54_acde48001122row2_col6,#T_b768866c_20b6_11ec_bc54_acde48001122row4_col6,#T_b768866c_20b6_11ec_bc54_acde48001122row5_col6,#T_b768866c_20b6_11ec_bc54_acde48001122row6_col6,#T_b768866c_20b6_11ec_bc54_acde48001122row7_col6,#T_b768866c_20b6_11ec_bc54_acde48001122row8_col6,#T_b768866c_20b6_11ec_bc54_acde48001122row9_col6,#T_b768866c_20b6_11ec_bc54_acde48001122row10_col6,#T_b768866c_20b6_11ec_bc54_acde48001122row11_col6,#T_b768866c_20b6_11ec_bc54_acde48001122row12_col6,#T_b768866c_20b6_11ec_bc54_acde48001122row13_col6,#T_b768866c_20b6_11ec_bc54_acde48001122row14_col6,#T_b768866c_20b6_11ec_bc54_acde48001122row15_col6,#T_b768866c_20b6_11ec_bc54_acde48001122row16_col6,#T_b768866c_20b6_11ec_bc54_acde48001122row17_col6,#T_b768866c_20b6_11ec_bc54_acde48001122row18_col6,#T_b768866c_20b6_11ec_bc54_acde48001122row19_col6,#T_b768866c_20b6_11ec_bc54_acde48001122row20_col6,#T_b768866c_20b6_11ec_bc54_acde48001122row21_col6,#T_b768866c_20b6_11ec_bc54_acde48001122row22_col6,#T_b768866c_20b6_11ec_bc54_acde48001122row24_col6{\n",
       "            text-align:  left;\n",
       "            text-align:  left;\n",
       "            background-color:  lightgrey;\n",
       "        }#T_b768866c_20b6_11ec_bc54_acde48001122row3_col6,#T_b768866c_20b6_11ec_bc54_acde48001122row23_col6{\n",
       "            text-align:  left;\n",
       "            text-align:  left;\n",
       "            background-color:  yellow;\n",
       "            background-color:  lightgrey;\n",
       "        }</style><table id=\"T_b768866c_20b6_11ec_bc54_acde48001122\" ><thead>    <tr>        <th class=\"blank level0\" ></th>        <th class=\"col_heading level0 col0\" >Model</th>        <th class=\"col_heading level0 col1\" >MAE</th>        <th class=\"col_heading level0 col2\" >RMSE</th>        <th class=\"col_heading level0 col3\" >MAPE</th>        <th class=\"col_heading level0 col4\" >SMAPE</th>        <th class=\"col_heading level0 col5\" >R2</th>        <th class=\"col_heading level0 col6\" >TT (Sec)</th>    </tr></thead><tbody>\n",
       "                <tr>\n",
       "                        <th id=\"T_b768866c_20b6_11ec_bc54_acde48001122level0_row0\" class=\"row_heading level0 row0\" >naive</th>\n",
       "                        <td id=\"T_b768866c_20b6_11ec_bc54_acde48001122row0_col0\" class=\"data row0 col0\" >Naive Forecaster</td>\n",
       "                        <td id=\"T_b768866c_20b6_11ec_bc54_acde48001122row0_col1\" class=\"data row0 col1\" >6449.5876</td>\n",
       "                        <td id=\"T_b768866c_20b6_11ec_bc54_acde48001122row0_col2\" class=\"data row0 col2\" >77469857.8231</td>\n",
       "                        <td id=\"T_b768866c_20b6_11ec_bc54_acde48001122row0_col3\" class=\"data row0 col3\" >0.1476</td>\n",
       "                        <td id=\"T_b768866c_20b6_11ec_bc54_acde48001122row0_col4\" class=\"data row0 col4\" >0.1359</td>\n",
       "                        <td id=\"T_b768866c_20b6_11ec_bc54_acde48001122row0_col5\" class=\"data row0 col5\" >-1.2723</td>\n",
       "                        <td id=\"T_b768866c_20b6_11ec_bc54_acde48001122row0_col6\" class=\"data row0 col6\" >4.5800</td>\n",
       "            </tr>\n",
       "            <tr>\n",
       "                        <th id=\"T_b768866c_20b6_11ec_bc54_acde48001122level0_row1\" class=\"row_heading level0 row1\" >arima</th>\n",
       "                        <td id=\"T_b768866c_20b6_11ec_bc54_acde48001122row1_col0\" class=\"data row1 col0\" >ARIMA</td>\n",
       "                        <td id=\"T_b768866c_20b6_11ec_bc54_acde48001122row1_col1\" class=\"data row1 col1\" >6673.9805</td>\n",
       "                        <td id=\"T_b768866c_20b6_11ec_bc54_acde48001122row1_col2\" class=\"data row1 col2\" >99540858.2124</td>\n",
       "                        <td id=\"T_b768866c_20b6_11ec_bc54_acde48001122row1_col3\" class=\"data row1 col3\" >0.1562</td>\n",
       "                        <td id=\"T_b768866c_20b6_11ec_bc54_acde48001122row1_col4\" class=\"data row1 col4\" >0.1359</td>\n",
       "                        <td id=\"T_b768866c_20b6_11ec_bc54_acde48001122row1_col5\" class=\"data row1 col5\" >-1.1378</td>\n",
       "                        <td id=\"T_b768866c_20b6_11ec_bc54_acde48001122row1_col6\" class=\"data row1 col6\" >0.3467</td>\n",
       "            </tr>\n",
       "            <tr>\n",
       "                        <th id=\"T_b768866c_20b6_11ec_bc54_acde48001122level0_row2\" class=\"row_heading level0 row2\" >snaive</th>\n",
       "                        <td id=\"T_b768866c_20b6_11ec_bc54_acde48001122row2_col0\" class=\"data row2 col0\" >Seasonal Naive Forecaster</td>\n",
       "                        <td id=\"T_b768866c_20b6_11ec_bc54_acde48001122row2_col1\" class=\"data row2 col1\" >7317.3764</td>\n",
       "                        <td id=\"T_b768866c_20b6_11ec_bc54_acde48001122row2_col2\" class=\"data row2 col2\" >95923619.6321</td>\n",
       "                        <td id=\"T_b768866c_20b6_11ec_bc54_acde48001122row2_col3\" class=\"data row2 col3\" >0.1631</td>\n",
       "                        <td id=\"T_b768866c_20b6_11ec_bc54_acde48001122row2_col4\" class=\"data row2 col4\" >0.1555</td>\n",
       "                        <td id=\"T_b768866c_20b6_11ec_bc54_acde48001122row2_col5\" class=\"data row2 col5\" >-2.3674</td>\n",
       "                        <td id=\"T_b768866c_20b6_11ec_bc54_acde48001122row2_col6\" class=\"data row2 col6\" >5.6467</td>\n",
       "            </tr>\n",
       "            <tr>\n",
       "                        <th id=\"T_b768866c_20b6_11ec_bc54_acde48001122level0_row3\" class=\"row_heading level0 row3\" >theta</th>\n",
       "                        <td id=\"T_b768866c_20b6_11ec_bc54_acde48001122row3_col0\" class=\"data row3 col0\" >Theta Forecaster</td>\n",
       "                        <td id=\"T_b768866c_20b6_11ec_bc54_acde48001122row3_col1\" class=\"data row3 col1\" >7410.5609</td>\n",
       "                        <td id=\"T_b768866c_20b6_11ec_bc54_acde48001122row3_col2\" class=\"data row3 col2\" >117280594.1488</td>\n",
       "                        <td id=\"T_b768866c_20b6_11ec_bc54_acde48001122row3_col3\" class=\"data row3 col3\" >0.1769</td>\n",
       "                        <td id=\"T_b768866c_20b6_11ec_bc54_acde48001122row3_col4\" class=\"data row3 col4\" >0.1507</td>\n",
       "                        <td id=\"T_b768866c_20b6_11ec_bc54_acde48001122row3_col5\" class=\"data row3 col5\" >-1.6308</td>\n",
       "                        <td id=\"T_b768866c_20b6_11ec_bc54_acde48001122row3_col6\" class=\"data row3 col6\" >0.0200</td>\n",
       "            </tr>\n",
       "            <tr>\n",
       "                        <th id=\"T_b768866c_20b6_11ec_bc54_acde48001122level0_row4\" class=\"row_heading level0 row4\" >ets</th>\n",
       "                        <td id=\"T_b768866c_20b6_11ec_bc54_acde48001122row4_col0\" class=\"data row4 col0\" >ETS</td>\n",
       "                        <td id=\"T_b768866c_20b6_11ec_bc54_acde48001122row4_col1\" class=\"data row4 col1\" >7544.0866</td>\n",
       "                        <td id=\"T_b768866c_20b6_11ec_bc54_acde48001122row4_col2\" class=\"data row4 col2\" >156307937.7067</td>\n",
       "                        <td id=\"T_b768866c_20b6_11ec_bc54_acde48001122row4_col3\" class=\"data row4 col3\" >0.1789</td>\n",
       "                        <td id=\"T_b768866c_20b6_11ec_bc54_acde48001122row4_col4\" class=\"data row4 col4\" >0.1465</td>\n",
       "                        <td id=\"T_b768866c_20b6_11ec_bc54_acde48001122row4_col5\" class=\"data row4 col5\" >-1.7123</td>\n",
       "                        <td id=\"T_b768866c_20b6_11ec_bc54_acde48001122row4_col6\" class=\"data row4 col6\" >0.0533</td>\n",
       "            </tr>\n",
       "            <tr>\n",
       "                        <th id=\"T_b768866c_20b6_11ec_bc54_acde48001122level0_row5\" class=\"row_heading level0 row5\" >dt_cds_dt</th>\n",
       "                        <td id=\"T_b768866c_20b6_11ec_bc54_acde48001122row5_col0\" class=\"data row5 col0\" >Decision Tree w/ Cond. Deseasonalize & Detrending</td>\n",
       "                        <td id=\"T_b768866c_20b6_11ec_bc54_acde48001122row5_col1\" class=\"data row5 col1\" >8632.5662</td>\n",
       "                        <td id=\"T_b768866c_20b6_11ec_bc54_acde48001122row5_col2\" class=\"data row5 col2\" >187298174.4939</td>\n",
       "                        <td id=\"T_b768866c_20b6_11ec_bc54_acde48001122row5_col3\" class=\"data row5 col3\" >0.2111</td>\n",
       "                        <td id=\"T_b768866c_20b6_11ec_bc54_acde48001122row5_col4\" class=\"data row5 col4\" >0.1678</td>\n",
       "                        <td id=\"T_b768866c_20b6_11ec_bc54_acde48001122row5_col5\" class=\"data row5 col5\" >-2.5982</td>\n",
       "                        <td id=\"T_b768866c_20b6_11ec_bc54_acde48001122row5_col6\" class=\"data row5 col6\" >0.0667</td>\n",
       "            </tr>\n",
       "            <tr>\n",
       "                        <th id=\"T_b768866c_20b6_11ec_bc54_acde48001122level0_row6\" class=\"row_heading level0 row6\" >exp_smooth</th>\n",
       "                        <td id=\"T_b768866c_20b6_11ec_bc54_acde48001122row6_col0\" class=\"data row6 col0\" >Exponential Smoothing</td>\n",
       "                        <td id=\"T_b768866c_20b6_11ec_bc54_acde48001122row6_col1\" class=\"data row6 col1\" >9207.0365</td>\n",
       "                        <td id=\"T_b768866c_20b6_11ec_bc54_acde48001122row6_col2\" class=\"data row6 col2\" >179081922.6293</td>\n",
       "                        <td id=\"T_b768866c_20b6_11ec_bc54_acde48001122row6_col3\" class=\"data row6 col3\" >0.2279</td>\n",
       "                        <td id=\"T_b768866c_20b6_11ec_bc54_acde48001122row6_col4\" class=\"data row6 col4\" >0.2099</td>\n",
       "                        <td id=\"T_b768866c_20b6_11ec_bc54_acde48001122row6_col5\" class=\"data row6 col5\" >-5.2439</td>\n",
       "                        <td id=\"T_b768866c_20b6_11ec_bc54_acde48001122row6_col6\" class=\"data row6 col6\" >0.0933</td>\n",
       "            </tr>\n",
       "            <tr>\n",
       "                        <th id=\"T_b768866c_20b6_11ec_bc54_acde48001122level0_row7\" class=\"row_heading level0 row7\" >lightgbm_cds_dt</th>\n",
       "                        <td id=\"T_b768866c_20b6_11ec_bc54_acde48001122row7_col0\" class=\"data row7 col0\" >Light Gradient Boosting w/ Cond. Deseasonalize & Detrending</td>\n",
       "                        <td id=\"T_b768866c_20b6_11ec_bc54_acde48001122row7_col1\" class=\"data row7 col1\" >10734.6286</td>\n",
       "                        <td id=\"T_b768866c_20b6_11ec_bc54_acde48001122row7_col2\" class=\"data row7 col2\" >197160159.7008</td>\n",
       "                        <td id=\"T_b768866c_20b6_11ec_bc54_acde48001122row7_col3\" class=\"data row7 col3\" >0.2513</td>\n",
       "                        <td id=\"T_b768866c_20b6_11ec_bc54_acde48001122row7_col4\" class=\"data row7 col4\" >0.2164</td>\n",
       "                        <td id=\"T_b768866c_20b6_11ec_bc54_acde48001122row7_col5\" class=\"data row7 col5\" >-4.4665</td>\n",
       "                        <td id=\"T_b768866c_20b6_11ec_bc54_acde48001122row7_col6\" class=\"data row7 col6\" >0.0967</td>\n",
       "            </tr>\n",
       "            <tr>\n",
       "                        <th id=\"T_b768866c_20b6_11ec_bc54_acde48001122level0_row8\" class=\"row_heading level0 row8\" >ada_cds_dt</th>\n",
       "                        <td id=\"T_b768866c_20b6_11ec_bc54_acde48001122row8_col0\" class=\"data row8 col0\" >AdaBoost w/ Cond. Deseasonalize & Detrending</td>\n",
       "                        <td id=\"T_b768866c_20b6_11ec_bc54_acde48001122row8_col1\" class=\"data row8 col1\" >10774.2759</td>\n",
       "                        <td id=\"T_b768866c_20b6_11ec_bc54_acde48001122row8_col2\" class=\"data row8 col2\" >217422345.7544</td>\n",
       "                        <td id=\"T_b768866c_20b6_11ec_bc54_acde48001122row8_col3\" class=\"data row8 col3\" >0.2523</td>\n",
       "                        <td id=\"T_b768866c_20b6_11ec_bc54_acde48001122row8_col4\" class=\"data row8 col4\" >0.2113</td>\n",
       "                        <td id=\"T_b768866c_20b6_11ec_bc54_acde48001122row8_col5\" class=\"data row8 col5\" >-4.1352</td>\n",
       "                        <td id=\"T_b768866c_20b6_11ec_bc54_acde48001122row8_col6\" class=\"data row8 col6\" >0.2400</td>\n",
       "            </tr>\n",
       "            <tr>\n",
       "                        <th id=\"T_b768866c_20b6_11ec_bc54_acde48001122level0_row9\" class=\"row_heading level0 row9\" >rf_cds_dt</th>\n",
       "                        <td id=\"T_b768866c_20b6_11ec_bc54_acde48001122row9_col0\" class=\"data row9 col0\" >Random Forest w/ Cond. Deseasonalize & Detrending</td>\n",
       "                        <td id=\"T_b768866c_20b6_11ec_bc54_acde48001122row9_col1\" class=\"data row9 col1\" >10919.9996</td>\n",
       "                        <td id=\"T_b768866c_20b6_11ec_bc54_acde48001122row9_col2\" class=\"data row9 col2\" >224723644.6311</td>\n",
       "                        <td id=\"T_b768866c_20b6_11ec_bc54_acde48001122row9_col3\" class=\"data row9 col3\" >0.2547</td>\n",
       "                        <td id=\"T_b768866c_20b6_11ec_bc54_acde48001122row9_col4\" class=\"data row9 col4\" >0.2129</td>\n",
       "                        <td id=\"T_b768866c_20b6_11ec_bc54_acde48001122row9_col5\" class=\"data row9 col5\" >-4.1565</td>\n",
       "                        <td id=\"T_b768866c_20b6_11ec_bc54_acde48001122row9_col6\" class=\"data row9 col6\" >2.2200</td>\n",
       "            </tr>\n",
       "            <tr>\n",
       "                        <th id=\"T_b768866c_20b6_11ec_bc54_acde48001122level0_row10\" class=\"row_heading level0 row10\" >knn_cds_dt</th>\n",
       "                        <td id=\"T_b768866c_20b6_11ec_bc54_acde48001122row10_col0\" class=\"data row10 col0\" >K Neighbors w/ Cond. Deseasonalize & Detrending</td>\n",
       "                        <td id=\"T_b768866c_20b6_11ec_bc54_acde48001122row10_col1\" class=\"data row10 col1\" >10984.5251</td>\n",
       "                        <td id=\"T_b768866c_20b6_11ec_bc54_acde48001122row10_col2\" class=\"data row10 col2\" >212978053.7243</td>\n",
       "                        <td id=\"T_b768866c_20b6_11ec_bc54_acde48001122row10_col3\" class=\"data row10 col3\" >0.2564</td>\n",
       "                        <td id=\"T_b768866c_20b6_11ec_bc54_acde48001122row10_col4\" class=\"data row10 col4\" >0.2202</td>\n",
       "                        <td id=\"T_b768866c_20b6_11ec_bc54_acde48001122row10_col5\" class=\"data row10 col5\" >-4.6088</td>\n",
       "                        <td id=\"T_b768866c_20b6_11ec_bc54_acde48001122row10_col6\" class=\"data row10 col6\" >2.0967</td>\n",
       "            </tr>\n",
       "            <tr>\n",
       "                        <th id=\"T_b768866c_20b6_11ec_bc54_acde48001122level0_row11\" class=\"row_heading level0 row11\" >gbr_cds_dt</th>\n",
       "                        <td id=\"T_b768866c_20b6_11ec_bc54_acde48001122row11_col0\" class=\"data row11 col0\" >Gradient Boosting w/ Cond. Deseasonalize & Detrending</td>\n",
       "                        <td id=\"T_b768866c_20b6_11ec_bc54_acde48001122row11_col1\" class=\"data row11 col1\" >11167.8511</td>\n",
       "                        <td id=\"T_b768866c_20b6_11ec_bc54_acde48001122row11_col2\" class=\"data row11 col2\" >228061767.0194</td>\n",
       "                        <td id=\"T_b768866c_20b6_11ec_bc54_acde48001122row11_col3\" class=\"data row11 col3\" >0.2581</td>\n",
       "                        <td id=\"T_b768866c_20b6_11ec_bc54_acde48001122row11_col4\" class=\"data row11 col4\" >0.2196</td>\n",
       "                        <td id=\"T_b768866c_20b6_11ec_bc54_acde48001122row11_col5\" class=\"data row11 col5\" >-4.6382</td>\n",
       "                        <td id=\"T_b768866c_20b6_11ec_bc54_acde48001122row11_col6\" class=\"data row11 col6\" >0.0933</td>\n",
       "            </tr>\n",
       "            <tr>\n",
       "                        <th id=\"T_b768866c_20b6_11ec_bc54_acde48001122level0_row12\" class=\"row_heading level0 row12\" >et_cds_dt</th>\n",
       "                        <td id=\"T_b768866c_20b6_11ec_bc54_acde48001122row12_col0\" class=\"data row12 col0\" >Extra Trees w/ Cond. Deseasonalize & Detrending</td>\n",
       "                        <td id=\"T_b768866c_20b6_11ec_bc54_acde48001122row12_col1\" class=\"data row12 col1\" >11322.4134</td>\n",
       "                        <td id=\"T_b768866c_20b6_11ec_bc54_acde48001122row12_col2\" class=\"data row12 col2\" >231424260.6071</td>\n",
       "                        <td id=\"T_b768866c_20b6_11ec_bc54_acde48001122row12_col3\" class=\"data row12 col3\" >0.2624</td>\n",
       "                        <td id=\"T_b768866c_20b6_11ec_bc54_acde48001122row12_col4\" class=\"data row12 col4\" >0.2228</td>\n",
       "                        <td id=\"T_b768866c_20b6_11ec_bc54_acde48001122row12_col5\" class=\"data row12 col5\" >-4.5839</td>\n",
       "                        <td id=\"T_b768866c_20b6_11ec_bc54_acde48001122row12_col6\" class=\"data row12 col6\" >2.1700</td>\n",
       "            </tr>\n",
       "            <tr>\n",
       "                        <th id=\"T_b768866c_20b6_11ec_bc54_acde48001122level0_row13\" class=\"row_heading level0 row13\" >auto_arima</th>\n",
       "                        <td id=\"T_b768866c_20b6_11ec_bc54_acde48001122row13_col0\" class=\"data row13 col0\" >Auto ARIMA</td>\n",
       "                        <td id=\"T_b768866c_20b6_11ec_bc54_acde48001122row13_col1\" class=\"data row13 col1\" >12245.9821</td>\n",
       "                        <td id=\"T_b768866c_20b6_11ec_bc54_acde48001122row13_col2\" class=\"data row13 col2\" >258538865.0247</td>\n",
       "                        <td id=\"T_b768866c_20b6_11ec_bc54_acde48001122row13_col3\" class=\"data row13 col3\" >0.2676</td>\n",
       "                        <td id=\"T_b768866c_20b6_11ec_bc54_acde48001122row13_col4\" class=\"data row13 col4\" >0.2489</td>\n",
       "                        <td id=\"T_b768866c_20b6_11ec_bc54_acde48001122row13_col5\" class=\"data row13 col5\" >-6.6175</td>\n",
       "                        <td id=\"T_b768866c_20b6_11ec_bc54_acde48001122row13_col6\" class=\"data row13 col6\" >0.5433</td>\n",
       "            </tr>\n",
       "            <tr>\n",
       "                        <th id=\"T_b768866c_20b6_11ec_bc54_acde48001122level0_row14\" class=\"row_heading level0 row14\" >omp_cds_dt</th>\n",
       "                        <td id=\"T_b768866c_20b6_11ec_bc54_acde48001122row14_col0\" class=\"data row14 col0\" >Orthogonal Matching Pursuit w/ Cond. Deseasonalize & Detrending</td>\n",
       "                        <td id=\"T_b768866c_20b6_11ec_bc54_acde48001122row14_col1\" class=\"data row14 col1\" >12171.6709</td>\n",
       "                        <td id=\"T_b768866c_20b6_11ec_bc54_acde48001122row14_col2\" class=\"data row14 col2\" >251658046.8155</td>\n",
       "                        <td id=\"T_b768866c_20b6_11ec_bc54_acde48001122row14_col3\" class=\"data row14 col3\" >0.2925</td>\n",
       "                        <td id=\"T_b768866c_20b6_11ec_bc54_acde48001122row14_col4\" class=\"data row14 col4\" >0.2404</td>\n",
       "                        <td id=\"T_b768866c_20b6_11ec_bc54_acde48001122row14_col5\" class=\"data row14 col5\" >-7.2431</td>\n",
       "                        <td id=\"T_b768866c_20b6_11ec_bc54_acde48001122row14_col6\" class=\"data row14 col6\" >0.0667</td>\n",
       "            </tr>\n",
       "            <tr>\n",
       "                        <th id=\"T_b768866c_20b6_11ec_bc54_acde48001122level0_row15\" class=\"row_heading level0 row15\" >ridge_cds_dt</th>\n",
       "                        <td id=\"T_b768866c_20b6_11ec_bc54_acde48001122row15_col0\" class=\"data row15 col0\" >Ridge w/ Cond. Deseasonalize & Detrending</td>\n",
       "                        <td id=\"T_b768866c_20b6_11ec_bc54_acde48001122row15_col1\" class=\"data row15 col1\" >13788.0238</td>\n",
       "                        <td id=\"T_b768866c_20b6_11ec_bc54_acde48001122row15_col2\" class=\"data row15 col2\" >288558844.8719</td>\n",
       "                        <td id=\"T_b768866c_20b6_11ec_bc54_acde48001122row15_col3\" class=\"data row15 col3\" >0.3333</td>\n",
       "                        <td id=\"T_b768866c_20b6_11ec_bc54_acde48001122row15_col4\" class=\"data row15 col4\" >0.2746</td>\n",
       "                        <td id=\"T_b768866c_20b6_11ec_bc54_acde48001122row15_col5\" class=\"data row15 col5\" >-10.7296</td>\n",
       "                        <td id=\"T_b768866c_20b6_11ec_bc54_acde48001122row15_col6\" class=\"data row15 col6\" >0.0733</td>\n",
       "            </tr>\n",
       "            <tr>\n",
       "                        <th id=\"T_b768866c_20b6_11ec_bc54_acde48001122level0_row16\" class=\"row_heading level0 row16\" >lr_cds_dt</th>\n",
       "                        <td id=\"T_b768866c_20b6_11ec_bc54_acde48001122row16_col0\" class=\"data row16 col0\" >Linear w/ Cond. Deseasonalize & Detrending</td>\n",
       "                        <td id=\"T_b768866c_20b6_11ec_bc54_acde48001122row16_col1\" class=\"data row16 col1\" >13788.0238</td>\n",
       "                        <td id=\"T_b768866c_20b6_11ec_bc54_acde48001122row16_col2\" class=\"data row16 col2\" >288558844.9143</td>\n",
       "                        <td id=\"T_b768866c_20b6_11ec_bc54_acde48001122row16_col3\" class=\"data row16 col3\" >0.3333</td>\n",
       "                        <td id=\"T_b768866c_20b6_11ec_bc54_acde48001122row16_col4\" class=\"data row16 col4\" >0.2746</td>\n",
       "                        <td id=\"T_b768866c_20b6_11ec_bc54_acde48001122row16_col5\" class=\"data row16 col5\" >-10.7296</td>\n",
       "                        <td id=\"T_b768866c_20b6_11ec_bc54_acde48001122row16_col6\" class=\"data row16 col6\" >0.0633</td>\n",
       "            </tr>\n",
       "            <tr>\n",
       "                        <th id=\"T_b768866c_20b6_11ec_bc54_acde48001122level0_row17\" class=\"row_heading level0 row17\" >lasso_cds_dt</th>\n",
       "                        <td id=\"T_b768866c_20b6_11ec_bc54_acde48001122row17_col0\" class=\"data row17 col0\" >Lasso w/ Cond. Deseasonalize & Detrending</td>\n",
       "                        <td id=\"T_b768866c_20b6_11ec_bc54_acde48001122row17_col1\" class=\"data row17 col1\" >13788.0225</td>\n",
       "                        <td id=\"T_b768866c_20b6_11ec_bc54_acde48001122row17_col2\" class=\"data row17 col2\" >288558807.2076</td>\n",
       "                        <td id=\"T_b768866c_20b6_11ec_bc54_acde48001122row17_col3\" class=\"data row17 col3\" >0.3333</td>\n",
       "                        <td id=\"T_b768866c_20b6_11ec_bc54_acde48001122row17_col4\" class=\"data row17 col4\" >0.2746</td>\n",
       "                        <td id=\"T_b768866c_20b6_11ec_bc54_acde48001122row17_col5\" class=\"data row17 col5\" >-10.7295</td>\n",
       "                        <td id=\"T_b768866c_20b6_11ec_bc54_acde48001122row17_col6\" class=\"data row17 col6\" >0.0600</td>\n",
       "            </tr>\n",
       "            <tr>\n",
       "                        <th id=\"T_b768866c_20b6_11ec_bc54_acde48001122level0_row18\" class=\"row_heading level0 row18\" >en_cds_dt</th>\n",
       "                        <td id=\"T_b768866c_20b6_11ec_bc54_acde48001122row18_col0\" class=\"data row18 col0\" >Elastic Net w/ Cond. Deseasonalize & Detrending</td>\n",
       "                        <td id=\"T_b768866c_20b6_11ec_bc54_acde48001122row18_col1\" class=\"data row18 col1\" >13788.0232</td>\n",
       "                        <td id=\"T_b768866c_20b6_11ec_bc54_acde48001122row18_col2\" class=\"data row18 col2\" >288558826.3449</td>\n",
       "                        <td id=\"T_b768866c_20b6_11ec_bc54_acde48001122row18_col3\" class=\"data row18 col3\" >0.3333</td>\n",
       "                        <td id=\"T_b768866c_20b6_11ec_bc54_acde48001122row18_col4\" class=\"data row18 col4\" >0.2746</td>\n",
       "                        <td id=\"T_b768866c_20b6_11ec_bc54_acde48001122row18_col5\" class=\"data row18 col5\" >-10.7296</td>\n",
       "                        <td id=\"T_b768866c_20b6_11ec_bc54_acde48001122row18_col6\" class=\"data row18 col6\" >0.0667</td>\n",
       "            </tr>\n",
       "            <tr>\n",
       "                        <th id=\"T_b768866c_20b6_11ec_bc54_acde48001122level0_row19\" class=\"row_heading level0 row19\" >br_cds_dt</th>\n",
       "                        <td id=\"T_b768866c_20b6_11ec_bc54_acde48001122row19_col0\" class=\"data row19 col0\" >Bayesian Ridge w/ Cond. Deseasonalize & Detrending</td>\n",
       "                        <td id=\"T_b768866c_20b6_11ec_bc54_acde48001122row19_col1\" class=\"data row19 col1\" >13783.6350</td>\n",
       "                        <td id=\"T_b768866c_20b6_11ec_bc54_acde48001122row19_col2\" class=\"data row19 col2\" >288398333.8476</td>\n",
       "                        <td id=\"T_b768866c_20b6_11ec_bc54_acde48001122row19_col3\" class=\"data row19 col3\" >0.3335</td>\n",
       "                        <td id=\"T_b768866c_20b6_11ec_bc54_acde48001122row19_col4\" class=\"data row19 col4\" >0.2744</td>\n",
       "                        <td id=\"T_b768866c_20b6_11ec_bc54_acde48001122row19_col5\" class=\"data row19 col5\" >-10.7956</td>\n",
       "                        <td id=\"T_b768866c_20b6_11ec_bc54_acde48001122row19_col6\" class=\"data row19 col6\" >0.0667</td>\n",
       "            </tr>\n",
       "            <tr>\n",
       "                        <th id=\"T_b768866c_20b6_11ec_bc54_acde48001122level0_row20\" class=\"row_heading level0 row20\" >lar_cds_dt</th>\n",
       "                        <td id=\"T_b768866c_20b6_11ec_bc54_acde48001122row20_col0\" class=\"data row20 col0\" >Least Angular Regressor w/ Cond. Deseasonalize & Detrending</td>\n",
       "                        <td id=\"T_b768866c_20b6_11ec_bc54_acde48001122row20_col1\" class=\"data row20 col1\" >13801.5595</td>\n",
       "                        <td id=\"T_b768866c_20b6_11ec_bc54_acde48001122row20_col2\" class=\"data row20 col2\" >289022392.1505</td>\n",
       "                        <td id=\"T_b768866c_20b6_11ec_bc54_acde48001122row20_col3\" class=\"data row20 col3\" >0.3336</td>\n",
       "                        <td id=\"T_b768866c_20b6_11ec_bc54_acde48001122row20_col4\" class=\"data row20 col4\" >0.2750</td>\n",
       "                        <td id=\"T_b768866c_20b6_11ec_bc54_acde48001122row20_col5\" class=\"data row20 col5\" >-10.7543</td>\n",
       "                        <td id=\"T_b768866c_20b6_11ec_bc54_acde48001122row20_col6\" class=\"data row20 col6\" >0.0733</td>\n",
       "            </tr>\n",
       "            <tr>\n",
       "                        <th id=\"T_b768866c_20b6_11ec_bc54_acde48001122level0_row21\" class=\"row_heading level0 row21\" >llar_cds_dt</th>\n",
       "                        <td id=\"T_b768866c_20b6_11ec_bc54_acde48001122row21_col0\" class=\"data row21 col0\" >Lasso Least Angular Regressor w/ Cond. Deseasonalize & Detrending</td>\n",
       "                        <td id=\"T_b768866c_20b6_11ec_bc54_acde48001122row21_col1\" class=\"data row21 col1\" >13796.5158</td>\n",
       "                        <td id=\"T_b768866c_20b6_11ec_bc54_acde48001122row21_col2\" class=\"data row21 col2\" >288895347.4974</td>\n",
       "                        <td id=\"T_b768866c_20b6_11ec_bc54_acde48001122row21_col3\" class=\"data row21 col3\" >0.3337</td>\n",
       "                        <td id=\"T_b768866c_20b6_11ec_bc54_acde48001122row21_col4\" class=\"data row21 col4\" >0.2748</td>\n",
       "                        <td id=\"T_b768866c_20b6_11ec_bc54_acde48001122row21_col5\" class=\"data row21 col5\" >-10.7980</td>\n",
       "                        <td id=\"T_b768866c_20b6_11ec_bc54_acde48001122row21_col6\" class=\"data row21 col6\" >0.0700</td>\n",
       "            </tr>\n",
       "            <tr>\n",
       "                        <th id=\"T_b768866c_20b6_11ec_bc54_acde48001122level0_row22\" class=\"row_heading level0 row22\" >huber_cds_dt</th>\n",
       "                        <td id=\"T_b768866c_20b6_11ec_bc54_acde48001122row22_col0\" class=\"data row22 col0\" >Huber w/ Cond. Deseasonalize & Detrending</td>\n",
       "                        <td id=\"T_b768866c_20b6_11ec_bc54_acde48001122row22_col1\" class=\"data row22 col1\" >15241.4573</td>\n",
       "                        <td id=\"T_b768866c_20b6_11ec_bc54_acde48001122row22_col2\" class=\"data row22 col2\" >359508307.1324</td>\n",
       "                        <td id=\"T_b768866c_20b6_11ec_bc54_acde48001122row22_col3\" class=\"data row22 col3\" >0.3804</td>\n",
       "                        <td id=\"T_b768866c_20b6_11ec_bc54_acde48001122row22_col4\" class=\"data row22 col4\" >0.3017</td>\n",
       "                        <td id=\"T_b768866c_20b6_11ec_bc54_acde48001122row22_col5\" class=\"data row22 col5\" >-19.1514</td>\n",
       "                        <td id=\"T_b768866c_20b6_11ec_bc54_acde48001122row22_col6\" class=\"data row22 col6\" >0.0967</td>\n",
       "            </tr>\n",
       "            <tr>\n",
       "                        <th id=\"T_b768866c_20b6_11ec_bc54_acde48001122level0_row23\" class=\"row_heading level0 row23\" >polytrend</th>\n",
       "                        <td id=\"T_b768866c_20b6_11ec_bc54_acde48001122row23_col0\" class=\"data row23 col0\" >Polynomial Trend Forecaster</td>\n",
       "                        <td id=\"T_b768866c_20b6_11ec_bc54_acde48001122row23_col1\" class=\"data row23 col1\" >17106.6502</td>\n",
       "                        <td id=\"T_b768866c_20b6_11ec_bc54_acde48001122row23_col2\" class=\"data row23 col2\" >396762268.6232</td>\n",
       "                        <td id=\"T_b768866c_20b6_11ec_bc54_acde48001122row23_col3\" class=\"data row23 col3\" >0.4287</td>\n",
       "                        <td id=\"T_b768866c_20b6_11ec_bc54_acde48001122row23_col4\" class=\"data row23 col4\" >0.3364</td>\n",
       "                        <td id=\"T_b768866c_20b6_11ec_bc54_acde48001122row23_col5\" class=\"data row23 col5\" >-24.6157</td>\n",
       "                        <td id=\"T_b768866c_20b6_11ec_bc54_acde48001122row23_col6\" class=\"data row23 col6\" >0.0200</td>\n",
       "            </tr>\n",
       "            <tr>\n",
       "                        <th id=\"T_b768866c_20b6_11ec_bc54_acde48001122level0_row24\" class=\"row_heading level0 row24\" >par_cds_dt</th>\n",
       "                        <td id=\"T_b768866c_20b6_11ec_bc54_acde48001122row24_col0\" class=\"data row24 col0\" >Passive Aggressive w/ Cond. Deseasonalize & Detrending</td>\n",
       "                        <td id=\"T_b768866c_20b6_11ec_bc54_acde48001122row24_col1\" class=\"data row24 col1\" >19449136.1249</td>\n",
       "                        <td id=\"T_b768866c_20b6_11ec_bc54_acde48001122row24_col2\" class=\"data row24 col2\" >5615685464347919.0000</td>\n",
       "                        <td id=\"T_b768866c_20b6_11ec_bc54_acde48001122row24_col3\" class=\"data row24 col3\" >527.8578</td>\n",
       "                        <td id=\"T_b768866c_20b6_11ec_bc54_acde48001122row24_col4\" class=\"data row24 col4\" >1.2102</td>\n",
       "                        <td id=\"T_b768866c_20b6_11ec_bc54_acde48001122row24_col5\" class=\"data row24 col5\" >-752398223.9266</td>\n",
       "                        <td id=\"T_b768866c_20b6_11ec_bc54_acde48001122row24_col6\" class=\"data row24 col6\" >0.0767</td>\n",
       "            </tr>\n",
       "    </tbody></table>"
      ],
      "text/plain": [
       "<pandas.io.formats.style.Styler at 0x7fa2a1cd9198>"
      ]
     },
     "metadata": {},
     "output_type": "display_data"
    },
    {
     "name": "stderr",
     "output_type": "stream",
     "text": [
      "INFO:logs:master_model_container: 50\n",
      "INFO:logs:display_container: 2\n",
      "INFO:logs:NaiveForecaster(sp=1, strategy='last', window_length=None)\n",
      "INFO:logs:compare_models() succesfully completed......................................\n"
     ]
    }
   ],
   "source": [
    "best = exp.compare_models(sort = 'MAPE') #mean abs percentage error"
   ]
  },
  {
   "cell_type": "code",
   "execution_count": 160,
   "id": "94d6652a-7fe9-47b2-ac5e-b472900931d1",
   "metadata": {},
   "outputs": [],
   "source": [
    "copy_df2 = df.squeeze()"
   ]
  },
  {
   "cell_type": "code",
   "execution_count": 162,
   "id": "c466c950-55aa-48fb-a059-8f70ee62b9b0",
   "metadata": {},
   "outputs": [
    {
     "data": {
      "text/html": [
       "<style  type=\"text/css\" >\n",
       "#T_1b8bb8ee_20b7_11ec_a28f_acde48001122row3_col0,#T_1b8bb8ee_20b7_11ec_a28f_acde48001122row3_col1,#T_1b8bb8ee_20b7_11ec_a28f_acde48001122row3_col2,#T_1b8bb8ee_20b7_11ec_a28f_acde48001122row3_col3,#T_1b8bb8ee_20b7_11ec_a28f_acde48001122row3_col4,#T_1b8bb8ee_20b7_11ec_a28f_acde48001122row3_col5{\n",
       "            background:  yellow;\n",
       "        }</style><table id=\"T_1b8bb8ee_20b7_11ec_a28f_acde48001122\" ><thead>    <tr>        <th class=\"blank level0\" ></th>        <th class=\"col_heading level0 col0\" >cutoff</th>        <th class=\"col_heading level0 col1\" >MAE</th>        <th class=\"col_heading level0 col2\" >RMSE</th>        <th class=\"col_heading level0 col3\" >MAPE</th>        <th class=\"col_heading level0 col4\" >SMAPE</th>        <th class=\"col_heading level0 col5\" >R2</th>    </tr></thead><tbody>\n",
       "                <tr>\n",
       "                        <th id=\"T_1b8bb8ee_20b7_11ec_a28f_acde48001122level0_row0\" class=\"row_heading level0 row0\" >0</th>\n",
       "                        <td id=\"T_1b8bb8ee_20b7_11ec_a28f_acde48001122row0_col0\" class=\"data row0 col0\" >2021-02-12</td>\n",
       "                        <td id=\"T_1b8bb8ee_20b7_11ec_a28f_acde48001122row0_col1\" class=\"data row0 col1\" >6897.9186</td>\n",
       "                        <td id=\"T_1b8bb8ee_20b7_11ec_a28f_acde48001122row0_col2\" class=\"data row0 col2\" >63993838.2042</td>\n",
       "                        <td id=\"T_1b8bb8ee_20b7_11ec_a28f_acde48001122row0_col3\" class=\"data row0 col3\" >0.1224</td>\n",
       "                        <td id=\"T_1b8bb8ee_20b7_11ec_a28f_acde48001122row0_col4\" class=\"data row0 col4\" >0.1330</td>\n",
       "                        <td id=\"T_1b8bb8ee_20b7_11ec_a28f_acde48001122row0_col5\" class=\"data row0 col5\" >-2.4228</td>\n",
       "            </tr>\n",
       "            <tr>\n",
       "                        <th id=\"T_1b8bb8ee_20b7_11ec_a28f_acde48001122level0_row1\" class=\"row_heading level0 row1\" >1</th>\n",
       "                        <td id=\"T_1b8bb8ee_20b7_11ec_a28f_acde48001122row1_col0\" class=\"data row1 col0\" >2021-04-09</td>\n",
       "                        <td id=\"T_1b8bb8ee_20b7_11ec_a28f_acde48001122row1_col1\" class=\"data row1 col1\" >9460.6052</td>\n",
       "                        <td id=\"T_1b8bb8ee_20b7_11ec_a28f_acde48001122row1_col2\" class=\"data row1 col2\" >156967184.3306</td>\n",
       "                        <td id=\"T_1b8bb8ee_20b7_11ec_a28f_acde48001122row1_col3\" class=\"data row1 col3\" >0.2320</td>\n",
       "                        <td id=\"T_1b8bb8ee_20b7_11ec_a28f_acde48001122row1_col4\" class=\"data row1 col4\" >0.1901</td>\n",
       "                        <td id=\"T_1b8bb8ee_20b7_11ec_a28f_acde48001122row1_col5\" class=\"data row1 col5\" >-0.8602</td>\n",
       "            </tr>\n",
       "            <tr>\n",
       "                        <th id=\"T_1b8bb8ee_20b7_11ec_a28f_acde48001122level0_row2\" class=\"row_heading level0 row2\" >2</th>\n",
       "                        <td id=\"T_1b8bb8ee_20b7_11ec_a28f_acde48001122row2_col0\" class=\"data row2 col0\" >2021-06-04</td>\n",
       "                        <td id=\"T_1b8bb8ee_20b7_11ec_a28f_acde48001122row2_col1\" class=\"data row2 col1\" >2990.2389</td>\n",
       "                        <td id=\"T_1b8bb8ee_20b7_11ec_a28f_acde48001122row2_col2\" class=\"data row2 col2\" >11448550.9347</td>\n",
       "                        <td id=\"T_1b8bb8ee_20b7_11ec_a28f_acde48001122row2_col3\" class=\"data row2 col3\" >0.0884</td>\n",
       "                        <td id=\"T_1b8bb8ee_20b7_11ec_a28f_acde48001122row2_col4\" class=\"data row2 col4\" >0.0845</td>\n",
       "                        <td id=\"T_1b8bb8ee_20b7_11ec_a28f_acde48001122row2_col5\" class=\"data row2 col5\" >-0.5339</td>\n",
       "            </tr>\n",
       "            <tr>\n",
       "                        <th id=\"T_1b8bb8ee_20b7_11ec_a28f_acde48001122level0_row3\" class=\"row_heading level0 row3\" >Mean</th>\n",
       "                        <td id=\"T_1b8bb8ee_20b7_11ec_a28f_acde48001122row3_col0\" class=\"data row3 col0\" >nan</td>\n",
       "                        <td id=\"T_1b8bb8ee_20b7_11ec_a28f_acde48001122row3_col1\" class=\"data row3 col1\" >6449.5876</td>\n",
       "                        <td id=\"T_1b8bb8ee_20b7_11ec_a28f_acde48001122row3_col2\" class=\"data row3 col2\" >77469857.8231</td>\n",
       "                        <td id=\"T_1b8bb8ee_20b7_11ec_a28f_acde48001122row3_col3\" class=\"data row3 col3\" >0.1476</td>\n",
       "                        <td id=\"T_1b8bb8ee_20b7_11ec_a28f_acde48001122row3_col4\" class=\"data row3 col4\" >0.1359</td>\n",
       "                        <td id=\"T_1b8bb8ee_20b7_11ec_a28f_acde48001122row3_col5\" class=\"data row3 col5\" >-1.2723</td>\n",
       "            </tr>\n",
       "            <tr>\n",
       "                        <th id=\"T_1b8bb8ee_20b7_11ec_a28f_acde48001122level0_row4\" class=\"row_heading level0 row4\" >SD</th>\n",
       "                        <td id=\"T_1b8bb8ee_20b7_11ec_a28f_acde48001122row4_col0\" class=\"data row4 col0\" >nan</td>\n",
       "                        <td id=\"T_1b8bb8ee_20b7_11ec_a28f_acde48001122row4_col1\" class=\"data row4 col1\" >2660.4712</td>\n",
       "                        <td id=\"T_1b8bb8ee_20b7_11ec_a28f_acde48001122row4_col2\" class=\"data row4 col2\" >60167103.3868</td>\n",
       "                        <td id=\"T_1b8bb8ee_20b7_11ec_a28f_acde48001122row4_col3\" class=\"data row4 col3\" >0.0613</td>\n",
       "                        <td id=\"T_1b8bb8ee_20b7_11ec_a28f_acde48001122row4_col4\" class=\"data row4 col4\" >0.0432</td>\n",
       "                        <td id=\"T_1b8bb8ee_20b7_11ec_a28f_acde48001122row4_col5\" class=\"data row4 col5\" >0.8244</td>\n",
       "            </tr>\n",
       "    </tbody></table>"
      ],
      "text/plain": [
       "<pandas.io.formats.style.Styler at 0x7fa2a1cd9198>"
      ]
     },
     "metadata": {},
     "output_type": "display_data"
    },
    {
     "name": "stderr",
     "output_type": "stream",
     "text": [
      "INFO:logs:master_model_container: 51\n",
      "INFO:logs:display_container: 5\n",
      "INFO:logs:NaiveForecaster(sp=1, strategy='last', window_length=None)\n",
      "INFO:logs:create_model() successfully completed......................................\n"
     ]
    },
    {
     "data": {
      "text/plain": [
       "NaiveForecaster(sp=1, strategy='last', window_length=None)"
      ]
     },
     "execution_count": 162,
     "metadata": {},
     "output_type": "execute_result"
    }
   ],
   "source": [
    "## Create a model manually\n",
    "model = exp.create_model(\"naive\")\n",
    "model"
   ]
  },
  {
   "cell_type": "code",
   "execution_count": 163,
   "id": "1551c227-8bb0-4f6b-aa6e-1a8a3fcf34ce",
   "metadata": {},
   "outputs": [
    {
     "name": "stderr",
     "output_type": "stream",
     "text": [
      "INFO:logs:Initializing get_config()\n",
      "INFO:logs:get_config(variable=y_train, self=<pycaret.internal.pycaret_experiment.time_series_experiment.TimeSeriesExperiment object at 0x7fa29d2d1048>)\n",
      "INFO:logs:Variable: y_train returned as date\n",
      "2021-01-01    29331.69\n",
      "2021-01-02    32178.33\n",
      "2021-01-03    33000.05\n",
      "2021-01-04    31988.71\n",
      "2021-01-05    33949.53\n",
      "                ...   \n",
      "2021-07-26    37237.60\n",
      "2021-07-27    39457.87\n",
      "2021-07-28    40019.56\n",
      "2021-07-29    40016.48\n",
      "2021-07-30    42206.37\n",
      "Freq: D, Name: BTCUSDT_close, Length: 211, dtype: float64\n",
      "INFO:logs:get_config() succesfully completed......................................\n"
     ]
    },
    {
     "data": {
      "text/plain": [
       "date\n",
       "2021-01-01    29331.69\n",
       "2021-01-02    32178.33\n",
       "2021-01-03    33000.05\n",
       "2021-01-04    31988.71\n",
       "2021-01-05    33949.53\n",
       "Freq: D, Name: BTCUSDT_close, dtype: float64"
      ]
     },
     "execution_count": 163,
     "metadata": {},
     "output_type": "execute_result"
    }
   ],
   "source": [
    "y_train = exp.get_config(\"y_train\")\n",
    "y_train[:5]"
   ]
  },
  {
   "cell_type": "code",
   "execution_count": 164,
   "id": "c317b13b-caf7-4dfa-b574-9d7dadb09a46",
   "metadata": {},
   "outputs": [
    {
     "name": "stderr",
     "output_type": "stream",
     "text": [
      "INFO:logs:Preparing display monitor\n"
     ]
    },
    {
     "data": {
      "text/html": [
       "<style  type=\"text/css\" >\n",
       "</style><table id=\"T_2bf6fa90_20b7_11ec_9f9a_acde48001122\" ><thead>    <tr>        <th class=\"blank level0\" ></th>        <th class=\"col_heading level0 col0\" >Model</th>        <th class=\"col_heading level0 col1\" >MAE</th>        <th class=\"col_heading level0 col2\" >RMSE</th>        <th class=\"col_heading level0 col3\" >MAPE</th>        <th class=\"col_heading level0 col4\" >SMAPE</th>        <th class=\"col_heading level0 col5\" >R2</th>    </tr></thead><tbody>\n",
       "                <tr>\n",
       "                        <th id=\"T_2bf6fa90_20b7_11ec_9f9a_acde48001122level0_row0\" class=\"row_heading level0 row0\" >0</th>\n",
       "                        <td id=\"T_2bf6fa90_20b7_11ec_9f9a_acde48001122row0_col0\" class=\"data row0 col0\" >Naive Forecaster</td>\n",
       "                        <td id=\"T_2bf6fa90_20b7_11ec_9f9a_acde48001122row0_col1\" class=\"data row0 col1\" >4468.1991</td>\n",
       "                        <td id=\"T_2bf6fa90_20b7_11ec_9f9a_acde48001122row0_col2\" class=\"data row0 col2\" >4990.1701</td>\n",
       "                        <td id=\"T_2bf6fa90_20b7_11ec_9f9a_acde48001122row0_col3\" class=\"data row0 col3\" >0.0945</td>\n",
       "                        <td id=\"T_2bf6fa90_20b7_11ec_9f9a_acde48001122row0_col4\" class=\"data row0 col4\" >0.0998</td>\n",
       "                        <td id=\"T_2bf6fa90_20b7_11ec_9f9a_acde48001122row0_col5\" class=\"data row0 col5\" >-1.6029</td>\n",
       "            </tr>\n",
       "    </tbody></table>"
      ],
      "text/plain": [
       "<pandas.io.formats.style.Styler at 0x7fa2a1d8e780>"
      ]
     },
     "metadata": {},
     "output_type": "display_data"
    },
    {
     "data": {
      "image/png": "[encoded data removed]",
      "text/plain": [
       "<Figure size 1152x288 with 1 Axes>"
      ]
     },
     "metadata": {
      "needs_background": "light"
     },
     "output_type": "display_data"
    }
   ],
   "source": [
    "y_predict = exp.predict_model(model)\n",
    "plot_series(copy_df2, y_train, y_predict, labels=['All', 'Train', 'Test Predictions'])\n",
    "plt.grid()"
   ]
  },
  {
   "cell_type": "markdown",
   "id": "b6ccb6b2-7680-45e7-a3c0-68bec3133510",
   "metadata": {
    "tags": []
   },
   "source": [
    "### Start pycaret experiment for model evaluation, just based on BTC price close pct diff"
   ]
  },
  {
   "cell_type": "code",
   "execution_count": 166,
   "id": "1227507e-fe32-40a0-b044-4cd11fe5c5ee",
   "metadata": {},
   "outputs": [],
   "source": [
    "df = pd.read_csv('btcusdt_1d_ohlcv_av_1Jan2019_to_24Sep2021_1day_csv_ver.csv')"
   ]
  },
  {
   "cell_type": "code",
   "execution_count": 167,
   "id": "056e3cff-924a-450f-aa6f-1badef92dc51",
   "metadata": {},
   "outputs": [],
   "source": [
    "del df['Unnamed: 0']"
   ]
  },
  {
   "cell_type": "code",
   "execution_count": 168,
   "id": "53d2950b-71fc-4a66-a184-534ad1b23ad8",
   "metadata": {},
   "outputs": [],
   "source": [
    "df['BTC_pct_diff'] = df.BTCUSDT_close.pct_change()"
   ]
  },
  {
   "cell_type": "code",
   "execution_count": 169,
   "id": "d4609300-3363-418c-a96a-aad548bb994d",
   "metadata": {},
   "outputs": [],
   "source": [
    "df = df.loc[df['year'] == 2021]"
   ]
  },
  {
   "cell_type": "code",
   "execution_count": 170,
   "id": "e6b985a0-062e-4ba8-b020-c200131741aa",
   "metadata": {},
   "outputs": [],
   "source": [
    "df = df[['date', 'BTC_pct_diff']]"
   ]
  },
  {
   "cell_type": "code",
   "execution_count": 171,
   "id": "4ce07990-8972-4ac1-b526-438767a654e9",
   "metadata": {},
   "outputs": [],
   "source": [
    "#df = df.asfreq('d')"
   ]
  },
  {
   "cell_type": "code",
   "execution_count": 172,
   "id": "a74cea55-7a29-4e74-ac26-934f77c6a36d",
   "metadata": {},
   "outputs": [
    {
     "data": {
      "text/html": [
       "<div>\n",
       "<style scoped>\n",
       "    .dataframe tbody tr th:only-of-type {\n",
       "        vertical-align: middle;\n",
       "    }\n",
       "\n",
       "    .dataframe tbody tr th {\n",
       "        vertical-align: top;\n",
       "    }\n",
       "\n",
       "    .dataframe thead th {\n",
       "        text-align: right;\n",
       "    }\n",
       "</style>\n",
       "<table border=\"1\" class=\"dataframe\">\n",
       "  <thead>\n",
       "    <tr style=\"text-align: right;\">\n",
       "      <th></th>\n",
       "      <th>date</th>\n",
       "      <th>BTC_pct_diff</th>\n",
       "    </tr>\n",
       "  </thead>\n",
       "  <tbody>\n",
       "    <tr>\n",
       "      <th>870</th>\n",
       "      <td>2021-01-01</td>\n",
       "      <td>0.014108</td>\n",
       "    </tr>\n",
       "    <tr>\n",
       "      <th>871</th>\n",
       "      <td>2021-01-02</td>\n",
       "      <td>0.097050</td>\n",
       "    </tr>\n",
       "    <tr>\n",
       "      <th>872</th>\n",
       "      <td>2021-01-03</td>\n",
       "      <td>0.025536</td>\n",
       "    </tr>\n",
       "    <tr>\n",
       "      <th>873</th>\n",
       "      <td>2021-01-03</td>\n",
       "      <td>0.000000</td>\n",
       "    </tr>\n",
       "    <tr>\n",
       "      <th>874</th>\n",
       "      <td>2021-01-04</td>\n",
       "      <td>-0.030647</td>\n",
       "    </tr>\n",
       "  </tbody>\n",
       "</table>\n",
       "</div>"
      ],
      "text/plain": [
       "           date  BTC_pct_diff\n",
       "870  2021-01-01      0.014108\n",
       "871  2021-01-02      0.097050\n",
       "872  2021-01-03      0.025536\n",
       "873  2021-01-03      0.000000\n",
       "874  2021-01-04     -0.030647"
      ]
     },
     "execution_count": 172,
     "metadata": {},
     "output_type": "execute_result"
    }
   ],
   "source": [
    "df.head()"
   ]
  },
  {
   "cell_type": "code",
   "execution_count": 173,
   "id": "216c6f0e-6b16-4c63-97af-f3125aaf6e29",
   "metadata": {},
   "outputs": [
    {
     "data": {
      "text/html": [
       "<div>\n",
       "<style scoped>\n",
       "    .dataframe tbody tr th:only-of-type {\n",
       "        vertical-align: middle;\n",
       "    }\n",
       "\n",
       "    .dataframe tbody tr th {\n",
       "        vertical-align: top;\n",
       "    }\n",
       "\n",
       "    .dataframe thead th {\n",
       "        text-align: right;\n",
       "    }\n",
       "</style>\n",
       "<table border=\"1\" class=\"dataframe\">\n",
       "  <thead>\n",
       "    <tr style=\"text-align: right;\">\n",
       "      <th></th>\n",
       "      <th>BTC_pct_diff</th>\n",
       "    </tr>\n",
       "    <tr>\n",
       "      <th>date</th>\n",
       "      <th></th>\n",
       "    </tr>\n",
       "  </thead>\n",
       "  <tbody>\n",
       "    <tr>\n",
       "      <th>2021-01-01</th>\n",
       "      <td>0.014108</td>\n",
       "    </tr>\n",
       "  </tbody>\n",
       "</table>\n",
       "</div>"
      ],
      "text/plain": [
       "            BTC_pct_diff\n",
       "date                    \n",
       "2021-01-01      0.014108"
      ]
     },
     "execution_count": 173,
     "metadata": {},
     "output_type": "execute_result"
    }
   ],
   "source": [
    "df.index = pd.DatetimeIndex(df['date'])\n",
    "#df.groupby(df.index).first()\n",
    "df.drop(['date'],axis=1,inplace=True)\n",
    "df.head(1)"
   ]
  },
  {
   "cell_type": "code",
   "execution_count": 174,
   "id": "da918d5d-bdad-4ae2-bea1-75c622ca7904",
   "metadata": {},
   "outputs": [
    {
     "data": {
      "text/plain": [
       "False"
      ]
     },
     "execution_count": 174,
     "metadata": {},
     "output_type": "execute_result"
    }
   ],
   "source": [
    "df.index.is_unique"
   ]
  },
  {
   "cell_type": "code",
   "execution_count": 175,
   "id": "d5dbdc33-fd09-4afc-addb-b0ee50eaaa13",
   "metadata": {},
   "outputs": [],
   "source": [
    "df = df.loc[~df.index.duplicated(), :]"
   ]
  },
  {
   "cell_type": "code",
   "execution_count": 176,
   "id": "50b1abc3-b9da-4f11-8761-d46a668b96d3",
   "metadata": {},
   "outputs": [
    {
     "data": {
      "text/plain": [
       "DatetimeIndex(['2021-01-01', '2021-01-02', '2021-01-03', '2021-01-04',\n",
       "               '2021-01-05', '2021-01-06', '2021-01-07', '2021-01-08',\n",
       "               '2021-01-09', '2021-01-10',\n",
       "               ...\n",
       "               '2021-09-15', '2021-09-16', '2021-09-17', '2021-09-18',\n",
       "               '2021-09-19', '2021-09-20', '2021-09-21', '2021-09-22',\n",
       "               '2021-09-23', '2021-09-24'],\n",
       "              dtype='datetime64[ns]', name='date', length=267, freq='D')"
      ]
     },
     "execution_count": 176,
     "metadata": {},
     "output_type": "execute_result"
    }
   ],
   "source": [
    "df = df.asfreq('d')\n",
    "df.index"
   ]
  },
  {
   "cell_type": "code",
   "execution_count": 177,
   "id": "aa821311-fd59-40e9-b013-a0ef1894233b",
   "metadata": {},
   "outputs": [
    {
     "data": {
      "text/plain": [
       "False"
      ]
     },
     "execution_count": 177,
     "metadata": {},
     "output_type": "execute_result"
    }
   ],
   "source": [
    "#check for nulls\n",
    "df.isnull().values.any()"
   ]
  },
  {
   "cell_type": "code",
   "execution_count": 178,
   "id": "c7d3196d-4a38-45e0-8c58-3e3f89c0f488",
   "metadata": {},
   "outputs": [
    {
     "data": {
      "text/html": [
       "<style  type=\"text/css\" >\n",
       "</style><table id=\"T_e029fd46_20b7_11ec_a2da_acde48001122\" ><thead>    <tr>        <th class=\"blank level0\" ></th>        <th class=\"col_heading level0 col0\" >Description</th>        <th class=\"col_heading level0 col1\" >Value</th>    </tr></thead><tbody>\n",
       "                <tr>\n",
       "                        <th id=\"T_e029fd46_20b7_11ec_a2da_acde48001122level0_row0\" class=\"row_heading level0 row0\" >0</th>\n",
       "                        <td id=\"T_e029fd46_20b7_11ec_a2da_acde48001122row0_col0\" class=\"data row0 col0\" >session_id</td>\n",
       "                        <td id=\"T_e029fd46_20b7_11ec_a2da_acde48001122row0_col1\" class=\"data row0 col1\" >42</td>\n",
       "            </tr>\n",
       "            <tr>\n",
       "                        <th id=\"T_e029fd46_20b7_11ec_a2da_acde48001122level0_row1\" class=\"row_heading level0 row1\" >1</th>\n",
       "                        <td id=\"T_e029fd46_20b7_11ec_a2da_acde48001122row1_col0\" class=\"data row1 col0\" >Original Data</td>\n",
       "                        <td id=\"T_e029fd46_20b7_11ec_a2da_acde48001122row1_col1\" class=\"data row1 col1\" >(267, 1)</td>\n",
       "            </tr>\n",
       "            <tr>\n",
       "                        <th id=\"T_e029fd46_20b7_11ec_a2da_acde48001122level0_row2\" class=\"row_heading level0 row2\" >2</th>\n",
       "                        <td id=\"T_e029fd46_20b7_11ec_a2da_acde48001122row2_col0\" class=\"data row2 col0\" >Missing Values</td>\n",
       "                        <td id=\"T_e029fd46_20b7_11ec_a2da_acde48001122row2_col1\" class=\"data row2 col1\" >False</td>\n",
       "            </tr>\n",
       "            <tr>\n",
       "                        <th id=\"T_e029fd46_20b7_11ec_a2da_acde48001122level0_row3\" class=\"row_heading level0 row3\" >3</th>\n",
       "                        <td id=\"T_e029fd46_20b7_11ec_a2da_acde48001122row3_col0\" class=\"data row3 col0\" >Transformed Train Set</td>\n",
       "                        <td id=\"T_e029fd46_20b7_11ec_a2da_acde48001122row3_col1\" class=\"data row3 col1\" >(211,)</td>\n",
       "            </tr>\n",
       "            <tr>\n",
       "                        <th id=\"T_e029fd46_20b7_11ec_a2da_acde48001122level0_row4\" class=\"row_heading level0 row4\" >4</th>\n",
       "                        <td id=\"T_e029fd46_20b7_11ec_a2da_acde48001122row4_col0\" class=\"data row4 col0\" >Transformed Test Set</td>\n",
       "                        <td id=\"T_e029fd46_20b7_11ec_a2da_acde48001122row4_col1\" class=\"data row4 col1\" >(56,)</td>\n",
       "            </tr>\n",
       "            <tr>\n",
       "                        <th id=\"T_e029fd46_20b7_11ec_a2da_acde48001122level0_row5\" class=\"row_heading level0 row5\" >5</th>\n",
       "                        <td id=\"T_e029fd46_20b7_11ec_a2da_acde48001122row5_col0\" class=\"data row5 col0\" >Fold Generator</td>\n",
       "                        <td id=\"T_e029fd46_20b7_11ec_a2da_acde48001122row5_col1\" class=\"data row5 col1\" >ExpandingWindowSplitter</td>\n",
       "            </tr>\n",
       "            <tr>\n",
       "                        <th id=\"T_e029fd46_20b7_11ec_a2da_acde48001122level0_row6\" class=\"row_heading level0 row6\" >6</th>\n",
       "                        <td id=\"T_e029fd46_20b7_11ec_a2da_acde48001122row6_col0\" class=\"data row6 col0\" >Fold Number</td>\n",
       "                        <td id=\"T_e029fd46_20b7_11ec_a2da_acde48001122row6_col1\" class=\"data row6 col1\" >3</td>\n",
       "            </tr>\n",
       "            <tr>\n",
       "                        <th id=\"T_e029fd46_20b7_11ec_a2da_acde48001122level0_row7\" class=\"row_heading level0 row7\" >7</th>\n",
       "                        <td id=\"T_e029fd46_20b7_11ec_a2da_acde48001122row7_col0\" class=\"data row7 col0\" >CPU Jobs</td>\n",
       "                        <td id=\"T_e029fd46_20b7_11ec_a2da_acde48001122row7_col1\" class=\"data row7 col1\" >-1</td>\n",
       "            </tr>\n",
       "            <tr>\n",
       "                        <th id=\"T_e029fd46_20b7_11ec_a2da_acde48001122level0_row8\" class=\"row_heading level0 row8\" >8</th>\n",
       "                        <td id=\"T_e029fd46_20b7_11ec_a2da_acde48001122row8_col0\" class=\"data row8 col0\" >Use GPU</td>\n",
       "                        <td id=\"T_e029fd46_20b7_11ec_a2da_acde48001122row8_col1\" class=\"data row8 col1\" >False</td>\n",
       "            </tr>\n",
       "            <tr>\n",
       "                        <th id=\"T_e029fd46_20b7_11ec_a2da_acde48001122level0_row9\" class=\"row_heading level0 row9\" >9</th>\n",
       "                        <td id=\"T_e029fd46_20b7_11ec_a2da_acde48001122row9_col0\" class=\"data row9 col0\" >Log Experiment</td>\n",
       "                        <td id=\"T_e029fd46_20b7_11ec_a2da_acde48001122row9_col1\" class=\"data row9 col1\" >False</td>\n",
       "            </tr>\n",
       "            <tr>\n",
       "                        <th id=\"T_e029fd46_20b7_11ec_a2da_acde48001122level0_row10\" class=\"row_heading level0 row10\" >10</th>\n",
       "                        <td id=\"T_e029fd46_20b7_11ec_a2da_acde48001122row10_col0\" class=\"data row10 col0\" >Experiment Name</td>\n",
       "                        <td id=\"T_e029fd46_20b7_11ec_a2da_acde48001122row10_col1\" class=\"data row10 col1\" >ts-default-name</td>\n",
       "            </tr>\n",
       "            <tr>\n",
       "                        <th id=\"T_e029fd46_20b7_11ec_a2da_acde48001122level0_row11\" class=\"row_heading level0 row11\" >11</th>\n",
       "                        <td id=\"T_e029fd46_20b7_11ec_a2da_acde48001122row11_col0\" class=\"data row11 col0\" >USI</td>\n",
       "                        <td id=\"T_e029fd46_20b7_11ec_a2da_acde48001122row11_col1\" class=\"data row11 col1\" >d73a</td>\n",
       "            </tr>\n",
       "            <tr>\n",
       "                        <th id=\"T_e029fd46_20b7_11ec_a2da_acde48001122level0_row12\" class=\"row_heading level0 row12\" >12</th>\n",
       "                        <td id=\"T_e029fd46_20b7_11ec_a2da_acde48001122row12_col0\" class=\"data row12 col0\" >Imputation Type</td>\n",
       "                        <td id=\"T_e029fd46_20b7_11ec_a2da_acde48001122row12_col1\" class=\"data row12 col1\" >simple</td>\n",
       "            </tr>\n",
       "    </tbody></table>"
      ],
      "text/plain": [
       "<pandas.io.formats.style.Styler at 0x7fa29d32acc0>"
      ]
     },
     "metadata": {},
     "output_type": "display_data"
    },
    {
     "name": "stderr",
     "output_type": "stream",
     "text": [
      "INFO:logs:self.master_model_container: 0\n",
      "INFO:logs:self.display_container: 1\n",
      "INFO:logs:Pipeline(memory=None,\n",
      "         steps=[('dtypes',\n",
      "                 DataTypes_Auto_infer(categorical_features=[],\n",
      "                                      display_types=False, features_todrop=[],\n",
      "                                      float_dtype='float64', id_columns=[],\n",
      "                                      ml_usecase='regression',\n",
      "                                      numerical_features=[],\n",
      "                                      target='BTC_pct_diff',\n",
      "                                      time_features=[])),\n",
      "                ('imputer',\n",
      "                 Simple_Imputer(categorical_strategy='most frequent',\n",
      "                                fill_value_categorical='not_available',\n",
      "                                fill...\n",
      "                ('scaling', 'passthrough'), ('P_transform', 'passthrough'),\n",
      "                ('binn', 'passthrough'), ('rem_outliers', 'passthrough'),\n",
      "                ('cluster_all', 'passthrough'),\n",
      "                ('dummy', Dummify(target='BTC_pct_diff')),\n",
      "                ('fix_perfect', 'passthrough'),\n",
      "                ('clean_names', Clean_Colum_Names()),\n",
      "                ('feature_select', 'passthrough'), ('fix_multi', 'passthrough'),\n",
      "                ('dfs', 'passthrough'), ('pca', 'passthrough')],\n",
      "         verbose=False)\n",
      "INFO:logs:setup() successfully completed......................................\n"
     ]
    },
    {
     "data": {
      "text/plain": [
       "<pycaret.internal.pycaret_experiment.time_series_experiment.TimeSeriesExperiment at 0x7fa2a1d89748>"
      ]
     },
     "execution_count": 178,
     "metadata": {},
     "output_type": "execute_result"
    }
   ],
   "source": [
    "exp = TimeSeriesExperiment()\n",
    "exp.setup(data=df,session_id=42, fh=56) #fh we should test for 2 months data 56 days"
   ]
  },
  {
   "cell_type": "code",
   "execution_count": 179,
   "id": "8f666a99-939a-45af-b31e-1536e4c0cf6f",
   "metadata": {},
   "outputs": [
    {
     "data": {
      "text/html": [
       "<style  type=\"text/css\" >\n",
       "    #T_3ecc3148_20b8_11ec_bc54_acde48001122 th {\n",
       "          text-align: left;\n",
       "    }#T_3ecc3148_20b8_11ec_bc54_acde48001122row0_col0,#T_3ecc3148_20b8_11ec_bc54_acde48001122row0_col4,#T_3ecc3148_20b8_11ec_bc54_acde48001122row1_col0,#T_3ecc3148_20b8_11ec_bc54_acde48001122row1_col1,#T_3ecc3148_20b8_11ec_bc54_acde48001122row1_col2,#T_3ecc3148_20b8_11ec_bc54_acde48001122row1_col3,#T_3ecc3148_20b8_11ec_bc54_acde48001122row1_col4,#T_3ecc3148_20b8_11ec_bc54_acde48001122row1_col5,#T_3ecc3148_20b8_11ec_bc54_acde48001122row2_col0,#T_3ecc3148_20b8_11ec_bc54_acde48001122row2_col1,#T_3ecc3148_20b8_11ec_bc54_acde48001122row2_col2,#T_3ecc3148_20b8_11ec_bc54_acde48001122row2_col3,#T_3ecc3148_20b8_11ec_bc54_acde48001122row2_col4,#T_3ecc3148_20b8_11ec_bc54_acde48001122row2_col5,#T_3ecc3148_20b8_11ec_bc54_acde48001122row3_col0,#T_3ecc3148_20b8_11ec_bc54_acde48001122row3_col1,#T_3ecc3148_20b8_11ec_bc54_acde48001122row3_col2,#T_3ecc3148_20b8_11ec_bc54_acde48001122row3_col3,#T_3ecc3148_20b8_11ec_bc54_acde48001122row3_col5,#T_3ecc3148_20b8_11ec_bc54_acde48001122row4_col0,#T_3ecc3148_20b8_11ec_bc54_acde48001122row4_col1,#T_3ecc3148_20b8_11ec_bc54_acde48001122row4_col2,#T_3ecc3148_20b8_11ec_bc54_acde48001122row4_col3,#T_3ecc3148_20b8_11ec_bc54_acde48001122row4_col4,#T_3ecc3148_20b8_11ec_bc54_acde48001122row4_col5,#T_3ecc3148_20b8_11ec_bc54_acde48001122row5_col0,#T_3ecc3148_20b8_11ec_bc54_acde48001122row5_col1,#T_3ecc3148_20b8_11ec_bc54_acde48001122row5_col2,#T_3ecc3148_20b8_11ec_bc54_acde48001122row5_col3,#T_3ecc3148_20b8_11ec_bc54_acde48001122row5_col4,#T_3ecc3148_20b8_11ec_bc54_acde48001122row5_col5,#T_3ecc3148_20b8_11ec_bc54_acde48001122row6_col0,#T_3ecc3148_20b8_11ec_bc54_acde48001122row6_col1,#T_3ecc3148_20b8_11ec_bc54_acde48001122row6_col2,#T_3ecc3148_20b8_11ec_bc54_acde48001122row6_col3,#T_3ecc3148_20b8_11ec_bc54_acde48001122row6_col4,#T_3ecc3148_20b8_11ec_bc54_acde48001122row6_col5,#T_3ecc3148_20b8_11ec_bc54_acde48001122row7_col0,#T_3ecc3148_20b8_11ec_bc54_acde48001122row7_col1,#T_3ecc3148_20b8_11ec_bc54_acde48001122row7_col2,#T_3ecc3148_20b8_11ec_bc54_acde48001122row7_col3,#T_3ecc3148_20b8_11ec_bc54_acde48001122row7_col4,#T_3ecc3148_20b8_11ec_bc54_acde48001122row7_col5,#T_3ecc3148_20b8_11ec_bc54_acde48001122row8_col0,#T_3ecc3148_20b8_11ec_bc54_acde48001122row8_col1,#T_3ecc3148_20b8_11ec_bc54_acde48001122row8_col2,#T_3ecc3148_20b8_11ec_bc54_acde48001122row8_col3,#T_3ecc3148_20b8_11ec_bc54_acde48001122row8_col4,#T_3ecc3148_20b8_11ec_bc54_acde48001122row8_col5,#T_3ecc3148_20b8_11ec_bc54_acde48001122row9_col0,#T_3ecc3148_20b8_11ec_bc54_acde48001122row9_col1,#T_3ecc3148_20b8_11ec_bc54_acde48001122row9_col2,#T_3ecc3148_20b8_11ec_bc54_acde48001122row9_col3,#T_3ecc3148_20b8_11ec_bc54_acde48001122row9_col4,#T_3ecc3148_20b8_11ec_bc54_acde48001122row9_col5,#T_3ecc3148_20b8_11ec_bc54_acde48001122row10_col0,#T_3ecc3148_20b8_11ec_bc54_acde48001122row10_col1,#T_3ecc3148_20b8_11ec_bc54_acde48001122row10_col2,#T_3ecc3148_20b8_11ec_bc54_acde48001122row10_col3,#T_3ecc3148_20b8_11ec_bc54_acde48001122row10_col4,#T_3ecc3148_20b8_11ec_bc54_acde48001122row10_col5,#T_3ecc3148_20b8_11ec_bc54_acde48001122row11_col0,#T_3ecc3148_20b8_11ec_bc54_acde48001122row11_col1,#T_3ecc3148_20b8_11ec_bc54_acde48001122row11_col2,#T_3ecc3148_20b8_11ec_bc54_acde48001122row11_col3,#T_3ecc3148_20b8_11ec_bc54_acde48001122row11_col4,#T_3ecc3148_20b8_11ec_bc54_acde48001122row11_col5,#T_3ecc3148_20b8_11ec_bc54_acde48001122row12_col0,#T_3ecc3148_20b8_11ec_bc54_acde48001122row12_col1,#T_3ecc3148_20b8_11ec_bc54_acde48001122row12_col2,#T_3ecc3148_20b8_11ec_bc54_acde48001122row12_col3,#T_3ecc3148_20b8_11ec_bc54_acde48001122row12_col4,#T_3ecc3148_20b8_11ec_bc54_acde48001122row12_col5,#T_3ecc3148_20b8_11ec_bc54_acde48001122row13_col0,#T_3ecc3148_20b8_11ec_bc54_acde48001122row13_col1,#T_3ecc3148_20b8_11ec_bc54_acde48001122row13_col2,#T_3ecc3148_20b8_11ec_bc54_acde48001122row13_col3,#T_3ecc3148_20b8_11ec_bc54_acde48001122row13_col4,#T_3ecc3148_20b8_11ec_bc54_acde48001122row13_col5,#T_3ecc3148_20b8_11ec_bc54_acde48001122row14_col0,#T_3ecc3148_20b8_11ec_bc54_acde48001122row14_col1,#T_3ecc3148_20b8_11ec_bc54_acde48001122row14_col2,#T_3ecc3148_20b8_11ec_bc54_acde48001122row14_col3,#T_3ecc3148_20b8_11ec_bc54_acde48001122row14_col4,#T_3ecc3148_20b8_11ec_bc54_acde48001122row14_col5,#T_3ecc3148_20b8_11ec_bc54_acde48001122row15_col0,#T_3ecc3148_20b8_11ec_bc54_acde48001122row15_col1,#T_3ecc3148_20b8_11ec_bc54_acde48001122row15_col2,#T_3ecc3148_20b8_11ec_bc54_acde48001122row15_col3,#T_3ecc3148_20b8_11ec_bc54_acde48001122row15_col4,#T_3ecc3148_20b8_11ec_bc54_acde48001122row15_col5,#T_3ecc3148_20b8_11ec_bc54_acde48001122row16_col0,#T_3ecc3148_20b8_11ec_bc54_acde48001122row16_col1,#T_3ecc3148_20b8_11ec_bc54_acde48001122row16_col2,#T_3ecc3148_20b8_11ec_bc54_acde48001122row16_col3,#T_3ecc3148_20b8_11ec_bc54_acde48001122row16_col4,#T_3ecc3148_20b8_11ec_bc54_acde48001122row16_col5,#T_3ecc3148_20b8_11ec_bc54_acde48001122row17_col0,#T_3ecc3148_20b8_11ec_bc54_acde48001122row17_col1,#T_3ecc3148_20b8_11ec_bc54_acde48001122row17_col2,#T_3ecc3148_20b8_11ec_bc54_acde48001122row17_col3,#T_3ecc3148_20b8_11ec_bc54_acde48001122row17_col4,#T_3ecc3148_20b8_11ec_bc54_acde48001122row17_col5,#T_3ecc3148_20b8_11ec_bc54_acde48001122row18_col0,#T_3ecc3148_20b8_11ec_bc54_acde48001122row18_col1,#T_3ecc3148_20b8_11ec_bc54_acde48001122row18_col2,#T_3ecc3148_20b8_11ec_bc54_acde48001122row18_col3,#T_3ecc3148_20b8_11ec_bc54_acde48001122row18_col4,#T_3ecc3148_20b8_11ec_bc54_acde48001122row18_col5,#T_3ecc3148_20b8_11ec_bc54_acde48001122row19_col0,#T_3ecc3148_20b8_11ec_bc54_acde48001122row19_col1,#T_3ecc3148_20b8_11ec_bc54_acde48001122row19_col2,#T_3ecc3148_20b8_11ec_bc54_acde48001122row19_col3,#T_3ecc3148_20b8_11ec_bc54_acde48001122row19_col4,#T_3ecc3148_20b8_11ec_bc54_acde48001122row19_col5,#T_3ecc3148_20b8_11ec_bc54_acde48001122row20_col0,#T_3ecc3148_20b8_11ec_bc54_acde48001122row20_col1,#T_3ecc3148_20b8_11ec_bc54_acde48001122row20_col2,#T_3ecc3148_20b8_11ec_bc54_acde48001122row20_col3,#T_3ecc3148_20b8_11ec_bc54_acde48001122row20_col4,#T_3ecc3148_20b8_11ec_bc54_acde48001122row20_col5,#T_3ecc3148_20b8_11ec_bc54_acde48001122row21_col0,#T_3ecc3148_20b8_11ec_bc54_acde48001122row21_col1,#T_3ecc3148_20b8_11ec_bc54_acde48001122row21_col2,#T_3ecc3148_20b8_11ec_bc54_acde48001122row21_col3,#T_3ecc3148_20b8_11ec_bc54_acde48001122row21_col4,#T_3ecc3148_20b8_11ec_bc54_acde48001122row21_col5,#T_3ecc3148_20b8_11ec_bc54_acde48001122row22_col0,#T_3ecc3148_20b8_11ec_bc54_acde48001122row22_col1,#T_3ecc3148_20b8_11ec_bc54_acde48001122row22_col2,#T_3ecc3148_20b8_11ec_bc54_acde48001122row22_col3,#T_3ecc3148_20b8_11ec_bc54_acde48001122row22_col4,#T_3ecc3148_20b8_11ec_bc54_acde48001122row22_col5,#T_3ecc3148_20b8_11ec_bc54_acde48001122row23_col0,#T_3ecc3148_20b8_11ec_bc54_acde48001122row23_col1,#T_3ecc3148_20b8_11ec_bc54_acde48001122row23_col2,#T_3ecc3148_20b8_11ec_bc54_acde48001122row23_col3,#T_3ecc3148_20b8_11ec_bc54_acde48001122row23_col4,#T_3ecc3148_20b8_11ec_bc54_acde48001122row23_col5,#T_3ecc3148_20b8_11ec_bc54_acde48001122row24_col0,#T_3ecc3148_20b8_11ec_bc54_acde48001122row24_col1,#T_3ecc3148_20b8_11ec_bc54_acde48001122row24_col2,#T_3ecc3148_20b8_11ec_bc54_acde48001122row24_col3,#T_3ecc3148_20b8_11ec_bc54_acde48001122row24_col4,#T_3ecc3148_20b8_11ec_bc54_acde48001122row24_col5{\n",
       "            text-align:  left;\n",
       "            text-align:  left;\n",
       "        }#T_3ecc3148_20b8_11ec_bc54_acde48001122row0_col1,#T_3ecc3148_20b8_11ec_bc54_acde48001122row0_col2,#T_3ecc3148_20b8_11ec_bc54_acde48001122row0_col3,#T_3ecc3148_20b8_11ec_bc54_acde48001122row0_col5,#T_3ecc3148_20b8_11ec_bc54_acde48001122row3_col4{\n",
       "            text-align:  left;\n",
       "            text-align:  left;\n",
       "            background-color:  yellow;\n",
       "        }#T_3ecc3148_20b8_11ec_bc54_acde48001122row0_col6,#T_3ecc3148_20b8_11ec_bc54_acde48001122row1_col6,#T_3ecc3148_20b8_11ec_bc54_acde48001122row2_col6,#T_3ecc3148_20b8_11ec_bc54_acde48001122row3_col6,#T_3ecc3148_20b8_11ec_bc54_acde48001122row4_col6,#T_3ecc3148_20b8_11ec_bc54_acde48001122row5_col6,#T_3ecc3148_20b8_11ec_bc54_acde48001122row6_col6,#T_3ecc3148_20b8_11ec_bc54_acde48001122row7_col6,#T_3ecc3148_20b8_11ec_bc54_acde48001122row8_col6,#T_3ecc3148_20b8_11ec_bc54_acde48001122row9_col6,#T_3ecc3148_20b8_11ec_bc54_acde48001122row10_col6,#T_3ecc3148_20b8_11ec_bc54_acde48001122row11_col6,#T_3ecc3148_20b8_11ec_bc54_acde48001122row12_col6,#T_3ecc3148_20b8_11ec_bc54_acde48001122row13_col6,#T_3ecc3148_20b8_11ec_bc54_acde48001122row14_col6,#T_3ecc3148_20b8_11ec_bc54_acde48001122row16_col6,#T_3ecc3148_20b8_11ec_bc54_acde48001122row17_col6,#T_3ecc3148_20b8_11ec_bc54_acde48001122row18_col6,#T_3ecc3148_20b8_11ec_bc54_acde48001122row19_col6,#T_3ecc3148_20b8_11ec_bc54_acde48001122row20_col6,#T_3ecc3148_20b8_11ec_bc54_acde48001122row21_col6,#T_3ecc3148_20b8_11ec_bc54_acde48001122row22_col6,#T_3ecc3148_20b8_11ec_bc54_acde48001122row23_col6,#T_3ecc3148_20b8_11ec_bc54_acde48001122row24_col6{\n",
       "            text-align:  left;\n",
       "            text-align:  left;\n",
       "            background-color:  lightgrey;\n",
       "        }#T_3ecc3148_20b8_11ec_bc54_acde48001122row15_col6{\n",
       "            text-align:  left;\n",
       "            text-align:  left;\n",
       "            background-color:  yellow;\n",
       "            background-color:  lightgrey;\n",
       "        }</style><table id=\"T_3ecc3148_20b8_11ec_bc54_acde48001122\" ><thead>    <tr>        <th class=\"blank level0\" ></th>        <th class=\"col_heading level0 col0\" >Model</th>        <th class=\"col_heading level0 col1\" >MAE</th>        <th class=\"col_heading level0 col2\" >RMSE</th>        <th class=\"col_heading level0 col3\" >MAPE</th>        <th class=\"col_heading level0 col4\" >SMAPE</th>        <th class=\"col_heading level0 col5\" >R2</th>        <th class=\"col_heading level0 col6\" >TT (Sec)</th>    </tr></thead><tbody>\n",
       "                <tr>\n",
       "                        <th id=\"T_3ecc3148_20b8_11ec_bc54_acde48001122level0_row0\" class=\"row_heading level0 row0\" >arima</th>\n",
       "                        <td id=\"T_3ecc3148_20b8_11ec_bc54_acde48001122row0_col0\" class=\"data row0 col0\" >ARIMA</td>\n",
       "                        <td id=\"T_3ecc3148_20b8_11ec_bc54_acde48001122row0_col1\" class=\"data row0 col1\" >0.0341</td>\n",
       "                        <td id=\"T_3ecc3148_20b8_11ec_bc54_acde48001122row0_col2\" class=\"data row0 col2\" >0.0020</td>\n",
       "                        <td id=\"T_3ecc3148_20b8_11ec_bc54_acde48001122row0_col3\" class=\"data row0 col3\" >2.6993</td>\n",
       "                        <td id=\"T_3ecc3148_20b8_11ec_bc54_acde48001122row0_col4\" class=\"data row0 col4\" >1.5714</td>\n",
       "                        <td id=\"T_3ecc3148_20b8_11ec_bc54_acde48001122row0_col5\" class=\"data row0 col5\" >-0.0497</td>\n",
       "                        <td id=\"T_3ecc3148_20b8_11ec_bc54_acde48001122row0_col6\" class=\"data row0 col6\" >0.3167</td>\n",
       "            </tr>\n",
       "            <tr>\n",
       "                        <th id=\"T_3ecc3148_20b8_11ec_bc54_acde48001122level0_row1\" class=\"row_heading level0 row1\" >ada_cds_dt</th>\n",
       "                        <td id=\"T_3ecc3148_20b8_11ec_bc54_acde48001122row1_col0\" class=\"data row1 col0\" >AdaBoost w/ Cond. Deseasonalize & Detrending</td>\n",
       "                        <td id=\"T_3ecc3148_20b8_11ec_bc54_acde48001122row1_col1\" class=\"data row1 col1\" >0.0362</td>\n",
       "                        <td id=\"T_3ecc3148_20b8_11ec_bc54_acde48001122row1_col2\" class=\"data row1 col2\" >0.0022</td>\n",
       "                        <td id=\"T_3ecc3148_20b8_11ec_bc54_acde48001122row1_col3\" class=\"data row1 col3\" >4.0176</td>\n",
       "                        <td id=\"T_3ecc3148_20b8_11ec_bc54_acde48001122row1_col4\" class=\"data row1 col4\" >1.4532</td>\n",
       "                        <td id=\"T_3ecc3148_20b8_11ec_bc54_acde48001122row1_col5\" class=\"data row1 col5\" >-0.1736</td>\n",
       "                        <td id=\"T_3ecc3148_20b8_11ec_bc54_acde48001122row1_col6\" class=\"data row1 col6\" >0.3200</td>\n",
       "            </tr>\n",
       "            <tr>\n",
       "                        <th id=\"T_3ecc3148_20b8_11ec_bc54_acde48001122level0_row2\" class=\"row_heading level0 row2\" >auto_arima</th>\n",
       "                        <td id=\"T_3ecc3148_20b8_11ec_bc54_acde48001122row2_col0\" class=\"data row2 col0\" >Auto ARIMA</td>\n",
       "                        <td id=\"T_3ecc3148_20b8_11ec_bc54_acde48001122row2_col1\" class=\"data row2 col1\" >0.0358</td>\n",
       "                        <td id=\"T_3ecc3148_20b8_11ec_bc54_acde48001122row2_col2\" class=\"data row2 col2\" >0.0022</td>\n",
       "                        <td id=\"T_3ecc3148_20b8_11ec_bc54_acde48001122row2_col3\" class=\"data row2 col3\" >4.2741</td>\n",
       "                        <td id=\"T_3ecc3148_20b8_11ec_bc54_acde48001122row2_col4\" class=\"data row2 col4\" >1.4945</td>\n",
       "                        <td id=\"T_3ecc3148_20b8_11ec_bc54_acde48001122row2_col5\" class=\"data row2 col5\" >-0.1295</td>\n",
       "                        <td id=\"T_3ecc3148_20b8_11ec_bc54_acde48001122row2_col6\" class=\"data row2 col6\" >1.3967</td>\n",
       "            </tr>\n",
       "            <tr>\n",
       "                        <th id=\"T_3ecc3148_20b8_11ec_bc54_acde48001122level0_row3\" class=\"row_heading level0 row3\" >lightgbm_cds_dt</th>\n",
       "                        <td id=\"T_3ecc3148_20b8_11ec_bc54_acde48001122row3_col0\" class=\"data row3 col0\" >Light Gradient Boosting w/ Cond. Deseasonalize & Detrending</td>\n",
       "                        <td id=\"T_3ecc3148_20b8_11ec_bc54_acde48001122row3_col1\" class=\"data row3 col1\" >0.0392</td>\n",
       "                        <td id=\"T_3ecc3148_20b8_11ec_bc54_acde48001122row3_col2\" class=\"data row3 col2\" >0.0026</td>\n",
       "                        <td id=\"T_3ecc3148_20b8_11ec_bc54_acde48001122row3_col3\" class=\"data row3 col3\" >4.5196</td>\n",
       "                        <td id=\"T_3ecc3148_20b8_11ec_bc54_acde48001122row3_col4\" class=\"data row3 col4\" >1.4472</td>\n",
       "                        <td id=\"T_3ecc3148_20b8_11ec_bc54_acde48001122row3_col5\" class=\"data row3 col5\" >-0.3374</td>\n",
       "                        <td id=\"T_3ecc3148_20b8_11ec_bc54_acde48001122row3_col6\" class=\"data row3 col6\" >0.1067</td>\n",
       "            </tr>\n",
       "            <tr>\n",
       "                        <th id=\"T_3ecc3148_20b8_11ec_bc54_acde48001122level0_row4\" class=\"row_heading level0 row4\" >theta</th>\n",
       "                        <td id=\"T_3ecc3148_20b8_11ec_bc54_acde48001122row4_col0\" class=\"data row4 col0\" >Theta Forecaster</td>\n",
       "                        <td id=\"T_3ecc3148_20b8_11ec_bc54_acde48001122row4_col1\" class=\"data row4 col1\" >0.0351</td>\n",
       "                        <td id=\"T_3ecc3148_20b8_11ec_bc54_acde48001122row4_col2\" class=\"data row4 col2\" >0.0021</td>\n",
       "                        <td id=\"T_3ecc3148_20b8_11ec_bc54_acde48001122row4_col3\" class=\"data row4 col3\" >4.6024</td>\n",
       "                        <td id=\"T_3ecc3148_20b8_11ec_bc54_acde48001122row4_col4\" class=\"data row4 col4\" >1.5638</td>\n",
       "                        <td id=\"T_3ecc3148_20b8_11ec_bc54_acde48001122row4_col5\" class=\"data row4 col5\" >-0.1202</td>\n",
       "                        <td id=\"T_3ecc3148_20b8_11ec_bc54_acde48001122row4_col6\" class=\"data row4 col6\" >0.0500</td>\n",
       "            </tr>\n",
       "            <tr>\n",
       "                        <th id=\"T_3ecc3148_20b8_11ec_bc54_acde48001122level0_row5\" class=\"row_heading level0 row5\" >ridge_cds_dt</th>\n",
       "                        <td id=\"T_3ecc3148_20b8_11ec_bc54_acde48001122row5_col0\" class=\"data row5 col0\" >Ridge w/ Cond. Deseasonalize & Detrending</td>\n",
       "                        <td id=\"T_3ecc3148_20b8_11ec_bc54_acde48001122row5_col1\" class=\"data row5 col1\" >0.0352</td>\n",
       "                        <td id=\"T_3ecc3148_20b8_11ec_bc54_acde48001122row5_col2\" class=\"data row5 col2\" >0.0021</td>\n",
       "                        <td id=\"T_3ecc3148_20b8_11ec_bc54_acde48001122row5_col3\" class=\"data row5 col3\" >4.9096</td>\n",
       "                        <td id=\"T_3ecc3148_20b8_11ec_bc54_acde48001122row5_col4\" class=\"data row5 col4\" >1.4936</td>\n",
       "                        <td id=\"T_3ecc3148_20b8_11ec_bc54_acde48001122row5_col5\" class=\"data row5 col5\" >-0.1210</td>\n",
       "                        <td id=\"T_3ecc3148_20b8_11ec_bc54_acde48001122row5_col6\" class=\"data row5 col6\" >0.0733</td>\n",
       "            </tr>\n",
       "            <tr>\n",
       "                        <th id=\"T_3ecc3148_20b8_11ec_bc54_acde48001122level0_row6\" class=\"row_heading level0 row6\" >br_cds_dt</th>\n",
       "                        <td id=\"T_3ecc3148_20b8_11ec_bc54_acde48001122row6_col0\" class=\"data row6 col0\" >Bayesian Ridge w/ Cond. Deseasonalize & Detrending</td>\n",
       "                        <td id=\"T_3ecc3148_20b8_11ec_bc54_acde48001122row6_col1\" class=\"data row6 col1\" >0.0352</td>\n",
       "                        <td id=\"T_3ecc3148_20b8_11ec_bc54_acde48001122row6_col2\" class=\"data row6 col2\" >0.0021</td>\n",
       "                        <td id=\"T_3ecc3148_20b8_11ec_bc54_acde48001122row6_col3\" class=\"data row6 col3\" >4.9196</td>\n",
       "                        <td id=\"T_3ecc3148_20b8_11ec_bc54_acde48001122row6_col4\" class=\"data row6 col4\" >1.4989</td>\n",
       "                        <td id=\"T_3ecc3148_20b8_11ec_bc54_acde48001122row6_col5\" class=\"data row6 col5\" >-0.1247</td>\n",
       "                        <td id=\"T_3ecc3148_20b8_11ec_bc54_acde48001122row6_col6\" class=\"data row6 col6\" >0.1167</td>\n",
       "            </tr>\n",
       "            <tr>\n",
       "                        <th id=\"T_3ecc3148_20b8_11ec_bc54_acde48001122level0_row7\" class=\"row_heading level0 row7\" >en_cds_dt</th>\n",
       "                        <td id=\"T_3ecc3148_20b8_11ec_bc54_acde48001122row7_col0\" class=\"data row7 col0\" >Elastic Net w/ Cond. Deseasonalize & Detrending</td>\n",
       "                        <td id=\"T_3ecc3148_20b8_11ec_bc54_acde48001122row7_col1\" class=\"data row7 col1\" >0.0352</td>\n",
       "                        <td id=\"T_3ecc3148_20b8_11ec_bc54_acde48001122row7_col2\" class=\"data row7 col2\" >0.0021</td>\n",
       "                        <td id=\"T_3ecc3148_20b8_11ec_bc54_acde48001122row7_col3\" class=\"data row7 col3\" >4.9199</td>\n",
       "                        <td id=\"T_3ecc3148_20b8_11ec_bc54_acde48001122row7_col4\" class=\"data row7 col4\" >1.4989</td>\n",
       "                        <td id=\"T_3ecc3148_20b8_11ec_bc54_acde48001122row7_col5\" class=\"data row7 col5\" >-0.1251</td>\n",
       "                        <td id=\"T_3ecc3148_20b8_11ec_bc54_acde48001122row7_col6\" class=\"data row7 col6\" >0.0833</td>\n",
       "            </tr>\n",
       "            <tr>\n",
       "                        <th id=\"T_3ecc3148_20b8_11ec_bc54_acde48001122level0_row8\" class=\"row_heading level0 row8\" >lasso_cds_dt</th>\n",
       "                        <td id=\"T_3ecc3148_20b8_11ec_bc54_acde48001122row8_col0\" class=\"data row8 col0\" >Lasso w/ Cond. Deseasonalize & Detrending</td>\n",
       "                        <td id=\"T_3ecc3148_20b8_11ec_bc54_acde48001122row8_col1\" class=\"data row8 col1\" >0.0352</td>\n",
       "                        <td id=\"T_3ecc3148_20b8_11ec_bc54_acde48001122row8_col2\" class=\"data row8 col2\" >0.0021</td>\n",
       "                        <td id=\"T_3ecc3148_20b8_11ec_bc54_acde48001122row8_col3\" class=\"data row8 col3\" >4.9199</td>\n",
       "                        <td id=\"T_3ecc3148_20b8_11ec_bc54_acde48001122row8_col4\" class=\"data row8 col4\" >1.4989</td>\n",
       "                        <td id=\"T_3ecc3148_20b8_11ec_bc54_acde48001122row8_col5\" class=\"data row8 col5\" >-0.1251</td>\n",
       "                        <td id=\"T_3ecc3148_20b8_11ec_bc54_acde48001122row8_col6\" class=\"data row8 col6\" >0.0833</td>\n",
       "            </tr>\n",
       "            <tr>\n",
       "                        <th id=\"T_3ecc3148_20b8_11ec_bc54_acde48001122level0_row9\" class=\"row_heading level0 row9\" >llar_cds_dt</th>\n",
       "                        <td id=\"T_3ecc3148_20b8_11ec_bc54_acde48001122row9_col0\" class=\"data row9 col0\" >Lasso Least Angular Regressor w/ Cond. Deseasonalize & Detrending</td>\n",
       "                        <td id=\"T_3ecc3148_20b8_11ec_bc54_acde48001122row9_col1\" class=\"data row9 col1\" >0.0352</td>\n",
       "                        <td id=\"T_3ecc3148_20b8_11ec_bc54_acde48001122row9_col2\" class=\"data row9 col2\" >0.0021</td>\n",
       "                        <td id=\"T_3ecc3148_20b8_11ec_bc54_acde48001122row9_col3\" class=\"data row9 col3\" >4.9199</td>\n",
       "                        <td id=\"T_3ecc3148_20b8_11ec_bc54_acde48001122row9_col4\" class=\"data row9 col4\" >1.4989</td>\n",
       "                        <td id=\"T_3ecc3148_20b8_11ec_bc54_acde48001122row9_col5\" class=\"data row9 col5\" >-0.1251</td>\n",
       "                        <td id=\"T_3ecc3148_20b8_11ec_bc54_acde48001122row9_col6\" class=\"data row9 col6\" >0.0867</td>\n",
       "            </tr>\n",
       "            <tr>\n",
       "                        <th id=\"T_3ecc3148_20b8_11ec_bc54_acde48001122level0_row10\" class=\"row_heading level0 row10\" >gbr_cds_dt</th>\n",
       "                        <td id=\"T_3ecc3148_20b8_11ec_bc54_acde48001122row10_col0\" class=\"data row10 col0\" >Gradient Boosting w/ Cond. Deseasonalize & Detrending</td>\n",
       "                        <td id=\"T_3ecc3148_20b8_11ec_bc54_acde48001122row10_col1\" class=\"data row10 col1\" >0.0408</td>\n",
       "                        <td id=\"T_3ecc3148_20b8_11ec_bc54_acde48001122row10_col2\" class=\"data row10 col2\" >0.0029</td>\n",
       "                        <td id=\"T_3ecc3148_20b8_11ec_bc54_acde48001122row10_col3\" class=\"data row10 col3\" >5.0021</td>\n",
       "                        <td id=\"T_3ecc3148_20b8_11ec_bc54_acde48001122row10_col4\" class=\"data row10 col4\" >1.4881</td>\n",
       "                        <td id=\"T_3ecc3148_20b8_11ec_bc54_acde48001122row10_col5\" class=\"data row10 col5\" >-0.6225</td>\n",
       "                        <td id=\"T_3ecc3148_20b8_11ec_bc54_acde48001122row10_col6\" class=\"data row10 col6\" >0.1367</td>\n",
       "            </tr>\n",
       "            <tr>\n",
       "                        <th id=\"T_3ecc3148_20b8_11ec_bc54_acde48001122level0_row11\" class=\"row_heading level0 row11\" >omp_cds_dt</th>\n",
       "                        <td id=\"T_3ecc3148_20b8_11ec_bc54_acde48001122row11_col0\" class=\"data row11 col0\" >Orthogonal Matching Pursuit w/ Cond. Deseasonalize & Detrending</td>\n",
       "                        <td id=\"T_3ecc3148_20b8_11ec_bc54_acde48001122row11_col1\" class=\"data row11 col1\" >0.0355</td>\n",
       "                        <td id=\"T_3ecc3148_20b8_11ec_bc54_acde48001122row11_col2\" class=\"data row11 col2\" >0.0021</td>\n",
       "                        <td id=\"T_3ecc3148_20b8_11ec_bc54_acde48001122row11_col3\" class=\"data row11 col3\" >5.0262</td>\n",
       "                        <td id=\"T_3ecc3148_20b8_11ec_bc54_acde48001122row11_col4\" class=\"data row11 col4\" >1.5012</td>\n",
       "                        <td id=\"T_3ecc3148_20b8_11ec_bc54_acde48001122row11_col5\" class=\"data row11 col5\" >-0.1398</td>\n",
       "                        <td id=\"T_3ecc3148_20b8_11ec_bc54_acde48001122row11_col6\" class=\"data row11 col6\" >0.0733</td>\n",
       "            </tr>\n",
       "            <tr>\n",
       "                        <th id=\"T_3ecc3148_20b8_11ec_bc54_acde48001122level0_row12\" class=\"row_heading level0 row12\" >rf_cds_dt</th>\n",
       "                        <td id=\"T_3ecc3148_20b8_11ec_bc54_acde48001122row12_col0\" class=\"data row12 col0\" >Random Forest w/ Cond. Deseasonalize & Detrending</td>\n",
       "                        <td id=\"T_3ecc3148_20b8_11ec_bc54_acde48001122row12_col1\" class=\"data row12 col1\" >0.0369</td>\n",
       "                        <td id=\"T_3ecc3148_20b8_11ec_bc54_acde48001122row12_col2\" class=\"data row12 col2\" >0.0023</td>\n",
       "                        <td id=\"T_3ecc3148_20b8_11ec_bc54_acde48001122row12_col3\" class=\"data row12 col3\" >5.1958</td>\n",
       "                        <td id=\"T_3ecc3148_20b8_11ec_bc54_acde48001122row12_col4\" class=\"data row12 col4\" >1.5125</td>\n",
       "                        <td id=\"T_3ecc3148_20b8_11ec_bc54_acde48001122row12_col5\" class=\"data row12 col5\" >-0.1994</td>\n",
       "                        <td id=\"T_3ecc3148_20b8_11ec_bc54_acde48001122row12_col6\" class=\"data row12 col6\" >2.2767</td>\n",
       "            </tr>\n",
       "            <tr>\n",
       "                        <th id=\"T_3ecc3148_20b8_11ec_bc54_acde48001122level0_row13\" class=\"row_heading level0 row13\" >lr_cds_dt</th>\n",
       "                        <td id=\"T_3ecc3148_20b8_11ec_bc54_acde48001122row13_col0\" class=\"data row13 col0\" >Linear w/ Cond. Deseasonalize & Detrending</td>\n",
       "                        <td id=\"T_3ecc3148_20b8_11ec_bc54_acde48001122row13_col1\" class=\"data row13 col1\" >0.0366</td>\n",
       "                        <td id=\"T_3ecc3148_20b8_11ec_bc54_acde48001122row13_col2\" class=\"data row13 col2\" >0.0023</td>\n",
       "                        <td id=\"T_3ecc3148_20b8_11ec_bc54_acde48001122row13_col3\" class=\"data row13 col3\" >5.2031</td>\n",
       "                        <td id=\"T_3ecc3148_20b8_11ec_bc54_acde48001122row13_col4\" class=\"data row13 col4\" >1.4831</td>\n",
       "                        <td id=\"T_3ecc3148_20b8_11ec_bc54_acde48001122row13_col5\" class=\"data row13 col5\" >-0.2125</td>\n",
       "                        <td id=\"T_3ecc3148_20b8_11ec_bc54_acde48001122row13_col6\" class=\"data row13 col6\" >0.0700</td>\n",
       "            </tr>\n",
       "            <tr>\n",
       "                        <th id=\"T_3ecc3148_20b8_11ec_bc54_acde48001122level0_row14\" class=\"row_heading level0 row14\" >lar_cds_dt</th>\n",
       "                        <td id=\"T_3ecc3148_20b8_11ec_bc54_acde48001122row14_col0\" class=\"data row14 col0\" >Least Angular Regressor w/ Cond. Deseasonalize & Detrending</td>\n",
       "                        <td id=\"T_3ecc3148_20b8_11ec_bc54_acde48001122row14_col1\" class=\"data row14 col1\" >0.0366</td>\n",
       "                        <td id=\"T_3ecc3148_20b8_11ec_bc54_acde48001122row14_col2\" class=\"data row14 col2\" >0.0023</td>\n",
       "                        <td id=\"T_3ecc3148_20b8_11ec_bc54_acde48001122row14_col3\" class=\"data row14 col3\" >5.2031</td>\n",
       "                        <td id=\"T_3ecc3148_20b8_11ec_bc54_acde48001122row14_col4\" class=\"data row14 col4\" >1.4831</td>\n",
       "                        <td id=\"T_3ecc3148_20b8_11ec_bc54_acde48001122row14_col5\" class=\"data row14 col5\" >-0.2125</td>\n",
       "                        <td id=\"T_3ecc3148_20b8_11ec_bc54_acde48001122row14_col6\" class=\"data row14 col6\" >0.0900</td>\n",
       "            </tr>\n",
       "            <tr>\n",
       "                        <th id=\"T_3ecc3148_20b8_11ec_bc54_acde48001122level0_row15\" class=\"row_heading level0 row15\" >polytrend</th>\n",
       "                        <td id=\"T_3ecc3148_20b8_11ec_bc54_acde48001122row15_col0\" class=\"data row15 col0\" >Polynomial Trend Forecaster</td>\n",
       "                        <td id=\"T_3ecc3148_20b8_11ec_bc54_acde48001122row15_col1\" class=\"data row15 col1\" >0.0359</td>\n",
       "                        <td id=\"T_3ecc3148_20b8_11ec_bc54_acde48001122row15_col2\" class=\"data row15 col2\" >0.0022</td>\n",
       "                        <td id=\"T_3ecc3148_20b8_11ec_bc54_acde48001122row15_col3\" class=\"data row15 col3\" >5.4772</td>\n",
       "                        <td id=\"T_3ecc3148_20b8_11ec_bc54_acde48001122row15_col4\" class=\"data row15 col4\" >1.5200</td>\n",
       "                        <td id=\"T_3ecc3148_20b8_11ec_bc54_acde48001122row15_col5\" class=\"data row15 col5\" >-0.1621</td>\n",
       "                        <td id=\"T_3ecc3148_20b8_11ec_bc54_acde48001122row15_col6\" class=\"data row15 col6\" >0.0167</td>\n",
       "            </tr>\n",
       "            <tr>\n",
       "                        <th id=\"T_3ecc3148_20b8_11ec_bc54_acde48001122level0_row16\" class=\"row_heading level0 row16\" >ets</th>\n",
       "                        <td id=\"T_3ecc3148_20b8_11ec_bc54_acde48001122row16_col0\" class=\"data row16 col0\" >ETS</td>\n",
       "                        <td id=\"T_3ecc3148_20b8_11ec_bc54_acde48001122row16_col1\" class=\"data row16 col1\" >0.0359</td>\n",
       "                        <td id=\"T_3ecc3148_20b8_11ec_bc54_acde48001122row16_col2\" class=\"data row16 col2\" >0.0022</td>\n",
       "                        <td id=\"T_3ecc3148_20b8_11ec_bc54_acde48001122row16_col3\" class=\"data row16 col3\" >5.4778</td>\n",
       "                        <td id=\"T_3ecc3148_20b8_11ec_bc54_acde48001122row16_col4\" class=\"data row16 col4\" >1.5200</td>\n",
       "                        <td id=\"T_3ecc3148_20b8_11ec_bc54_acde48001122row16_col5\" class=\"data row16 col5\" >-0.1622</td>\n",
       "                        <td id=\"T_3ecc3148_20b8_11ec_bc54_acde48001122row16_col6\" class=\"data row16 col6\" >0.0533</td>\n",
       "            </tr>\n",
       "            <tr>\n",
       "                        <th id=\"T_3ecc3148_20b8_11ec_bc54_acde48001122level0_row17\" class=\"row_heading level0 row17\" >exp_smooth</th>\n",
       "                        <td id=\"T_3ecc3148_20b8_11ec_bc54_acde48001122row17_col0\" class=\"data row17 col0\" >Exponential Smoothing</td>\n",
       "                        <td id=\"T_3ecc3148_20b8_11ec_bc54_acde48001122row17_col1\" class=\"data row17 col1\" >0.0359</td>\n",
       "                        <td id=\"T_3ecc3148_20b8_11ec_bc54_acde48001122row17_col2\" class=\"data row17 col2\" >0.0022</td>\n",
       "                        <td id=\"T_3ecc3148_20b8_11ec_bc54_acde48001122row17_col3\" class=\"data row17 col3\" >5.4793</td>\n",
       "                        <td id=\"T_3ecc3148_20b8_11ec_bc54_acde48001122row17_col4\" class=\"data row17 col4\" >1.5200</td>\n",
       "                        <td id=\"T_3ecc3148_20b8_11ec_bc54_acde48001122row17_col5\" class=\"data row17 col5\" >-0.1623</td>\n",
       "                        <td id=\"T_3ecc3148_20b8_11ec_bc54_acde48001122row17_col6\" class=\"data row17 col6\" >0.0433</td>\n",
       "            </tr>\n",
       "            <tr>\n",
       "                        <th id=\"T_3ecc3148_20b8_11ec_bc54_acde48001122level0_row18\" class=\"row_heading level0 row18\" >et_cds_dt</th>\n",
       "                        <td id=\"T_3ecc3148_20b8_11ec_bc54_acde48001122row18_col0\" class=\"data row18 col0\" >Extra Trees w/ Cond. Deseasonalize & Detrending</td>\n",
       "                        <td id=\"T_3ecc3148_20b8_11ec_bc54_acde48001122row18_col1\" class=\"data row18 col1\" >0.0380</td>\n",
       "                        <td id=\"T_3ecc3148_20b8_11ec_bc54_acde48001122row18_col2\" class=\"data row18 col2\" >0.0024</td>\n",
       "                        <td id=\"T_3ecc3148_20b8_11ec_bc54_acde48001122row18_col3\" class=\"data row18 col3\" >6.4462</td>\n",
       "                        <td id=\"T_3ecc3148_20b8_11ec_bc54_acde48001122row18_col4\" class=\"data row18 col4\" >1.4943</td>\n",
       "                        <td id=\"T_3ecc3148_20b8_11ec_bc54_acde48001122row18_col5\" class=\"data row18 col5\" >-0.3247</td>\n",
       "                        <td id=\"T_3ecc3148_20b8_11ec_bc54_acde48001122row18_col6\" class=\"data row18 col6\" >2.2067</td>\n",
       "            </tr>\n",
       "            <tr>\n",
       "                        <th id=\"T_3ecc3148_20b8_11ec_bc54_acde48001122level0_row19\" class=\"row_heading level0 row19\" >naive</th>\n",
       "                        <td id=\"T_3ecc3148_20b8_11ec_bc54_acde48001122row19_col0\" class=\"data row19 col0\" >Naive Forecaster</td>\n",
       "                        <td id=\"T_3ecc3148_20b8_11ec_bc54_acde48001122row19_col1\" class=\"data row19 col1\" >0.0461</td>\n",
       "                        <td id=\"T_3ecc3148_20b8_11ec_bc54_acde48001122row19_col2\" class=\"data row19 col2\" >0.0035</td>\n",
       "                        <td id=\"T_3ecc3148_20b8_11ec_bc54_acde48001122row19_col3\" class=\"data row19 col3\" >8.3304</td>\n",
       "                        <td id=\"T_3ecc3148_20b8_11ec_bc54_acde48001122row19_col4\" class=\"data row19 col4\" >1.6020</td>\n",
       "                        <td id=\"T_3ecc3148_20b8_11ec_bc54_acde48001122row19_col5\" class=\"data row19 col5\" >-0.8657</td>\n",
       "                        <td id=\"T_3ecc3148_20b8_11ec_bc54_acde48001122row19_col6\" class=\"data row19 col6\" >4.5233</td>\n",
       "            </tr>\n",
       "            <tr>\n",
       "                        <th id=\"T_3ecc3148_20b8_11ec_bc54_acde48001122level0_row20\" class=\"row_heading level0 row20\" >snaive</th>\n",
       "                        <td id=\"T_3ecc3148_20b8_11ec_bc54_acde48001122row20_col0\" class=\"data row20 col0\" >Seasonal Naive Forecaster</td>\n",
       "                        <td id=\"T_3ecc3148_20b8_11ec_bc54_acde48001122row20_col1\" class=\"data row20 col1\" >0.0461</td>\n",
       "                        <td id=\"T_3ecc3148_20b8_11ec_bc54_acde48001122row20_col2\" class=\"data row20 col2\" >0.0035</td>\n",
       "                        <td id=\"T_3ecc3148_20b8_11ec_bc54_acde48001122row20_col3\" class=\"data row20 col3\" >8.3304</td>\n",
       "                        <td id=\"T_3ecc3148_20b8_11ec_bc54_acde48001122row20_col4\" class=\"data row20 col4\" >1.6020</td>\n",
       "                        <td id=\"T_3ecc3148_20b8_11ec_bc54_acde48001122row20_col5\" class=\"data row20 col5\" >-0.8657</td>\n",
       "                        <td id=\"T_3ecc3148_20b8_11ec_bc54_acde48001122row20_col6\" class=\"data row20 col6\" >5.5733</td>\n",
       "            </tr>\n",
       "            <tr>\n",
       "                        <th id=\"T_3ecc3148_20b8_11ec_bc54_acde48001122level0_row21\" class=\"row_heading level0 row21\" >knn_cds_dt</th>\n",
       "                        <td id=\"T_3ecc3148_20b8_11ec_bc54_acde48001122row21_col0\" class=\"data row21 col0\" >K Neighbors w/ Cond. Deseasonalize & Detrending</td>\n",
       "                        <td id=\"T_3ecc3148_20b8_11ec_bc54_acde48001122row21_col1\" class=\"data row21 col1\" >0.0423</td>\n",
       "                        <td id=\"T_3ecc3148_20b8_11ec_bc54_acde48001122row21_col2\" class=\"data row21 col2\" >0.0029</td>\n",
       "                        <td id=\"T_3ecc3148_20b8_11ec_bc54_acde48001122row21_col3\" class=\"data row21 col3\" >9.7773</td>\n",
       "                        <td id=\"T_3ecc3148_20b8_11ec_bc54_acde48001122row21_col4\" class=\"data row21 col4\" >1.4754</td>\n",
       "                        <td id=\"T_3ecc3148_20b8_11ec_bc54_acde48001122row21_col5\" class=\"data row21 col5\" >-0.5881</td>\n",
       "                        <td id=\"T_3ecc3148_20b8_11ec_bc54_acde48001122row21_col6\" class=\"data row21 col6\" >2.0767</td>\n",
       "            </tr>\n",
       "            <tr>\n",
       "                        <th id=\"T_3ecc3148_20b8_11ec_bc54_acde48001122level0_row22\" class=\"row_heading level0 row22\" >dt_cds_dt</th>\n",
       "                        <td id=\"T_3ecc3148_20b8_11ec_bc54_acde48001122row22_col0\" class=\"data row22 col0\" >Decision Tree w/ Cond. Deseasonalize & Detrending</td>\n",
       "                        <td id=\"T_3ecc3148_20b8_11ec_bc54_acde48001122row22_col1\" class=\"data row22 col1\" >0.0600</td>\n",
       "                        <td id=\"T_3ecc3148_20b8_11ec_bc54_acde48001122row22_col2\" class=\"data row22 col2\" >0.0061</td>\n",
       "                        <td id=\"T_3ecc3148_20b8_11ec_bc54_acde48001122row22_col3\" class=\"data row22 col3\" >10.1145</td>\n",
       "                        <td id=\"T_3ecc3148_20b8_11ec_bc54_acde48001122row22_col4\" class=\"data row22 col4\" >1.5417</td>\n",
       "                        <td id=\"T_3ecc3148_20b8_11ec_bc54_acde48001122row22_col5\" class=\"data row22 col5\" >-2.5992</td>\n",
       "                        <td id=\"T_3ecc3148_20b8_11ec_bc54_acde48001122row22_col6\" class=\"data row22 col6\" >0.0733</td>\n",
       "            </tr>\n",
       "            <tr>\n",
       "                        <th id=\"T_3ecc3148_20b8_11ec_bc54_acde48001122level0_row23\" class=\"row_heading level0 row23\" >huber_cds_dt</th>\n",
       "                        <td id=\"T_3ecc3148_20b8_11ec_bc54_acde48001122row23_col0\" class=\"data row23 col0\" >Huber w/ Cond. Deseasonalize & Detrending</td>\n",
       "                        <td id=\"T_3ecc3148_20b8_11ec_bc54_acde48001122row23_col1\" class=\"data row23 col1\" >0.0432</td>\n",
       "                        <td id=\"T_3ecc3148_20b8_11ec_bc54_acde48001122row23_col2\" class=\"data row23 col2\" >0.0032</td>\n",
       "                        <td id=\"T_3ecc3148_20b8_11ec_bc54_acde48001122row23_col3\" class=\"data row23 col3\" >10.6838</td>\n",
       "                        <td id=\"T_3ecc3148_20b8_11ec_bc54_acde48001122row23_col4\" class=\"data row23 col4\" >1.4946</td>\n",
       "                        <td id=\"T_3ecc3148_20b8_11ec_bc54_acde48001122row23_col5\" class=\"data row23 col5\" >-0.8735</td>\n",
       "                        <td id=\"T_3ecc3148_20b8_11ec_bc54_acde48001122row23_col6\" class=\"data row23 col6\" >0.0933</td>\n",
       "            </tr>\n",
       "            <tr>\n",
       "                        <th id=\"T_3ecc3148_20b8_11ec_bc54_acde48001122level0_row24\" class=\"row_heading level0 row24\" >par_cds_dt</th>\n",
       "                        <td id=\"T_3ecc3148_20b8_11ec_bc54_acde48001122row24_col0\" class=\"data row24 col0\" >Passive Aggressive w/ Cond. Deseasonalize & Detrending</td>\n",
       "                        <td id=\"T_3ecc3148_20b8_11ec_bc54_acde48001122row24_col1\" class=\"data row24 col1\" >4952528988.4502</td>\n",
       "                        <td id=\"T_3ecc3148_20b8_11ec_bc54_acde48001122row24_col2\" class=\"data row24 col2\" >1025041741481998024704.0000</td>\n",
       "                        <td id=\"T_3ecc3148_20b8_11ec_bc54_acde48001122row24_col3\" class=\"data row24 col3\" >15542460819686.8984</td>\n",
       "                        <td id=\"T_3ecc3148_20b8_11ec_bc54_acde48001122row24_col4\" class=\"data row24 col4\" >1.9697</td>\n",
       "                        <td id=\"T_3ecc3148_20b8_11ec_bc54_acde48001122row24_col5\" class=\"data row24 col5\" >-564168239287483041316864.0000</td>\n",
       "                        <td id=\"T_3ecc3148_20b8_11ec_bc54_acde48001122row24_col6\" class=\"data row24 col6\" >0.0867</td>\n",
       "            </tr>\n",
       "    </tbody></table>"
      ],
      "text/plain": [
       "<pandas.io.formats.style.Styler at 0x7fa29a872588>"
      ]
     },
     "metadata": {},
     "output_type": "display_data"
    },
    {
     "name": "stderr",
     "output_type": "stream",
     "text": [
      "INFO:logs:master_model_container: 50\n",
      "INFO:logs:display_container: 2\n",
      "INFO:logs:ARIMA(maxiter=50, method='lbfgs', order=(1, 0, 0), out_of_sample_size=0,\n",
      "      scoring='mse', scoring_args=None, seasonal_order=(0, 0, 0, 0),\n",
      "      start_params=None, suppress_warnings=False, trend=None,\n",
      "      with_intercept=True)\n",
      "INFO:logs:compare_models() succesfully completed......................................\n"
     ]
    }
   ],
   "source": [
    "best = exp.compare_models(sort = 'MAPE') #mean abs percentage error"
   ]
  },
  {
   "cell_type": "code",
   "execution_count": 180,
   "id": "de172ca6-60cd-4215-8ed2-2250052751dd",
   "metadata": {},
   "outputs": [
    {
     "data": {
      "text/html": [
       "<style  type=\"text/css\" >\n",
       "#T_558f1fd0_20b8_11ec_916c_acde48001122row3_col0,#T_558f1fd0_20b8_11ec_916c_acde48001122row3_col1,#T_558f1fd0_20b8_11ec_916c_acde48001122row3_col2,#T_558f1fd0_20b8_11ec_916c_acde48001122row3_col3,#T_558f1fd0_20b8_11ec_916c_acde48001122row3_col4,#T_558f1fd0_20b8_11ec_916c_acde48001122row3_col5{\n",
       "            background:  yellow;\n",
       "        }</style><table id=\"T_558f1fd0_20b8_11ec_916c_acde48001122\" ><thead>    <tr>        <th class=\"blank level0\" ></th>        <th class=\"col_heading level0 col0\" >cutoff</th>        <th class=\"col_heading level0 col1\" >MAE</th>        <th class=\"col_heading level0 col2\" >RMSE</th>        <th class=\"col_heading level0 col3\" >MAPE</th>        <th class=\"col_heading level0 col4\" >SMAPE</th>        <th class=\"col_heading level0 col5\" >R2</th>    </tr></thead><tbody>\n",
       "                <tr>\n",
       "                        <th id=\"T_558f1fd0_20b8_11ec_916c_acde48001122level0_row0\" class=\"row_heading level0 row0\" >0</th>\n",
       "                        <td id=\"T_558f1fd0_20b8_11ec_916c_acde48001122row0_col0\" class=\"data row0 col0\" >2021-02-12</td>\n",
       "                        <td id=\"T_558f1fd0_20b8_11ec_916c_acde48001122row0_col1\" class=\"data row0 col1\" >0.0299</td>\n",
       "                        <td id=\"T_558f1fd0_20b8_11ec_916c_acde48001122row0_col2\" class=\"data row0 col2\" >0.0015</td>\n",
       "                        <td id=\"T_558f1fd0_20b8_11ec_916c_acde48001122row0_col3\" class=\"data row0 col3\" >5.0707</td>\n",
       "                        <td id=\"T_558f1fd0_20b8_11ec_916c_acde48001122row0_col4\" class=\"data row0 col4\" >1.4068</td>\n",
       "                        <td id=\"T_558f1fd0_20b8_11ec_916c_acde48001122row0_col5\" class=\"data row0 col5\" >-0.0552</td>\n",
       "            </tr>\n",
       "            <tr>\n",
       "                        <th id=\"T_558f1fd0_20b8_11ec_916c_acde48001122level0_row1\" class=\"row_heading level0 row1\" >1</th>\n",
       "                        <td id=\"T_558f1fd0_20b8_11ec_916c_acde48001122row1_col0\" class=\"data row1 col0\" >2021-04-09</td>\n",
       "                        <td id=\"T_558f1fd0_20b8_11ec_916c_acde48001122row1_col1\" class=\"data row1 col1\" >0.0398</td>\n",
       "                        <td id=\"T_558f1fd0_20b8_11ec_916c_acde48001122row1_col2\" class=\"data row1 col2\" >0.0028</td>\n",
       "                        <td id=\"T_558f1fd0_20b8_11ec_916c_acde48001122row1_col3\" class=\"data row1 col3\" >1.4144</td>\n",
       "                        <td id=\"T_558f1fd0_20b8_11ec_916c_acde48001122row1_col4\" class=\"data row1 col4\" >1.6168</td>\n",
       "                        <td id=\"T_558f1fd0_20b8_11ec_916c_acde48001122row1_col5\" class=\"data row1 col5\" >-0.0879</td>\n",
       "            </tr>\n",
       "            <tr>\n",
       "                        <th id=\"T_558f1fd0_20b8_11ec_916c_acde48001122level0_row2\" class=\"row_heading level0 row2\" >2</th>\n",
       "                        <td id=\"T_558f1fd0_20b8_11ec_916c_acde48001122row2_col0\" class=\"data row2 col0\" >2021-06-04</td>\n",
       "                        <td id=\"T_558f1fd0_20b8_11ec_916c_acde48001122row2_col1\" class=\"data row2 col1\" >0.0326</td>\n",
       "                        <td id=\"T_558f1fd0_20b8_11ec_916c_acde48001122row2_col2\" class=\"data row2 col2\" >0.0018</td>\n",
       "                        <td id=\"T_558f1fd0_20b8_11ec_916c_acde48001122row2_col3\" class=\"data row2 col3\" >1.6126</td>\n",
       "                        <td id=\"T_558f1fd0_20b8_11ec_916c_acde48001122row2_col4\" class=\"data row2 col4\" >1.6907</td>\n",
       "                        <td id=\"T_558f1fd0_20b8_11ec_916c_acde48001122row2_col5\" class=\"data row2 col5\" >-0.0062</td>\n",
       "            </tr>\n",
       "            <tr>\n",
       "                        <th id=\"T_558f1fd0_20b8_11ec_916c_acde48001122level0_row3\" class=\"row_heading level0 row3\" >Mean</th>\n",
       "                        <td id=\"T_558f1fd0_20b8_11ec_916c_acde48001122row3_col0\" class=\"data row3 col0\" >nan</td>\n",
       "                        <td id=\"T_558f1fd0_20b8_11ec_916c_acde48001122row3_col1\" class=\"data row3 col1\" >0.0341</td>\n",
       "                        <td id=\"T_558f1fd0_20b8_11ec_916c_acde48001122row3_col2\" class=\"data row3 col2\" >0.0020</td>\n",
       "                        <td id=\"T_558f1fd0_20b8_11ec_916c_acde48001122row3_col3\" class=\"data row3 col3\" >2.6993</td>\n",
       "                        <td id=\"T_558f1fd0_20b8_11ec_916c_acde48001122row3_col4\" class=\"data row3 col4\" >1.5714</td>\n",
       "                        <td id=\"T_558f1fd0_20b8_11ec_916c_acde48001122row3_col5\" class=\"data row3 col5\" >-0.0497</td>\n",
       "            </tr>\n",
       "            <tr>\n",
       "                        <th id=\"T_558f1fd0_20b8_11ec_916c_acde48001122level0_row4\" class=\"row_heading level0 row4\" >SD</th>\n",
       "                        <td id=\"T_558f1fd0_20b8_11ec_916c_acde48001122row4_col0\" class=\"data row4 col0\" >nan</td>\n",
       "                        <td id=\"T_558f1fd0_20b8_11ec_916c_acde48001122row4_col1\" class=\"data row4 col1\" >0.0042</td>\n",
       "                        <td id=\"T_558f1fd0_20b8_11ec_916c_acde48001122row4_col2\" class=\"data row4 col2\" >0.0006</td>\n",
       "                        <td id=\"T_558f1fd0_20b8_11ec_916c_acde48001122row4_col3\" class=\"data row4 col3\" >1.6788</td>\n",
       "                        <td id=\"T_558f1fd0_20b8_11ec_916c_acde48001122row4_col4\" class=\"data row4 col4\" >0.1203</td>\n",
       "                        <td id=\"T_558f1fd0_20b8_11ec_916c_acde48001122row4_col5\" class=\"data row4 col5\" >0.0336</td>\n",
       "            </tr>\n",
       "    </tbody></table>"
      ],
      "text/plain": [
       "<pandas.io.formats.style.Styler at 0x7fa2a01376d8>"
      ]
     },
     "metadata": {},
     "output_type": "display_data"
    },
    {
     "name": "stderr",
     "output_type": "stream",
     "text": [
      "INFO:logs:master_model_container: 51\n",
      "INFO:logs:display_container: 3\n",
      "INFO:logs:ARIMA(maxiter=50, method='lbfgs', order=(1, 0, 0), out_of_sample_size=0,\n",
      "      scoring='mse', scoring_args=None, seasonal_order=(0, 0, 0, 0),\n",
      "      start_params=None, suppress_warnings=False, trend=None,\n",
      "      with_intercept=True)\n",
      "INFO:logs:create_model() successfully completed......................................\n"
     ]
    },
    {
     "data": {
      "text/plain": [
       "ARIMA(maxiter=50, method='lbfgs', order=(1, 0, 0), out_of_sample_size=0,\n",
       "      scoring='mse', scoring_args=None, seasonal_order=(0, 0, 0, 0),\n",
       "      start_params=None, suppress_warnings=False, trend=None,\n",
       "      with_intercept=True)"
      ]
     },
     "execution_count": 180,
     "metadata": {},
     "output_type": "execute_result"
    }
   ],
   "source": [
    "## Create a model manually\n",
    "model = exp.create_model(\"arima\")\n",
    "model"
   ]
  },
  {
   "cell_type": "code",
   "execution_count": 181,
   "id": "083c5f8c-c4a5-45e8-b58b-2b1090657c6f",
   "metadata": {},
   "outputs": [
    {
     "name": "stderr",
     "output_type": "stream",
     "text": [
      "INFO:logs:Initializing get_config()\n",
      "INFO:logs:get_config(variable=y_train, self=<pycaret.internal.pycaret_experiment.time_series_experiment.TimeSeriesExperiment object at 0x7fa2a1d89748>)\n",
      "INFO:logs:Variable: y_train returned as date\n",
      "2021-01-01    0.014108\n",
      "2021-01-02    0.097050\n",
      "2021-01-03    0.025536\n",
      "2021-01-04   -0.030647\n",
      "2021-01-05    0.061297\n",
      "                ...   \n",
      "2021-07-26    0.052474\n",
      "2021-07-27    0.059624\n",
      "2021-07-28    0.014235\n",
      "2021-07-29   -0.000077\n",
      "2021-07-30    0.054725\n",
      "Freq: D, Name: BTC_pct_diff, Length: 211, dtype: float64\n",
      "INFO:logs:get_config() succesfully completed......................................\n"
     ]
    },
    {
     "data": {
      "text/plain": [
       "date\n",
       "2021-01-01    0.014108\n",
       "2021-01-02    0.097050\n",
       "2021-01-03    0.025536\n",
       "2021-01-04   -0.030647\n",
       "2021-01-05    0.061297\n",
       "Freq: D, Name: BTC_pct_diff, dtype: float64"
      ]
     },
     "execution_count": 181,
     "metadata": {},
     "output_type": "execute_result"
    }
   ],
   "source": [
    "y_train = exp.get_config(\"y_train\")\n",
    "y_train[:5]"
   ]
  },
  {
   "cell_type": "code",
   "execution_count": 182,
   "id": "7108d859-4f75-4bce-8f9a-9fbe4b3dbf72",
   "metadata": {},
   "outputs": [],
   "source": [
    "copy_df2 = df.squeeze()"
   ]
  },
  {
   "cell_type": "code",
   "execution_count": 183,
   "id": "118fc3a8-ee60-4fde-b5a3-543161b57be5",
   "metadata": {},
   "outputs": [
    {
     "name": "stderr",
     "output_type": "stream",
     "text": [
      "INFO:logs:Preparing display monitor\n"
     ]
    },
    {
     "data": {
      "text/html": [
       "<style  type=\"text/css\" >\n",
       "</style><table id=\"T_63b140d4_20b8_11ec_a007_acde48001122\" ><thead>    <tr>        <th class=\"blank level0\" ></th>        <th class=\"col_heading level0 col0\" >Model</th>        <th class=\"col_heading level0 col1\" >MAE</th>        <th class=\"col_heading level0 col2\" >RMSE</th>        <th class=\"col_heading level0 col3\" >MAPE</th>        <th class=\"col_heading level0 col4\" >SMAPE</th>        <th class=\"col_heading level0 col5\" >R2</th>    </tr></thead><tbody>\n",
       "                <tr>\n",
       "                        <th id=\"T_63b140d4_20b8_11ec_a007_acde48001122level0_row0\" class=\"row_heading level0 row0\" >0</th>\n",
       "                        <td id=\"T_63b140d4_20b8_11ec_a007_acde48001122row0_col0\" class=\"data row0 col0\" >ARIMA</td>\n",
       "                        <td id=\"T_63b140d4_20b8_11ec_a007_acde48001122row0_col1\" class=\"data row0 col1\" >0.0277</td>\n",
       "                        <td id=\"T_63b140d4_20b8_11ec_a007_acde48001122row0_col2\" class=\"data row0 col2\" >0.0357</td>\n",
       "                        <td id=\"T_63b140d4_20b8_11ec_a007_acde48001122row0_col3\" class=\"data row0 col3\" >1.3162</td>\n",
       "                        <td id=\"T_63b140d4_20b8_11ec_a007_acde48001122row0_col4\" class=\"data row0 col4\" >1.7186</td>\n",
       "                        <td id=\"T_63b140d4_20b8_11ec_a007_acde48001122row0_col5\" class=\"data row0 col5\" >0.0010</td>\n",
       "            </tr>\n",
       "    </tbody></table>"
      ],
      "text/plain": [
       "<pandas.io.formats.style.Styler at 0x7fa29a86c4a8>"
      ]
     },
     "metadata": {},
     "output_type": "display_data"
    },
    {
     "data": {
      "image/png": "[encoded data removed]",
      "text/plain": [
       "<Figure size 1152x288 with 1 Axes>"
      ]
     },
     "metadata": {
      "needs_background": "light"
     },
     "output_type": "display_data"
    }
   ],
   "source": [
    "y_predict = exp.predict_model(model)\n",
    "plot_series(copy_df2, y_train, y_predict, labels=['All', 'Train', 'Test Predictions'])\n",
    "plt.grid()"
   ]
  },
  {
   "cell_type": "markdown",
   "id": "fb5cddc4-44b6-428c-8ef9-e0cf00c106e8",
   "metadata": {},
   "source": [
    "### Start pycaret experiment for model evaluation, just based on BTC actual prices"
   ]
  },
  {
   "cell_type": "code",
   "execution_count": 185,
   "id": "bd4fe046-b69a-4f5b-9508-e5340f1d5ed6",
   "metadata": {},
   "outputs": [],
   "source": [
    "df = pd.read_csv('btcusdt_1d_ohlcv_av_1Jan2019_to_24Sep2021_1day_csv_ver.csv')"
   ]
  },
  {
   "cell_type": "code",
   "execution_count": 186,
   "id": "7cada79a-e76f-4dca-8393-09ffe2fd65c1",
   "metadata": {},
   "outputs": [],
   "source": [
    "del df['Unnamed: 0']"
   ]
  },
  {
   "cell_type": "code",
   "execution_count": 187,
   "id": "55b46d09-5e3e-463d-a009-c75b4e67fe7c",
   "metadata": {},
   "outputs": [],
   "source": [
    "df = df.loc[df['year'] == 2021]"
   ]
  },
  {
   "cell_type": "code",
   "execution_count": 188,
   "id": "a44be369-153c-4662-b1fd-6c1bd99d5119",
   "metadata": {},
   "outputs": [],
   "source": [
    "df = df[['date', 'BTCUSDT_close']]"
   ]
  },
  {
   "cell_type": "code",
   "execution_count": 189,
   "id": "8378817a-974a-4825-abb5-b60351d2b5a7",
   "metadata": {},
   "outputs": [
    {
     "data": {
      "text/html": [
       "<div>\n",
       "<style scoped>\n",
       "    .dataframe tbody tr th:only-of-type {\n",
       "        vertical-align: middle;\n",
       "    }\n",
       "\n",
       "    .dataframe tbody tr th {\n",
       "        vertical-align: top;\n",
       "    }\n",
       "\n",
       "    .dataframe thead th {\n",
       "        text-align: right;\n",
       "    }\n",
       "</style>\n",
       "<table border=\"1\" class=\"dataframe\">\n",
       "  <thead>\n",
       "    <tr style=\"text-align: right;\">\n",
       "      <th></th>\n",
       "      <th>date</th>\n",
       "      <th>BTCUSDT_close</th>\n",
       "    </tr>\n",
       "  </thead>\n",
       "  <tbody>\n",
       "    <tr>\n",
       "      <th>870</th>\n",
       "      <td>2021-01-01</td>\n",
       "      <td>29331.69</td>\n",
       "    </tr>\n",
       "    <tr>\n",
       "      <th>871</th>\n",
       "      <td>2021-01-02</td>\n",
       "      <td>32178.33</td>\n",
       "    </tr>\n",
       "    <tr>\n",
       "      <th>872</th>\n",
       "      <td>2021-01-03</td>\n",
       "      <td>33000.05</td>\n",
       "    </tr>\n",
       "    <tr>\n",
       "      <th>873</th>\n",
       "      <td>2021-01-03</td>\n",
       "      <td>33000.05</td>\n",
       "    </tr>\n",
       "    <tr>\n",
       "      <th>874</th>\n",
       "      <td>2021-01-04</td>\n",
       "      <td>31988.71</td>\n",
       "    </tr>\n",
       "  </tbody>\n",
       "</table>\n",
       "</div>"
      ],
      "text/plain": [
       "           date  BTCUSDT_close\n",
       "870  2021-01-01       29331.69\n",
       "871  2021-01-02       32178.33\n",
       "872  2021-01-03       33000.05\n",
       "873  2021-01-03       33000.05\n",
       "874  2021-01-04       31988.71"
      ]
     },
     "execution_count": 189,
     "metadata": {},
     "output_type": "execute_result"
    }
   ],
   "source": [
    "df.head()"
   ]
  },
  {
   "cell_type": "code",
   "execution_count": 190,
   "id": "2e0ff7bc-7a36-4717-8586-8ab4e0308f34",
   "metadata": {},
   "outputs": [
    {
     "data": {
      "text/html": [
       "<div>\n",
       "<style scoped>\n",
       "    .dataframe tbody tr th:only-of-type {\n",
       "        vertical-align: middle;\n",
       "    }\n",
       "\n",
       "    .dataframe tbody tr th {\n",
       "        vertical-align: top;\n",
       "    }\n",
       "\n",
       "    .dataframe thead th {\n",
       "        text-align: right;\n",
       "    }\n",
       "</style>\n",
       "<table border=\"1\" class=\"dataframe\">\n",
       "  <thead>\n",
       "    <tr style=\"text-align: right;\">\n",
       "      <th></th>\n",
       "      <th>BTCUSDT_close</th>\n",
       "    </tr>\n",
       "    <tr>\n",
       "      <th>date</th>\n",
       "      <th></th>\n",
       "    </tr>\n",
       "  </thead>\n",
       "  <tbody>\n",
       "    <tr>\n",
       "      <th>2021-01-01</th>\n",
       "      <td>29331.69</td>\n",
       "    </tr>\n",
       "  </tbody>\n",
       "</table>\n",
       "</div>"
      ],
      "text/plain": [
       "            BTCUSDT_close\n",
       "date                     \n",
       "2021-01-01       29331.69"
      ]
     },
     "execution_count": 190,
     "metadata": {},
     "output_type": "execute_result"
    }
   ],
   "source": [
    "df.index = pd.DatetimeIndex(df['date'])\n",
    "#df.groupby(df.index).first()\n",
    "df.drop(['date'],axis=1,inplace=True)\n",
    "df.head(1)"
   ]
  },
  {
   "cell_type": "code",
   "execution_count": 191,
   "id": "1d7ef9e5-37d5-4ca9-a0aa-3a68d49dc7c2",
   "metadata": {},
   "outputs": [
    {
     "data": {
      "text/plain": [
       "False"
      ]
     },
     "execution_count": 191,
     "metadata": {},
     "output_type": "execute_result"
    }
   ],
   "source": [
    "df.index.is_unique"
   ]
  },
  {
   "cell_type": "code",
   "execution_count": 192,
   "id": "aedd0a47-0c1f-49c4-92b1-0475d431afd4",
   "metadata": {},
   "outputs": [],
   "source": [
    "df = df.loc[~df.index.duplicated(), :]"
   ]
  },
  {
   "cell_type": "code",
   "execution_count": 193,
   "id": "59b8ce05-c730-45d4-bca4-9b071bee9b88",
   "metadata": {},
   "outputs": [
    {
     "data": {
      "text/plain": [
       "DatetimeIndex(['2021-01-01', '2021-01-02', '2021-01-03', '2021-01-04',\n",
       "               '2021-01-05', '2021-01-06', '2021-01-07', '2021-01-08',\n",
       "               '2021-01-09', '2021-01-10',\n",
       "               ...\n",
       "               '2021-09-15', '2021-09-16', '2021-09-17', '2021-09-18',\n",
       "               '2021-09-19', '2021-09-20', '2021-09-21', '2021-09-22',\n",
       "               '2021-09-23', '2021-09-24'],\n",
       "              dtype='datetime64[ns]', name='date', length=267, freq='D')"
      ]
     },
     "execution_count": 193,
     "metadata": {},
     "output_type": "execute_result"
    }
   ],
   "source": [
    "df = df.asfreq('d')\n",
    "df.index"
   ]
  },
  {
   "cell_type": "code",
   "execution_count": 194,
   "id": "216f1a21-6506-48fa-b22f-6e8f62e710cd",
   "metadata": {},
   "outputs": [
    {
     "data": {
      "text/html": [
       "<style  type=\"text/css\" >\n",
       "</style><table id=\"T_93093c46_20c5_11ec_a2da_acde48001122\" ><thead>    <tr>        <th class=\"blank level0\" ></th>        <th class=\"col_heading level0 col0\" >Description</th>        <th class=\"col_heading level0 col1\" >Value</th>    </tr></thead><tbody>\n",
       "                <tr>\n",
       "                        <th id=\"T_93093c46_20c5_11ec_a2da_acde48001122level0_row0\" class=\"row_heading level0 row0\" >0</th>\n",
       "                        <td id=\"T_93093c46_20c5_11ec_a2da_acde48001122row0_col0\" class=\"data row0 col0\" >session_id</td>\n",
       "                        <td id=\"T_93093c46_20c5_11ec_a2da_acde48001122row0_col1\" class=\"data row0 col1\" >42</td>\n",
       "            </tr>\n",
       "            <tr>\n",
       "                        <th id=\"T_93093c46_20c5_11ec_a2da_acde48001122level0_row1\" class=\"row_heading level0 row1\" >1</th>\n",
       "                        <td id=\"T_93093c46_20c5_11ec_a2da_acde48001122row1_col0\" class=\"data row1 col0\" >Original Data</td>\n",
       "                        <td id=\"T_93093c46_20c5_11ec_a2da_acde48001122row1_col1\" class=\"data row1 col1\" >(267, 1)</td>\n",
       "            </tr>\n",
       "            <tr>\n",
       "                        <th id=\"T_93093c46_20c5_11ec_a2da_acde48001122level0_row2\" class=\"row_heading level0 row2\" >2</th>\n",
       "                        <td id=\"T_93093c46_20c5_11ec_a2da_acde48001122row2_col0\" class=\"data row2 col0\" >Missing Values</td>\n",
       "                        <td id=\"T_93093c46_20c5_11ec_a2da_acde48001122row2_col1\" class=\"data row2 col1\" >False</td>\n",
       "            </tr>\n",
       "            <tr>\n",
       "                        <th id=\"T_93093c46_20c5_11ec_a2da_acde48001122level0_row3\" class=\"row_heading level0 row3\" >3</th>\n",
       "                        <td id=\"T_93093c46_20c5_11ec_a2da_acde48001122row3_col0\" class=\"data row3 col0\" >Transformed Train Set</td>\n",
       "                        <td id=\"T_93093c46_20c5_11ec_a2da_acde48001122row3_col1\" class=\"data row3 col1\" >(211,)</td>\n",
       "            </tr>\n",
       "            <tr>\n",
       "                        <th id=\"T_93093c46_20c5_11ec_a2da_acde48001122level0_row4\" class=\"row_heading level0 row4\" >4</th>\n",
       "                        <td id=\"T_93093c46_20c5_11ec_a2da_acde48001122row4_col0\" class=\"data row4 col0\" >Transformed Test Set</td>\n",
       "                        <td id=\"T_93093c46_20c5_11ec_a2da_acde48001122row4_col1\" class=\"data row4 col1\" >(56,)</td>\n",
       "            </tr>\n",
       "            <tr>\n",
       "                        <th id=\"T_93093c46_20c5_11ec_a2da_acde48001122level0_row5\" class=\"row_heading level0 row5\" >5</th>\n",
       "                        <td id=\"T_93093c46_20c5_11ec_a2da_acde48001122row5_col0\" class=\"data row5 col0\" >Fold Generator</td>\n",
       "                        <td id=\"T_93093c46_20c5_11ec_a2da_acde48001122row5_col1\" class=\"data row5 col1\" >ExpandingWindowSplitter</td>\n",
       "            </tr>\n",
       "            <tr>\n",
       "                        <th id=\"T_93093c46_20c5_11ec_a2da_acde48001122level0_row6\" class=\"row_heading level0 row6\" >6</th>\n",
       "                        <td id=\"T_93093c46_20c5_11ec_a2da_acde48001122row6_col0\" class=\"data row6 col0\" >Fold Number</td>\n",
       "                        <td id=\"T_93093c46_20c5_11ec_a2da_acde48001122row6_col1\" class=\"data row6 col1\" >3</td>\n",
       "            </tr>\n",
       "            <tr>\n",
       "                        <th id=\"T_93093c46_20c5_11ec_a2da_acde48001122level0_row7\" class=\"row_heading level0 row7\" >7</th>\n",
       "                        <td id=\"T_93093c46_20c5_11ec_a2da_acde48001122row7_col0\" class=\"data row7 col0\" >CPU Jobs</td>\n",
       "                        <td id=\"T_93093c46_20c5_11ec_a2da_acde48001122row7_col1\" class=\"data row7 col1\" >-1</td>\n",
       "            </tr>\n",
       "            <tr>\n",
       "                        <th id=\"T_93093c46_20c5_11ec_a2da_acde48001122level0_row8\" class=\"row_heading level0 row8\" >8</th>\n",
       "                        <td id=\"T_93093c46_20c5_11ec_a2da_acde48001122row8_col0\" class=\"data row8 col0\" >Use GPU</td>\n",
       "                        <td id=\"T_93093c46_20c5_11ec_a2da_acde48001122row8_col1\" class=\"data row8 col1\" >False</td>\n",
       "            </tr>\n",
       "            <tr>\n",
       "                        <th id=\"T_93093c46_20c5_11ec_a2da_acde48001122level0_row9\" class=\"row_heading level0 row9\" >9</th>\n",
       "                        <td id=\"T_93093c46_20c5_11ec_a2da_acde48001122row9_col0\" class=\"data row9 col0\" >Log Experiment</td>\n",
       "                        <td id=\"T_93093c46_20c5_11ec_a2da_acde48001122row9_col1\" class=\"data row9 col1\" >False</td>\n",
       "            </tr>\n",
       "            <tr>\n",
       "                        <th id=\"T_93093c46_20c5_11ec_a2da_acde48001122level0_row10\" class=\"row_heading level0 row10\" >10</th>\n",
       "                        <td id=\"T_93093c46_20c5_11ec_a2da_acde48001122row10_col0\" class=\"data row10 col0\" >Experiment Name</td>\n",
       "                        <td id=\"T_93093c46_20c5_11ec_a2da_acde48001122row10_col1\" class=\"data row10 col1\" >ts-default-name</td>\n",
       "            </tr>\n",
       "            <tr>\n",
       "                        <th id=\"T_93093c46_20c5_11ec_a2da_acde48001122level0_row11\" class=\"row_heading level0 row11\" >11</th>\n",
       "                        <td id=\"T_93093c46_20c5_11ec_a2da_acde48001122row11_col0\" class=\"data row11 col0\" >USI</td>\n",
       "                        <td id=\"T_93093c46_20c5_11ec_a2da_acde48001122row11_col1\" class=\"data row11 col1\" >e3e4</td>\n",
       "            </tr>\n",
       "            <tr>\n",
       "                        <th id=\"T_93093c46_20c5_11ec_a2da_acde48001122level0_row12\" class=\"row_heading level0 row12\" >12</th>\n",
       "                        <td id=\"T_93093c46_20c5_11ec_a2da_acde48001122row12_col0\" class=\"data row12 col0\" >Imputation Type</td>\n",
       "                        <td id=\"T_93093c46_20c5_11ec_a2da_acde48001122row12_col1\" class=\"data row12 col1\" >simple</td>\n",
       "            </tr>\n",
       "    </tbody></table>"
      ],
      "text/plain": [
       "<pandas.io.formats.style.Styler at 0x7fa29f6e3048>"
      ]
     },
     "metadata": {},
     "output_type": "display_data"
    },
    {
     "name": "stderr",
     "output_type": "stream",
     "text": [
      "INFO:logs:self.master_model_container: 0\n",
      "INFO:logs:self.display_container: 1\n",
      "INFO:logs:Pipeline(memory=None,\n",
      "         steps=[('dtypes',\n",
      "                 DataTypes_Auto_infer(categorical_features=[],\n",
      "                                      display_types=False, features_todrop=[],\n",
      "                                      float_dtype='float64', id_columns=[],\n",
      "                                      ml_usecase='regression',\n",
      "                                      numerical_features=[],\n",
      "                                      target='BTCUSDT_close',\n",
      "                                      time_features=[])),\n",
      "                ('imputer',\n",
      "                 Simple_Imputer(categorical_strategy='most frequent',\n",
      "                                fill_value_categorical='not_available',\n",
      "                                fil...\n",
      "                ('scaling', 'passthrough'), ('P_transform', 'passthrough'),\n",
      "                ('binn', 'passthrough'), ('rem_outliers', 'passthrough'),\n",
      "                ('cluster_all', 'passthrough'),\n",
      "                ('dummy', Dummify(target='BTCUSDT_close')),\n",
      "                ('fix_perfect', 'passthrough'),\n",
      "                ('clean_names', Clean_Colum_Names()),\n",
      "                ('feature_select', 'passthrough'), ('fix_multi', 'passthrough'),\n",
      "                ('dfs', 'passthrough'), ('pca', 'passthrough')],\n",
      "         verbose=False)\n",
      "INFO:logs:setup() successfully completed......................................\n"
     ]
    },
    {
     "data": {
      "text/plain": [
       "<pycaret.internal.pycaret_experiment.time_series_experiment.TimeSeriesExperiment at 0x7fa29d296da0>"
      ]
     },
     "execution_count": 194,
     "metadata": {},
     "output_type": "execute_result"
    }
   ],
   "source": [
    "exp = TimeSeriesExperiment()\n",
    "exp.setup(data=df,session_id=42, fh=56) #fh we should test for 2 months data 56 days"
   ]
  },
  {
   "cell_type": "code",
   "execution_count": 156,
   "id": "acc4765a-4bfb-41a2-acae-167cba95f774",
   "metadata": {},
   "outputs": [
    {
     "data": {
      "text/html": [
       "<style  type=\"text/css\" >\n",
       "    #T_b768866c_20b6_11ec_bc54_acde48001122 th {\n",
       "          text-align: left;\n",
       "    }#T_b768866c_20b6_11ec_bc54_acde48001122row0_col0,#T_b768866c_20b6_11ec_bc54_acde48001122row0_col5,#T_b768866c_20b6_11ec_bc54_acde48001122row1_col0,#T_b768866c_20b6_11ec_bc54_acde48001122row1_col1,#T_b768866c_20b6_11ec_bc54_acde48001122row1_col2,#T_b768866c_20b6_11ec_bc54_acde48001122row1_col3,#T_b768866c_20b6_11ec_bc54_acde48001122row2_col0,#T_b768866c_20b6_11ec_bc54_acde48001122row2_col1,#T_b768866c_20b6_11ec_bc54_acde48001122row2_col2,#T_b768866c_20b6_11ec_bc54_acde48001122row2_col3,#T_b768866c_20b6_11ec_bc54_acde48001122row2_col4,#T_b768866c_20b6_11ec_bc54_acde48001122row2_col5,#T_b768866c_20b6_11ec_bc54_acde48001122row3_col0,#T_b768866c_20b6_11ec_bc54_acde48001122row3_col1,#T_b768866c_20b6_11ec_bc54_acde48001122row3_col2,#T_b768866c_20b6_11ec_bc54_acde48001122row3_col3,#T_b768866c_20b6_11ec_bc54_acde48001122row3_col4,#T_b768866c_20b6_11ec_bc54_acde48001122row3_col5,#T_b768866c_20b6_11ec_bc54_acde48001122row4_col0,#T_b768866c_20b6_11ec_bc54_acde48001122row4_col1,#T_b768866c_20b6_11ec_bc54_acde48001122row4_col2,#T_b768866c_20b6_11ec_bc54_acde48001122row4_col3,#T_b768866c_20b6_11ec_bc54_acde48001122row4_col4,#T_b768866c_20b6_11ec_bc54_acde48001122row4_col5,#T_b768866c_20b6_11ec_bc54_acde48001122row5_col0,#T_b768866c_20b6_11ec_bc54_acde48001122row5_col1,#T_b768866c_20b6_11ec_bc54_acde48001122row5_col2,#T_b768866c_20b6_11ec_bc54_acde48001122row5_col3,#T_b768866c_20b6_11ec_bc54_acde48001122row5_col4,#T_b768866c_20b6_11ec_bc54_acde48001122row5_col5,#T_b768866c_20b6_11ec_bc54_acde48001122row6_col0,#T_b768866c_20b6_11ec_bc54_acde48001122row6_col1,#T_b768866c_20b6_11ec_bc54_acde48001122row6_col2,#T_b768866c_20b6_11ec_bc54_acde48001122row6_col3,#T_b768866c_20b6_11ec_bc54_acde48001122row6_col4,#T_b768866c_20b6_11ec_bc54_acde48001122row6_col5,#T_b768866c_20b6_11ec_bc54_acde48001122row7_col0,#T_b768866c_20b6_11ec_bc54_acde48001122row7_col1,#T_b768866c_20b6_11ec_bc54_acde48001122row7_col2,#T_b768866c_20b6_11ec_bc54_acde48001122row7_col3,#T_b768866c_20b6_11ec_bc54_acde48001122row7_col4,#T_b768866c_20b6_11ec_bc54_acde48001122row7_col5,#T_b768866c_20b6_11ec_bc54_acde48001122row8_col0,#T_b768866c_20b6_11ec_bc54_acde48001122row8_col1,#T_b768866c_20b6_11ec_bc54_acde48001122row8_col2,#T_b768866c_20b6_11ec_bc54_acde48001122row8_col3,#T_b768866c_20b6_11ec_bc54_acde48001122row8_col4,#T_b768866c_20b6_11ec_bc54_acde48001122row8_col5,#T_b768866c_20b6_11ec_bc54_acde48001122row9_col0,#T_b768866c_20b6_11ec_bc54_acde48001122row9_col1,#T_b768866c_20b6_11ec_bc54_acde48001122row9_col2,#T_b768866c_20b6_11ec_bc54_acde48001122row9_col3,#T_b768866c_20b6_11ec_bc54_acde48001122row9_col4,#T_b768866c_20b6_11ec_bc54_acde48001122row9_col5,#T_b768866c_20b6_11ec_bc54_acde48001122row10_col0,#T_b768866c_20b6_11ec_bc54_acde48001122row10_col1,#T_b768866c_20b6_11ec_bc54_acde48001122row10_col2,#T_b768866c_20b6_11ec_bc54_acde48001122row10_col3,#T_b768866c_20b6_11ec_bc54_acde48001122row10_col4,#T_b768866c_20b6_11ec_bc54_acde48001122row10_col5,#T_b768866c_20b6_11ec_bc54_acde48001122row11_col0,#T_b768866c_20b6_11ec_bc54_acde48001122row11_col1,#T_b768866c_20b6_11ec_bc54_acde48001122row11_col2,#T_b768866c_20b6_11ec_bc54_acde48001122row11_col3,#T_b768866c_20b6_11ec_bc54_acde48001122row11_col4,#T_b768866c_20b6_11ec_bc54_acde48001122row11_col5,#T_b768866c_20b6_11ec_bc54_acde48001122row12_col0,#T_b768866c_20b6_11ec_bc54_acde48001122row12_col1,#T_b768866c_20b6_11ec_bc54_acde48001122row12_col2,#T_b768866c_20b6_11ec_bc54_acde48001122row12_col3,#T_b768866c_20b6_11ec_bc54_acde48001122row12_col4,#T_b768866c_20b6_11ec_bc54_acde48001122row12_col5,#T_b768866c_20b6_11ec_bc54_acde48001122row13_col0,#T_b768866c_20b6_11ec_bc54_acde48001122row13_col1,#T_b768866c_20b6_11ec_bc54_acde48001122row13_col2,#T_b768866c_20b6_11ec_bc54_acde48001122row13_col3,#T_b768866c_20b6_11ec_bc54_acde48001122row13_col4,#T_b768866c_20b6_11ec_bc54_acde48001122row13_col5,#T_b768866c_20b6_11ec_bc54_acde48001122row14_col0,#T_b768866c_20b6_11ec_bc54_acde48001122row14_col1,#T_b768866c_20b6_11ec_bc54_acde48001122row14_col2,#T_b768866c_20b6_11ec_bc54_acde48001122row14_col3,#T_b768866c_20b6_11ec_bc54_acde48001122row14_col4,#T_b768866c_20b6_11ec_bc54_acde48001122row14_col5,#T_b768866c_20b6_11ec_bc54_acde48001122row15_col0,#T_b768866c_20b6_11ec_bc54_acde48001122row15_col1,#T_b768866c_20b6_11ec_bc54_acde48001122row15_col2,#T_b768866c_20b6_11ec_bc54_acde48001122row15_col3,#T_b768866c_20b6_11ec_bc54_acde48001122row15_col4,#T_b768866c_20b6_11ec_bc54_acde48001122row15_col5,#T_b768866c_20b6_11ec_bc54_acde48001122row16_col0,#T_b768866c_20b6_11ec_bc54_acde48001122row16_col1,#T_b768866c_20b6_11ec_bc54_acde48001122row16_col2,#T_b768866c_20b6_11ec_bc54_acde48001122row16_col3,#T_b768866c_20b6_11ec_bc54_acde48001122row16_col4,#T_b768866c_20b6_11ec_bc54_acde48001122row16_col5,#T_b768866c_20b6_11ec_bc54_acde48001122row17_col0,#T_b768866c_20b6_11ec_bc54_acde48001122row17_col1,#T_b768866c_20b6_11ec_bc54_acde48001122row17_col2,#T_b768866c_20b6_11ec_bc54_acde48001122row17_col3,#T_b768866c_20b6_11ec_bc54_acde48001122row17_col4,#T_b768866c_20b6_11ec_bc54_acde48001122row17_col5,#T_b768866c_20b6_11ec_bc54_acde48001122row18_col0,#T_b768866c_20b6_11ec_bc54_acde48001122row18_col1,#T_b768866c_20b6_11ec_bc54_acde48001122row18_col2,#T_b768866c_20b6_11ec_bc54_acde48001122row18_col3,#T_b768866c_20b6_11ec_bc54_acde48001122row18_col4,#T_b768866c_20b6_11ec_bc54_acde48001122row18_col5,#T_b768866c_20b6_11ec_bc54_acde48001122row19_col0,#T_b768866c_20b6_11ec_bc54_acde48001122row19_col1,#T_b768866c_20b6_11ec_bc54_acde48001122row19_col2,#T_b768866c_20b6_11ec_bc54_acde48001122row19_col3,#T_b768866c_20b6_11ec_bc54_acde48001122row19_col4,#T_b768866c_20b6_11ec_bc54_acde48001122row19_col5,#T_b768866c_20b6_11ec_bc54_acde48001122row20_col0,#T_b768866c_20b6_11ec_bc54_acde48001122row20_col1,#T_b768866c_20b6_11ec_bc54_acde48001122row20_col2,#T_b768866c_20b6_11ec_bc54_acde48001122row20_col3,#T_b768866c_20b6_11ec_bc54_acde48001122row20_col4,#T_b768866c_20b6_11ec_bc54_acde48001122row20_col5,#T_b768866c_20b6_11ec_bc54_acde48001122row21_col0,#T_b768866c_20b6_11ec_bc54_acde48001122row21_col1,#T_b768866c_20b6_11ec_bc54_acde48001122row21_col2,#T_b768866c_20b6_11ec_bc54_acde48001122row21_col3,#T_b768866c_20b6_11ec_bc54_acde48001122row21_col4,#T_b768866c_20b6_11ec_bc54_acde48001122row21_col5,#T_b768866c_20b6_11ec_bc54_acde48001122row22_col0,#T_b768866c_20b6_11ec_bc54_acde48001122row22_col1,#T_b768866c_20b6_11ec_bc54_acde48001122row22_col2,#T_b768866c_20b6_11ec_bc54_acde48001122row22_col3,#T_b768866c_20b6_11ec_bc54_acde48001122row22_col4,#T_b768866c_20b6_11ec_bc54_acde48001122row22_col5,#T_b768866c_20b6_11ec_bc54_acde48001122row23_col0,#T_b768866c_20b6_11ec_bc54_acde48001122row23_col1,#T_b768866c_20b6_11ec_bc54_acde48001122row23_col2,#T_b768866c_20b6_11ec_bc54_acde48001122row23_col3,#T_b768866c_20b6_11ec_bc54_acde48001122row23_col4,#T_b768866c_20b6_11ec_bc54_acde48001122row23_col5,#T_b768866c_20b6_11ec_bc54_acde48001122row24_col0,#T_b768866c_20b6_11ec_bc54_acde48001122row24_col1,#T_b768866c_20b6_11ec_bc54_acde48001122row24_col2,#T_b768866c_20b6_11ec_bc54_acde48001122row24_col3,#T_b768866c_20b6_11ec_bc54_acde48001122row24_col4,#T_b768866c_20b6_11ec_bc54_acde48001122row24_col5{\n",
       "            text-align:  left;\n",
       "            text-align:  left;\n",
       "        }#T_b768866c_20b6_11ec_bc54_acde48001122row0_col1,#T_b768866c_20b6_11ec_bc54_acde48001122row0_col2,#T_b768866c_20b6_11ec_bc54_acde48001122row0_col3,#T_b768866c_20b6_11ec_bc54_acde48001122row0_col4,#T_b768866c_20b6_11ec_bc54_acde48001122row1_col4,#T_b768866c_20b6_11ec_bc54_acde48001122row1_col5{\n",
       "            text-align:  left;\n",
       "            text-align:  left;\n",
       "            background-color:  yellow;\n",
       "        }#T_b768866c_20b6_11ec_bc54_acde48001122row0_col6,#T_b768866c_20b6_11ec_bc54_acde48001122row1_col6,#T_b768866c_20b6_11ec_bc54_acde48001122row2_col6,#T_b768866c_20b6_11ec_bc54_acde48001122row4_col6,#T_b768866c_20b6_11ec_bc54_acde48001122row5_col6,#T_b768866c_20b6_11ec_bc54_acde48001122row6_col6,#T_b768866c_20b6_11ec_bc54_acde48001122row7_col6,#T_b768866c_20b6_11ec_bc54_acde48001122row8_col6,#T_b768866c_20b6_11ec_bc54_acde48001122row9_col6,#T_b768866c_20b6_11ec_bc54_acde48001122row10_col6,#T_b768866c_20b6_11ec_bc54_acde48001122row11_col6,#T_b768866c_20b6_11ec_bc54_acde48001122row12_col6,#T_b768866c_20b6_11ec_bc54_acde48001122row13_col6,#T_b768866c_20b6_11ec_bc54_acde48001122row14_col6,#T_b768866c_20b6_11ec_bc54_acde48001122row15_col6,#T_b768866c_20b6_11ec_bc54_acde48001122row16_col6,#T_b768866c_20b6_11ec_bc54_acde48001122row17_col6,#T_b768866c_20b6_11ec_bc54_acde48001122row18_col6,#T_b768866c_20b6_11ec_bc54_acde48001122row19_col6,#T_b768866c_20b6_11ec_bc54_acde48001122row20_col6,#T_b768866c_20b6_11ec_bc54_acde48001122row21_col6,#T_b768866c_20b6_11ec_bc54_acde48001122row22_col6,#T_b768866c_20b6_11ec_bc54_acde48001122row24_col6{\n",
       "            text-align:  left;\n",
       "            text-align:  left;\n",
       "            background-color:  lightgrey;\n",
       "        }#T_b768866c_20b6_11ec_bc54_acde48001122row3_col6,#T_b768866c_20b6_11ec_bc54_acde48001122row23_col6{\n",
       "            text-align:  left;\n",
       "            text-align:  left;\n",
       "            background-color:  yellow;\n",
       "            background-color:  lightgrey;\n",
       "        }</style><table id=\"T_b768866c_20b6_11ec_bc54_acde48001122\" ><thead>    <tr>        <th class=\"blank level0\" ></th>        <th class=\"col_heading level0 col0\" >Model</th>        <th class=\"col_heading level0 col1\" >MAE</th>        <th class=\"col_heading level0 col2\" >RMSE</th>        <th class=\"col_heading level0 col3\" >MAPE</th>        <th class=\"col_heading level0 col4\" >SMAPE</th>        <th class=\"col_heading level0 col5\" >R2</th>        <th class=\"col_heading level0 col6\" >TT (Sec)</th>    </tr></thead><tbody>\n",
       "                <tr>\n",
       "                        <th id=\"T_b768866c_20b6_11ec_bc54_acde48001122level0_row0\" class=\"row_heading level0 row0\" >naive</th>\n",
       "                        <td id=\"T_b768866c_20b6_11ec_bc54_acde48001122row0_col0\" class=\"data row0 col0\" >Naive Forecaster</td>\n",
       "                        <td id=\"T_b768866c_20b6_11ec_bc54_acde48001122row0_col1\" class=\"data row0 col1\" >6449.5876</td>\n",
       "                        <td id=\"T_b768866c_20b6_11ec_bc54_acde48001122row0_col2\" class=\"data row0 col2\" >77469857.8231</td>\n",
       "                        <td id=\"T_b768866c_20b6_11ec_bc54_acde48001122row0_col3\" class=\"data row0 col3\" >0.1476</td>\n",
       "                        <td id=\"T_b768866c_20b6_11ec_bc54_acde48001122row0_col4\" class=\"data row0 col4\" >0.1359</td>\n",
       "                        <td id=\"T_b768866c_20b6_11ec_bc54_acde48001122row0_col5\" class=\"data row0 col5\" >-1.2723</td>\n",
       "                        <td id=\"T_b768866c_20b6_11ec_bc54_acde48001122row0_col6\" class=\"data row0 col6\" >4.5800</td>\n",
       "            </tr>\n",
       "            <tr>\n",
       "                        <th id=\"T_b768866c_20b6_11ec_bc54_acde48001122level0_row1\" class=\"row_heading level0 row1\" >arima</th>\n",
       "                        <td id=\"T_b768866c_20b6_11ec_bc54_acde48001122row1_col0\" class=\"data row1 col0\" >ARIMA</td>\n",
       "                        <td id=\"T_b768866c_20b6_11ec_bc54_acde48001122row1_col1\" class=\"data row1 col1\" >6673.9805</td>\n",
       "                        <td id=\"T_b768866c_20b6_11ec_bc54_acde48001122row1_col2\" class=\"data row1 col2\" >99540858.2124</td>\n",
       "                        <td id=\"T_b768866c_20b6_11ec_bc54_acde48001122row1_col3\" class=\"data row1 col3\" >0.1562</td>\n",
       "                        <td id=\"T_b768866c_20b6_11ec_bc54_acde48001122row1_col4\" class=\"data row1 col4\" >0.1359</td>\n",
       "                        <td id=\"T_b768866c_20b6_11ec_bc54_acde48001122row1_col5\" class=\"data row1 col5\" >-1.1378</td>\n",
       "                        <td id=\"T_b768866c_20b6_11ec_bc54_acde48001122row1_col6\" class=\"data row1 col6\" >0.3467</td>\n",
       "            </tr>\n",
       "            <tr>\n",
       "                        <th id=\"T_b768866c_20b6_11ec_bc54_acde48001122level0_row2\" class=\"row_heading level0 row2\" >snaive</th>\n",
       "                        <td id=\"T_b768866c_20b6_11ec_bc54_acde48001122row2_col0\" class=\"data row2 col0\" >Seasonal Naive Forecaster</td>\n",
       "                        <td id=\"T_b768866c_20b6_11ec_bc54_acde48001122row2_col1\" class=\"data row2 col1\" >7317.3764</td>\n",
       "                        <td id=\"T_b768866c_20b6_11ec_bc54_acde48001122row2_col2\" class=\"data row2 col2\" >95923619.6321</td>\n",
       "                        <td id=\"T_b768866c_20b6_11ec_bc54_acde48001122row2_col3\" class=\"data row2 col3\" >0.1631</td>\n",
       "                        <td id=\"T_b768866c_20b6_11ec_bc54_acde48001122row2_col4\" class=\"data row2 col4\" >0.1555</td>\n",
       "                        <td id=\"T_b768866c_20b6_11ec_bc54_acde48001122row2_col5\" class=\"data row2 col5\" >-2.3674</td>\n",
       "                        <td id=\"T_b768866c_20b6_11ec_bc54_acde48001122row2_col6\" class=\"data row2 col6\" >5.6467</td>\n",
       "            </tr>\n",
       "            <tr>\n",
       "                        <th id=\"T_b768866c_20b6_11ec_bc54_acde48001122level0_row3\" class=\"row_heading level0 row3\" >theta</th>\n",
       "                        <td id=\"T_b768866c_20b6_11ec_bc54_acde48001122row3_col0\" class=\"data row3 col0\" >Theta Forecaster</td>\n",
       "                        <td id=\"T_b768866c_20b6_11ec_bc54_acde48001122row3_col1\" class=\"data row3 col1\" >7410.5609</td>\n",
       "                        <td id=\"T_b768866c_20b6_11ec_bc54_acde48001122row3_col2\" class=\"data row3 col2\" >117280594.1488</td>\n",
       "                        <td id=\"T_b768866c_20b6_11ec_bc54_acde48001122row3_col3\" class=\"data row3 col3\" >0.1769</td>\n",
       "                        <td id=\"T_b768866c_20b6_11ec_bc54_acde48001122row3_col4\" class=\"data row3 col4\" >0.1507</td>\n",
       "                        <td id=\"T_b768866c_20b6_11ec_bc54_acde48001122row3_col5\" class=\"data row3 col5\" >-1.6308</td>\n",
       "                        <td id=\"T_b768866c_20b6_11ec_bc54_acde48001122row3_col6\" class=\"data row3 col6\" >0.0200</td>\n",
       "            </tr>\n",
       "            <tr>\n",
       "                        <th id=\"T_b768866c_20b6_11ec_bc54_acde48001122level0_row4\" class=\"row_heading level0 row4\" >ets</th>\n",
       "                        <td id=\"T_b768866c_20b6_11ec_bc54_acde48001122row4_col0\" class=\"data row4 col0\" >ETS</td>\n",
       "                        <td id=\"T_b768866c_20b6_11ec_bc54_acde48001122row4_col1\" class=\"data row4 col1\" >7544.0866</td>\n",
       "                        <td id=\"T_b768866c_20b6_11ec_bc54_acde48001122row4_col2\" class=\"data row4 col2\" >156307937.7067</td>\n",
       "                        <td id=\"T_b768866c_20b6_11ec_bc54_acde48001122row4_col3\" class=\"data row4 col3\" >0.1789</td>\n",
       "                        <td id=\"T_b768866c_20b6_11ec_bc54_acde48001122row4_col4\" class=\"data row4 col4\" >0.1465</td>\n",
       "                        <td id=\"T_b768866c_20b6_11ec_bc54_acde48001122row4_col5\" class=\"data row4 col5\" >-1.7123</td>\n",
       "                        <td id=\"T_b768866c_20b6_11ec_bc54_acde48001122row4_col6\" class=\"data row4 col6\" >0.0533</td>\n",
       "            </tr>\n",
       "            <tr>\n",
       "                        <th id=\"T_b768866c_20b6_11ec_bc54_acde48001122level0_row5\" class=\"row_heading level0 row5\" >dt_cds_dt</th>\n",
       "                        <td id=\"T_b768866c_20b6_11ec_bc54_acde48001122row5_col0\" class=\"data row5 col0\" >Decision Tree w/ Cond. Deseasonalize & Detrending</td>\n",
       "                        <td id=\"T_b768866c_20b6_11ec_bc54_acde48001122row5_col1\" class=\"data row5 col1\" >8632.5662</td>\n",
       "                        <td id=\"T_b768866c_20b6_11ec_bc54_acde48001122row5_col2\" class=\"data row5 col2\" >187298174.4939</td>\n",
       "                        <td id=\"T_b768866c_20b6_11ec_bc54_acde48001122row5_col3\" class=\"data row5 col3\" >0.2111</td>\n",
       "                        <td id=\"T_b768866c_20b6_11ec_bc54_acde48001122row5_col4\" class=\"data row5 col4\" >0.1678</td>\n",
       "                        <td id=\"T_b768866c_20b6_11ec_bc54_acde48001122row5_col5\" class=\"data row5 col5\" >-2.5982</td>\n",
       "                        <td id=\"T_b768866c_20b6_11ec_bc54_acde48001122row5_col6\" class=\"data row5 col6\" >0.0667</td>\n",
       "            </tr>\n",
       "            <tr>\n",
       "                        <th id=\"T_b768866c_20b6_11ec_bc54_acde48001122level0_row6\" class=\"row_heading level0 row6\" >exp_smooth</th>\n",
       "                        <td id=\"T_b768866c_20b6_11ec_bc54_acde48001122row6_col0\" class=\"data row6 col0\" >Exponential Smoothing</td>\n",
       "                        <td id=\"T_b768866c_20b6_11ec_bc54_acde48001122row6_col1\" class=\"data row6 col1\" >9207.0365</td>\n",
       "                        <td id=\"T_b768866c_20b6_11ec_bc54_acde48001122row6_col2\" class=\"data row6 col2\" >179081922.6293</td>\n",
       "                        <td id=\"T_b768866c_20b6_11ec_bc54_acde48001122row6_col3\" class=\"data row6 col3\" >0.2279</td>\n",
       "                        <td id=\"T_b768866c_20b6_11ec_bc54_acde48001122row6_col4\" class=\"data row6 col4\" >0.2099</td>\n",
       "                        <td id=\"T_b768866c_20b6_11ec_bc54_acde48001122row6_col5\" class=\"data row6 col5\" >-5.2439</td>\n",
       "                        <td id=\"T_b768866c_20b6_11ec_bc54_acde48001122row6_col6\" class=\"data row6 col6\" >0.0933</td>\n",
       "            </tr>\n",
       "            <tr>\n",
       "                        <th id=\"T_b768866c_20b6_11ec_bc54_acde48001122level0_row7\" class=\"row_heading level0 row7\" >lightgbm_cds_dt</th>\n",
       "                        <td id=\"T_b768866c_20b6_11ec_bc54_acde48001122row7_col0\" class=\"data row7 col0\" >Light Gradient Boosting w/ Cond. Deseasonalize & Detrending</td>\n",
       "                        <td id=\"T_b768866c_20b6_11ec_bc54_acde48001122row7_col1\" class=\"data row7 col1\" >10734.6286</td>\n",
       "                        <td id=\"T_b768866c_20b6_11ec_bc54_acde48001122row7_col2\" class=\"data row7 col2\" >197160159.7008</td>\n",
       "                        <td id=\"T_b768866c_20b6_11ec_bc54_acde48001122row7_col3\" class=\"data row7 col3\" >0.2513</td>\n",
       "                        <td id=\"T_b768866c_20b6_11ec_bc54_acde48001122row7_col4\" class=\"data row7 col4\" >0.2164</td>\n",
       "                        <td id=\"T_b768866c_20b6_11ec_bc54_acde48001122row7_col5\" class=\"data row7 col5\" >-4.4665</td>\n",
       "                        <td id=\"T_b768866c_20b6_11ec_bc54_acde48001122row7_col6\" class=\"data row7 col6\" >0.0967</td>\n",
       "            </tr>\n",
       "            <tr>\n",
       "                        <th id=\"T_b768866c_20b6_11ec_bc54_acde48001122level0_row8\" class=\"row_heading level0 row8\" >ada_cds_dt</th>\n",
       "                        <td id=\"T_b768866c_20b6_11ec_bc54_acde48001122row8_col0\" class=\"data row8 col0\" >AdaBoost w/ Cond. Deseasonalize & Detrending</td>\n",
       "                        <td id=\"T_b768866c_20b6_11ec_bc54_acde48001122row8_col1\" class=\"data row8 col1\" >10774.2759</td>\n",
       "                        <td id=\"T_b768866c_20b6_11ec_bc54_acde48001122row8_col2\" class=\"data row8 col2\" >217422345.7544</td>\n",
       "                        <td id=\"T_b768866c_20b6_11ec_bc54_acde48001122row8_col3\" class=\"data row8 col3\" >0.2523</td>\n",
       "                        <td id=\"T_b768866c_20b6_11ec_bc54_acde48001122row8_col4\" class=\"data row8 col4\" >0.2113</td>\n",
       "                        <td id=\"T_b768866c_20b6_11ec_bc54_acde48001122row8_col5\" class=\"data row8 col5\" >-4.1352</td>\n",
       "                        <td id=\"T_b768866c_20b6_11ec_bc54_acde48001122row8_col6\" class=\"data row8 col6\" >0.2400</td>\n",
       "            </tr>\n",
       "            <tr>\n",
       "                        <th id=\"T_b768866c_20b6_11ec_bc54_acde48001122level0_row9\" class=\"row_heading level0 row9\" >rf_cds_dt</th>\n",
       "                        <td id=\"T_b768866c_20b6_11ec_bc54_acde48001122row9_col0\" class=\"data row9 col0\" >Random Forest w/ Cond. Deseasonalize & Detrending</td>\n",
       "                        <td id=\"T_b768866c_20b6_11ec_bc54_acde48001122row9_col1\" class=\"data row9 col1\" >10919.9996</td>\n",
       "                        <td id=\"T_b768866c_20b6_11ec_bc54_acde48001122row9_col2\" class=\"data row9 col2\" >224723644.6311</td>\n",
       "                        <td id=\"T_b768866c_20b6_11ec_bc54_acde48001122row9_col3\" class=\"data row9 col3\" >0.2547</td>\n",
       "                        <td id=\"T_b768866c_20b6_11ec_bc54_acde48001122row9_col4\" class=\"data row9 col4\" >0.2129</td>\n",
       "                        <td id=\"T_b768866c_20b6_11ec_bc54_acde48001122row9_col5\" class=\"data row9 col5\" >-4.1565</td>\n",
       "                        <td id=\"T_b768866c_20b6_11ec_bc54_acde48001122row9_col6\" class=\"data row9 col6\" >2.2200</td>\n",
       "            </tr>\n",
       "            <tr>\n",
       "                        <th id=\"T_b768866c_20b6_11ec_bc54_acde48001122level0_row10\" class=\"row_heading level0 row10\" >knn_cds_dt</th>\n",
       "                        <td id=\"T_b768866c_20b6_11ec_bc54_acde48001122row10_col0\" class=\"data row10 col0\" >K Neighbors w/ Cond. Deseasonalize & Detrending</td>\n",
       "                        <td id=\"T_b768866c_20b6_11ec_bc54_acde48001122row10_col1\" class=\"data row10 col1\" >10984.5251</td>\n",
       "                        <td id=\"T_b768866c_20b6_11ec_bc54_acde48001122row10_col2\" class=\"data row10 col2\" >212978053.7243</td>\n",
       "                        <td id=\"T_b768866c_20b6_11ec_bc54_acde48001122row10_col3\" class=\"data row10 col3\" >0.2564</td>\n",
       "                        <td id=\"T_b768866c_20b6_11ec_bc54_acde48001122row10_col4\" class=\"data row10 col4\" >0.2202</td>\n",
       "                        <td id=\"T_b768866c_20b6_11ec_bc54_acde48001122row10_col5\" class=\"data row10 col5\" >-4.6088</td>\n",
       "                        <td id=\"T_b768866c_20b6_11ec_bc54_acde48001122row10_col6\" class=\"data row10 col6\" >2.0967</td>\n",
       "            </tr>\n",
       "            <tr>\n",
       "                        <th id=\"T_b768866c_20b6_11ec_bc54_acde48001122level0_row11\" class=\"row_heading level0 row11\" >gbr_cds_dt</th>\n",
       "                        <td id=\"T_b768866c_20b6_11ec_bc54_acde48001122row11_col0\" class=\"data row11 col0\" >Gradient Boosting w/ Cond. Deseasonalize & Detrending</td>\n",
       "                        <td id=\"T_b768866c_20b6_11ec_bc54_acde48001122row11_col1\" class=\"data row11 col1\" >11167.8511</td>\n",
       "                        <td id=\"T_b768866c_20b6_11ec_bc54_acde48001122row11_col2\" class=\"data row11 col2\" >228061767.0194</td>\n",
       "                        <td id=\"T_b768866c_20b6_11ec_bc54_acde48001122row11_col3\" class=\"data row11 col3\" >0.2581</td>\n",
       "                        <td id=\"T_b768866c_20b6_11ec_bc54_acde48001122row11_col4\" class=\"data row11 col4\" >0.2196</td>\n",
       "                        <td id=\"T_b768866c_20b6_11ec_bc54_acde48001122row11_col5\" class=\"data row11 col5\" >-4.6382</td>\n",
       "                        <td id=\"T_b768866c_20b6_11ec_bc54_acde48001122row11_col6\" class=\"data row11 col6\" >0.0933</td>\n",
       "            </tr>\n",
       "            <tr>\n",
       "                        <th id=\"T_b768866c_20b6_11ec_bc54_acde48001122level0_row12\" class=\"row_heading level0 row12\" >et_cds_dt</th>\n",
       "                        <td id=\"T_b768866c_20b6_11ec_bc54_acde48001122row12_col0\" class=\"data row12 col0\" >Extra Trees w/ Cond. Deseasonalize & Detrending</td>\n",
       "                        <td id=\"T_b768866c_20b6_11ec_bc54_acde48001122row12_col1\" class=\"data row12 col1\" >11322.4134</td>\n",
       "                        <td id=\"T_b768866c_20b6_11ec_bc54_acde48001122row12_col2\" class=\"data row12 col2\" >231424260.6071</td>\n",
       "                        <td id=\"T_b768866c_20b6_11ec_bc54_acde48001122row12_col3\" class=\"data row12 col3\" >0.2624</td>\n",
       "                        <td id=\"T_b768866c_20b6_11ec_bc54_acde48001122row12_col4\" class=\"data row12 col4\" >0.2228</td>\n",
       "                        <td id=\"T_b768866c_20b6_11ec_bc54_acde48001122row12_col5\" class=\"data row12 col5\" >-4.5839</td>\n",
       "                        <td id=\"T_b768866c_20b6_11ec_bc54_acde48001122row12_col6\" class=\"data row12 col6\" >2.1700</td>\n",
       "            </tr>\n",
       "            <tr>\n",
       "                        <th id=\"T_b768866c_20b6_11ec_bc54_acde48001122level0_row13\" class=\"row_heading level0 row13\" >auto_arima</th>\n",
       "                        <td id=\"T_b768866c_20b6_11ec_bc54_acde48001122row13_col0\" class=\"data row13 col0\" >Auto ARIMA</td>\n",
       "                        <td id=\"T_b768866c_20b6_11ec_bc54_acde48001122row13_col1\" class=\"data row13 col1\" >12245.9821</td>\n",
       "                        <td id=\"T_b768866c_20b6_11ec_bc54_acde48001122row13_col2\" class=\"data row13 col2\" >258538865.0247</td>\n",
       "                        <td id=\"T_b768866c_20b6_11ec_bc54_acde48001122row13_col3\" class=\"data row13 col3\" >0.2676</td>\n",
       "                        <td id=\"T_b768866c_20b6_11ec_bc54_acde48001122row13_col4\" class=\"data row13 col4\" >0.2489</td>\n",
       "                        <td id=\"T_b768866c_20b6_11ec_bc54_acde48001122row13_col5\" class=\"data row13 col5\" >-6.6175</td>\n",
       "                        <td id=\"T_b768866c_20b6_11ec_bc54_acde48001122row13_col6\" class=\"data row13 col6\" >0.5433</td>\n",
       "            </tr>\n",
       "            <tr>\n",
       "                        <th id=\"T_b768866c_20b6_11ec_bc54_acde48001122level0_row14\" class=\"row_heading level0 row14\" >omp_cds_dt</th>\n",
       "                        <td id=\"T_b768866c_20b6_11ec_bc54_acde48001122row14_col0\" class=\"data row14 col0\" >Orthogonal Matching Pursuit w/ Cond. Deseasonalize & Detrending</td>\n",
       "                        <td id=\"T_b768866c_20b6_11ec_bc54_acde48001122row14_col1\" class=\"data row14 col1\" >12171.6709</td>\n",
       "                        <td id=\"T_b768866c_20b6_11ec_bc54_acde48001122row14_col2\" class=\"data row14 col2\" >251658046.8155</td>\n",
       "                        <td id=\"T_b768866c_20b6_11ec_bc54_acde48001122row14_col3\" class=\"data row14 col3\" >0.2925</td>\n",
       "                        <td id=\"T_b768866c_20b6_11ec_bc54_acde48001122row14_col4\" class=\"data row14 col4\" >0.2404</td>\n",
       "                        <td id=\"T_b768866c_20b6_11ec_bc54_acde48001122row14_col5\" class=\"data row14 col5\" >-7.2431</td>\n",
       "                        <td id=\"T_b768866c_20b6_11ec_bc54_acde48001122row14_col6\" class=\"data row14 col6\" >0.0667</td>\n",
       "            </tr>\n",
       "            <tr>\n",
       "                        <th id=\"T_b768866c_20b6_11ec_bc54_acde48001122level0_row15\" class=\"row_heading level0 row15\" >ridge_cds_dt</th>\n",
       "                        <td id=\"T_b768866c_20b6_11ec_bc54_acde48001122row15_col0\" class=\"data row15 col0\" >Ridge w/ Cond. Deseasonalize & Detrending</td>\n",
       "                        <td id=\"T_b768866c_20b6_11ec_bc54_acde48001122row15_col1\" class=\"data row15 col1\" >13788.0238</td>\n",
       "                        <td id=\"T_b768866c_20b6_11ec_bc54_acde48001122row15_col2\" class=\"data row15 col2\" >288558844.8719</td>\n",
       "                        <td id=\"T_b768866c_20b6_11ec_bc54_acde48001122row15_col3\" class=\"data row15 col3\" >0.3333</td>\n",
       "                        <td id=\"T_b768866c_20b6_11ec_bc54_acde48001122row15_col4\" class=\"data row15 col4\" >0.2746</td>\n",
       "                        <td id=\"T_b768866c_20b6_11ec_bc54_acde48001122row15_col5\" class=\"data row15 col5\" >-10.7296</td>\n",
       "                        <td id=\"T_b768866c_20b6_11ec_bc54_acde48001122row15_col6\" class=\"data row15 col6\" >0.0733</td>\n",
       "            </tr>\n",
       "            <tr>\n",
       "                        <th id=\"T_b768866c_20b6_11ec_bc54_acde48001122level0_row16\" class=\"row_heading level0 row16\" >lr_cds_dt</th>\n",
       "                        <td id=\"T_b768866c_20b6_11ec_bc54_acde48001122row16_col0\" class=\"data row16 col0\" >Linear w/ Cond. Deseasonalize & Detrending</td>\n",
       "                        <td id=\"T_b768866c_20b6_11ec_bc54_acde48001122row16_col1\" class=\"data row16 col1\" >13788.0238</td>\n",
       "                        <td id=\"T_b768866c_20b6_11ec_bc54_acde48001122row16_col2\" class=\"data row16 col2\" >288558844.9143</td>\n",
       "                        <td id=\"T_b768866c_20b6_11ec_bc54_acde48001122row16_col3\" class=\"data row16 col3\" >0.3333</td>\n",
       "                        <td id=\"T_b768866c_20b6_11ec_bc54_acde48001122row16_col4\" class=\"data row16 col4\" >0.2746</td>\n",
       "                        <td id=\"T_b768866c_20b6_11ec_bc54_acde48001122row16_col5\" class=\"data row16 col5\" >-10.7296</td>\n",
       "                        <td id=\"T_b768866c_20b6_11ec_bc54_acde48001122row16_col6\" class=\"data row16 col6\" >0.0633</td>\n",
       "            </tr>\n",
       "            <tr>\n",
       "                        <th id=\"T_b768866c_20b6_11ec_bc54_acde48001122level0_row17\" class=\"row_heading level0 row17\" >lasso_cds_dt</th>\n",
       "                        <td id=\"T_b768866c_20b6_11ec_bc54_acde48001122row17_col0\" class=\"data row17 col0\" >Lasso w/ Cond. Deseasonalize & Detrending</td>\n",
       "                        <td id=\"T_b768866c_20b6_11ec_bc54_acde48001122row17_col1\" class=\"data row17 col1\" >13788.0225</td>\n",
       "                        <td id=\"T_b768866c_20b6_11ec_bc54_acde48001122row17_col2\" class=\"data row17 col2\" >288558807.2076</td>\n",
       "                        <td id=\"T_b768866c_20b6_11ec_bc54_acde48001122row17_col3\" class=\"data row17 col3\" >0.3333</td>\n",
       "                        <td id=\"T_b768866c_20b6_11ec_bc54_acde48001122row17_col4\" class=\"data row17 col4\" >0.2746</td>\n",
       "                        <td id=\"T_b768866c_20b6_11ec_bc54_acde48001122row17_col5\" class=\"data row17 col5\" >-10.7295</td>\n",
       "                        <td id=\"T_b768866c_20b6_11ec_bc54_acde48001122row17_col6\" class=\"data row17 col6\" >0.0600</td>\n",
       "            </tr>\n",
       "            <tr>\n",
       "                        <th id=\"T_b768866c_20b6_11ec_bc54_acde48001122level0_row18\" class=\"row_heading level0 row18\" >en_cds_dt</th>\n",
       "                        <td id=\"T_b768866c_20b6_11ec_bc54_acde48001122row18_col0\" class=\"data row18 col0\" >Elastic Net w/ Cond. Deseasonalize & Detrending</td>\n",
       "                        <td id=\"T_b768866c_20b6_11ec_bc54_acde48001122row18_col1\" class=\"data row18 col1\" >13788.0232</td>\n",
       "                        <td id=\"T_b768866c_20b6_11ec_bc54_acde48001122row18_col2\" class=\"data row18 col2\" >288558826.3449</td>\n",
       "                        <td id=\"T_b768866c_20b6_11ec_bc54_acde48001122row18_col3\" class=\"data row18 col3\" >0.3333</td>\n",
       "                        <td id=\"T_b768866c_20b6_11ec_bc54_acde48001122row18_col4\" class=\"data row18 col4\" >0.2746</td>\n",
       "                        <td id=\"T_b768866c_20b6_11ec_bc54_acde48001122row18_col5\" class=\"data row18 col5\" >-10.7296</td>\n",
       "                        <td id=\"T_b768866c_20b6_11ec_bc54_acde48001122row18_col6\" class=\"data row18 col6\" >0.0667</td>\n",
       "            </tr>\n",
       "            <tr>\n",
       "                        <th id=\"T_b768866c_20b6_11ec_bc54_acde48001122level0_row19\" class=\"row_heading level0 row19\" >br_cds_dt</th>\n",
       "                        <td id=\"T_b768866c_20b6_11ec_bc54_acde48001122row19_col0\" class=\"data row19 col0\" >Bayesian Ridge w/ Cond. Deseasonalize & Detrending</td>\n",
       "                        <td id=\"T_b768866c_20b6_11ec_bc54_acde48001122row19_col1\" class=\"data row19 col1\" >13783.6350</td>\n",
       "                        <td id=\"T_b768866c_20b6_11ec_bc54_acde48001122row19_col2\" class=\"data row19 col2\" >288398333.8476</td>\n",
       "                        <td id=\"T_b768866c_20b6_11ec_bc54_acde48001122row19_col3\" class=\"data row19 col3\" >0.3335</td>\n",
       "                        <td id=\"T_b768866c_20b6_11ec_bc54_acde48001122row19_col4\" class=\"data row19 col4\" >0.2744</td>\n",
       "                        <td id=\"T_b768866c_20b6_11ec_bc54_acde48001122row19_col5\" class=\"data row19 col5\" >-10.7956</td>\n",
       "                        <td id=\"T_b768866c_20b6_11ec_bc54_acde48001122row19_col6\" class=\"data row19 col6\" >0.0667</td>\n",
       "            </tr>\n",
       "            <tr>\n",
       "                        <th id=\"T_b768866c_20b6_11ec_bc54_acde48001122level0_row20\" class=\"row_heading level0 row20\" >lar_cds_dt</th>\n",
       "                        <td id=\"T_b768866c_20b6_11ec_bc54_acde48001122row20_col0\" class=\"data row20 col0\" >Least Angular Regressor w/ Cond. Deseasonalize & Detrending</td>\n",
       "                        <td id=\"T_b768866c_20b6_11ec_bc54_acde48001122row20_col1\" class=\"data row20 col1\" >13801.5595</td>\n",
       "                        <td id=\"T_b768866c_20b6_11ec_bc54_acde48001122row20_col2\" class=\"data row20 col2\" >289022392.1505</td>\n",
       "                        <td id=\"T_b768866c_20b6_11ec_bc54_acde48001122row20_col3\" class=\"data row20 col3\" >0.3336</td>\n",
       "                        <td id=\"T_b768866c_20b6_11ec_bc54_acde48001122row20_col4\" class=\"data row20 col4\" >0.2750</td>\n",
       "                        <td id=\"T_b768866c_20b6_11ec_bc54_acde48001122row20_col5\" class=\"data row20 col5\" >-10.7543</td>\n",
       "                        <td id=\"T_b768866c_20b6_11ec_bc54_acde48001122row20_col6\" class=\"data row20 col6\" >0.0733</td>\n",
       "            </tr>\n",
       "            <tr>\n",
       "                        <th id=\"T_b768866c_20b6_11ec_bc54_acde48001122level0_row21\" class=\"row_heading level0 row21\" >llar_cds_dt</th>\n",
       "                        <td id=\"T_b768866c_20b6_11ec_bc54_acde48001122row21_col0\" class=\"data row21 col0\" >Lasso Least Angular Regressor w/ Cond. Deseasonalize & Detrending</td>\n",
       "                        <td id=\"T_b768866c_20b6_11ec_bc54_acde48001122row21_col1\" class=\"data row21 col1\" >13796.5158</td>\n",
       "                        <td id=\"T_b768866c_20b6_11ec_bc54_acde48001122row21_col2\" class=\"data row21 col2\" >288895347.4974</td>\n",
       "                        <td id=\"T_b768866c_20b6_11ec_bc54_acde48001122row21_col3\" class=\"data row21 col3\" >0.3337</td>\n",
       "                        <td id=\"T_b768866c_20b6_11ec_bc54_acde48001122row21_col4\" class=\"data row21 col4\" >0.2748</td>\n",
       "                        <td id=\"T_b768866c_20b6_11ec_bc54_acde48001122row21_col5\" class=\"data row21 col5\" >-10.7980</td>\n",
       "                        <td id=\"T_b768866c_20b6_11ec_bc54_acde48001122row21_col6\" class=\"data row21 col6\" >0.0700</td>\n",
       "            </tr>\n",
       "            <tr>\n",
       "                        <th id=\"T_b768866c_20b6_11ec_bc54_acde48001122level0_row22\" class=\"row_heading level0 row22\" >huber_cds_dt</th>\n",
       "                        <td id=\"T_b768866c_20b6_11ec_bc54_acde48001122row22_col0\" class=\"data row22 col0\" >Huber w/ Cond. Deseasonalize & Detrending</td>\n",
       "                        <td id=\"T_b768866c_20b6_11ec_bc54_acde48001122row22_col1\" class=\"data row22 col1\" >15241.4573</td>\n",
       "                        <td id=\"T_b768866c_20b6_11ec_bc54_acde48001122row22_col2\" class=\"data row22 col2\" >359508307.1324</td>\n",
       "                        <td id=\"T_b768866c_20b6_11ec_bc54_acde48001122row22_col3\" class=\"data row22 col3\" >0.3804</td>\n",
       "                        <td id=\"T_b768866c_20b6_11ec_bc54_acde48001122row22_col4\" class=\"data row22 col4\" >0.3017</td>\n",
       "                        <td id=\"T_b768866c_20b6_11ec_bc54_acde48001122row22_col5\" class=\"data row22 col5\" >-19.1514</td>\n",
       "                        <td id=\"T_b768866c_20b6_11ec_bc54_acde48001122row22_col6\" class=\"data row22 col6\" >0.0967</td>\n",
       "            </tr>\n",
       "            <tr>\n",
       "                        <th id=\"T_b768866c_20b6_11ec_bc54_acde48001122level0_row23\" class=\"row_heading level0 row23\" >polytrend</th>\n",
       "                        <td id=\"T_b768866c_20b6_11ec_bc54_acde48001122row23_col0\" class=\"data row23 col0\" >Polynomial Trend Forecaster</td>\n",
       "                        <td id=\"T_b768866c_20b6_11ec_bc54_acde48001122row23_col1\" class=\"data row23 col1\" >17106.6502</td>\n",
       "                        <td id=\"T_b768866c_20b6_11ec_bc54_acde48001122row23_col2\" class=\"data row23 col2\" >396762268.6232</td>\n",
       "                        <td id=\"T_b768866c_20b6_11ec_bc54_acde48001122row23_col3\" class=\"data row23 col3\" >0.4287</td>\n",
       "                        <td id=\"T_b768866c_20b6_11ec_bc54_acde48001122row23_col4\" class=\"data row23 col4\" >0.3364</td>\n",
       "                        <td id=\"T_b768866c_20b6_11ec_bc54_acde48001122row23_col5\" class=\"data row23 col5\" >-24.6157</td>\n",
       "                        <td id=\"T_b768866c_20b6_11ec_bc54_acde48001122row23_col6\" class=\"data row23 col6\" >0.0200</td>\n",
       "            </tr>\n",
       "            <tr>\n",
       "                        <th id=\"T_b768866c_20b6_11ec_bc54_acde48001122level0_row24\" class=\"row_heading level0 row24\" >par_cds_dt</th>\n",
       "                        <td id=\"T_b768866c_20b6_11ec_bc54_acde48001122row24_col0\" class=\"data row24 col0\" >Passive Aggressive w/ Cond. Deseasonalize & Detrending</td>\n",
       "                        <td id=\"T_b768866c_20b6_11ec_bc54_acde48001122row24_col1\" class=\"data row24 col1\" >19449136.1249</td>\n",
       "                        <td id=\"T_b768866c_20b6_11ec_bc54_acde48001122row24_col2\" class=\"data row24 col2\" >5615685464347919.0000</td>\n",
       "                        <td id=\"T_b768866c_20b6_11ec_bc54_acde48001122row24_col3\" class=\"data row24 col3\" >527.8578</td>\n",
       "                        <td id=\"T_b768866c_20b6_11ec_bc54_acde48001122row24_col4\" class=\"data row24 col4\" >1.2102</td>\n",
       "                        <td id=\"T_b768866c_20b6_11ec_bc54_acde48001122row24_col5\" class=\"data row24 col5\" >-752398223.9266</td>\n",
       "                        <td id=\"T_b768866c_20b6_11ec_bc54_acde48001122row24_col6\" class=\"data row24 col6\" >0.0767</td>\n",
       "            </tr>\n",
       "    </tbody></table>"
      ],
      "text/plain": [
       "<pandas.io.formats.style.Styler at 0x7fa2a1cd9198>"
      ]
     },
     "metadata": {},
     "output_type": "display_data"
    },
    {
     "name": "stderr",
     "output_type": "stream",
     "text": [
      "INFO:logs:master_model_container: 50\n",
      "INFO:logs:display_container: 2\n",
      "INFO:logs:NaiveForecaster(sp=1, strategy='last', window_length=None)\n",
      "INFO:logs:compare_models() succesfully completed......................................\n"
     ]
    }
   ],
   "source": [
    "best = exp.compare_models(sort = 'MAPE') #mean abs percentage error"
   ]
  },
  {
   "cell_type": "code",
   "execution_count": 200,
   "id": "2f763e6b-ecaf-47d2-a6b6-4bb1dda194a2",
   "metadata": {},
   "outputs": [],
   "source": [
    "copy_df2 = df.squeeze()"
   ]
  },
  {
   "cell_type": "code",
   "execution_count": 195,
   "id": "099a0731-43f7-422e-8490-340ffe4a8117",
   "metadata": {},
   "outputs": [
    {
     "data": {
      "text/html": [
       "<style  type=\"text/css\" >\n",
       "#T_b0c5211c_20c5_11ec_8e63_acde48001122row3_col0,#T_b0c5211c_20c5_11ec_8e63_acde48001122row3_col1,#T_b0c5211c_20c5_11ec_8e63_acde48001122row3_col2,#T_b0c5211c_20c5_11ec_8e63_acde48001122row3_col3,#T_b0c5211c_20c5_11ec_8e63_acde48001122row3_col4,#T_b0c5211c_20c5_11ec_8e63_acde48001122row3_col5{\n",
       "            background:  yellow;\n",
       "        }</style><table id=\"T_b0c5211c_20c5_11ec_8e63_acde48001122\" ><thead>    <tr>        <th class=\"blank level0\" ></th>        <th class=\"col_heading level0 col0\" >cutoff</th>        <th class=\"col_heading level0 col1\" >MAE</th>        <th class=\"col_heading level0 col2\" >RMSE</th>        <th class=\"col_heading level0 col3\" >MAPE</th>        <th class=\"col_heading level0 col4\" >SMAPE</th>        <th class=\"col_heading level0 col5\" >R2</th>    </tr></thead><tbody>\n",
       "                <tr>\n",
       "                        <th id=\"T_b0c5211c_20c5_11ec_8e63_acde48001122level0_row0\" class=\"row_heading level0 row0\" >0</th>\n",
       "                        <td id=\"T_b0c5211c_20c5_11ec_8e63_acde48001122row0_col0\" class=\"data row0 col0\" >2021-02-12</td>\n",
       "                        <td id=\"T_b0c5211c_20c5_11ec_8e63_acde48001122row0_col1\" class=\"data row0 col1\" >6897.9186</td>\n",
       "                        <td id=\"T_b0c5211c_20c5_11ec_8e63_acde48001122row0_col2\" class=\"data row0 col2\" >63993838.2042</td>\n",
       "                        <td id=\"T_b0c5211c_20c5_11ec_8e63_acde48001122row0_col3\" class=\"data row0 col3\" >0.1224</td>\n",
       "                        <td id=\"T_b0c5211c_20c5_11ec_8e63_acde48001122row0_col4\" class=\"data row0 col4\" >0.1330</td>\n",
       "                        <td id=\"T_b0c5211c_20c5_11ec_8e63_acde48001122row0_col5\" class=\"data row0 col5\" >-2.4228</td>\n",
       "            </tr>\n",
       "            <tr>\n",
       "                        <th id=\"T_b0c5211c_20c5_11ec_8e63_acde48001122level0_row1\" class=\"row_heading level0 row1\" >1</th>\n",
       "                        <td id=\"T_b0c5211c_20c5_11ec_8e63_acde48001122row1_col0\" class=\"data row1 col0\" >2021-04-09</td>\n",
       "                        <td id=\"T_b0c5211c_20c5_11ec_8e63_acde48001122row1_col1\" class=\"data row1 col1\" >9460.6052</td>\n",
       "                        <td id=\"T_b0c5211c_20c5_11ec_8e63_acde48001122row1_col2\" class=\"data row1 col2\" >156967184.3306</td>\n",
       "                        <td id=\"T_b0c5211c_20c5_11ec_8e63_acde48001122row1_col3\" class=\"data row1 col3\" >0.2320</td>\n",
       "                        <td id=\"T_b0c5211c_20c5_11ec_8e63_acde48001122row1_col4\" class=\"data row1 col4\" >0.1901</td>\n",
       "                        <td id=\"T_b0c5211c_20c5_11ec_8e63_acde48001122row1_col5\" class=\"data row1 col5\" >-0.8602</td>\n",
       "            </tr>\n",
       "            <tr>\n",
       "                        <th id=\"T_b0c5211c_20c5_11ec_8e63_acde48001122level0_row2\" class=\"row_heading level0 row2\" >2</th>\n",
       "                        <td id=\"T_b0c5211c_20c5_11ec_8e63_acde48001122row2_col0\" class=\"data row2 col0\" >2021-06-04</td>\n",
       "                        <td id=\"T_b0c5211c_20c5_11ec_8e63_acde48001122row2_col1\" class=\"data row2 col1\" >2990.2389</td>\n",
       "                        <td id=\"T_b0c5211c_20c5_11ec_8e63_acde48001122row2_col2\" class=\"data row2 col2\" >11448550.9347</td>\n",
       "                        <td id=\"T_b0c5211c_20c5_11ec_8e63_acde48001122row2_col3\" class=\"data row2 col3\" >0.0884</td>\n",
       "                        <td id=\"T_b0c5211c_20c5_11ec_8e63_acde48001122row2_col4\" class=\"data row2 col4\" >0.0845</td>\n",
       "                        <td id=\"T_b0c5211c_20c5_11ec_8e63_acde48001122row2_col5\" class=\"data row2 col5\" >-0.5339</td>\n",
       "            </tr>\n",
       "            <tr>\n",
       "                        <th id=\"T_b0c5211c_20c5_11ec_8e63_acde48001122level0_row3\" class=\"row_heading level0 row3\" >Mean</th>\n",
       "                        <td id=\"T_b0c5211c_20c5_11ec_8e63_acde48001122row3_col0\" class=\"data row3 col0\" >nan</td>\n",
       "                        <td id=\"T_b0c5211c_20c5_11ec_8e63_acde48001122row3_col1\" class=\"data row3 col1\" >6449.5876</td>\n",
       "                        <td id=\"T_b0c5211c_20c5_11ec_8e63_acde48001122row3_col2\" class=\"data row3 col2\" >77469857.8231</td>\n",
       "                        <td id=\"T_b0c5211c_20c5_11ec_8e63_acde48001122row3_col3\" class=\"data row3 col3\" >0.1476</td>\n",
       "                        <td id=\"T_b0c5211c_20c5_11ec_8e63_acde48001122row3_col4\" class=\"data row3 col4\" >0.1359</td>\n",
       "                        <td id=\"T_b0c5211c_20c5_11ec_8e63_acde48001122row3_col5\" class=\"data row3 col5\" >-1.2723</td>\n",
       "            </tr>\n",
       "            <tr>\n",
       "                        <th id=\"T_b0c5211c_20c5_11ec_8e63_acde48001122level0_row4\" class=\"row_heading level0 row4\" >SD</th>\n",
       "                        <td id=\"T_b0c5211c_20c5_11ec_8e63_acde48001122row4_col0\" class=\"data row4 col0\" >nan</td>\n",
       "                        <td id=\"T_b0c5211c_20c5_11ec_8e63_acde48001122row4_col1\" class=\"data row4 col1\" >2660.4712</td>\n",
       "                        <td id=\"T_b0c5211c_20c5_11ec_8e63_acde48001122row4_col2\" class=\"data row4 col2\" >60167103.3868</td>\n",
       "                        <td id=\"T_b0c5211c_20c5_11ec_8e63_acde48001122row4_col3\" class=\"data row4 col3\" >0.0613</td>\n",
       "                        <td id=\"T_b0c5211c_20c5_11ec_8e63_acde48001122row4_col4\" class=\"data row4 col4\" >0.0432</td>\n",
       "                        <td id=\"T_b0c5211c_20c5_11ec_8e63_acde48001122row4_col5\" class=\"data row4 col5\" >0.8244</td>\n",
       "            </tr>\n",
       "    </tbody></table>"
      ],
      "text/plain": [
       "<pandas.io.formats.style.Styler at 0x7fa2a1d89f28>"
      ]
     },
     "metadata": {},
     "output_type": "display_data"
    },
    {
     "name": "stderr",
     "output_type": "stream",
     "text": [
      "INFO:logs:master_model_container: 1\n",
      "INFO:logs:display_container: 2\n",
      "INFO:logs:NaiveForecaster(sp=1, strategy='last', window_length=None)\n",
      "INFO:logs:create_model() successfully completed......................................\n"
     ]
    },
    {
     "data": {
      "text/plain": [
       "NaiveForecaster(sp=1, strategy='last', window_length=None)"
      ]
     },
     "execution_count": 195,
     "metadata": {},
     "output_type": "execute_result"
    }
   ],
   "source": [
    "## Create a model manually\n",
    "model = exp.create_model(\"naive\")\n",
    "model"
   ]
  },
  {
   "cell_type": "code",
   "execution_count": 196,
   "id": "863894c5-98f8-4d11-b432-2c8d869383c6",
   "metadata": {},
   "outputs": [
    {
     "name": "stderr",
     "output_type": "stream",
     "text": [
      "INFO:logs:Initializing get_config()\n",
      "INFO:logs:get_config(variable=y_train, self=<pycaret.internal.pycaret_experiment.time_series_experiment.TimeSeriesExperiment object at 0x7fa29d296da0>)\n",
      "INFO:logs:Variable: y_train returned as date\n",
      "2021-01-01    29331.69\n",
      "2021-01-02    32178.33\n",
      "2021-01-03    33000.05\n",
      "2021-01-04    31988.71\n",
      "2021-01-05    33949.53\n",
      "                ...   \n",
      "2021-07-26    37237.60\n",
      "2021-07-27    39457.87\n",
      "2021-07-28    40019.56\n",
      "2021-07-29    40016.48\n",
      "2021-07-30    42206.37\n",
      "Freq: D, Name: BTCUSDT_close, Length: 211, dtype: float64\n",
      "INFO:logs:get_config() succesfully completed......................................\n"
     ]
    },
    {
     "data": {
      "text/plain": [
       "date\n",
       "2021-01-01    29331.69\n",
       "2021-01-02    32178.33\n",
       "2021-01-03    33000.05\n",
       "2021-01-04    31988.71\n",
       "2021-01-05    33949.53\n",
       "Freq: D, Name: BTCUSDT_close, dtype: float64"
      ]
     },
     "execution_count": 196,
     "metadata": {},
     "output_type": "execute_result"
    }
   ],
   "source": [
    "y_train = exp.get_config(\"y_train\")\n",
    "y_train[:5]"
   ]
  },
  {
   "cell_type": "code",
   "execution_count": 203,
   "id": "5c9bd155-3ced-4b67-9ccf-5c6cd212845d",
   "metadata": {},
   "outputs": [
    {
     "name": "stderr",
     "output_type": "stream",
     "text": [
      "INFO:logs:Preparing display monitor\n"
     ]
    },
    {
     "data": {
      "text/html": [
       "<style  type=\"text/css\" >\n",
       "</style><table id=\"T_31ef43d0_20c6_11ec_8989_acde48001122\" ><thead>    <tr>        <th class=\"blank level0\" ></th>        <th class=\"col_heading level0 col0\" >Model</th>        <th class=\"col_heading level0 col1\" >MAE</th>        <th class=\"col_heading level0 col2\" >RMSE</th>        <th class=\"col_heading level0 col3\" >MAPE</th>        <th class=\"col_heading level0 col4\" >SMAPE</th>        <th class=\"col_heading level0 col5\" >R2</th>    </tr></thead><tbody>\n",
       "                <tr>\n",
       "                        <th id=\"T_31ef43d0_20c6_11ec_8989_acde48001122level0_row0\" class=\"row_heading level0 row0\" >0</th>\n",
       "                        <td id=\"T_31ef43d0_20c6_11ec_8989_acde48001122row0_col0\" class=\"data row0 col0\" >ARIMA</td>\n",
       "                        <td id=\"T_31ef43d0_20c6_11ec_8989_acde48001122row0_col1\" class=\"data row0 col1\" >46122.3367</td>\n",
       "                        <td id=\"T_31ef43d0_20c6_11ec_8989_acde48001122row0_col2\" class=\"data row0 col2\" >46225.9334</td>\n",
       "                        <td id=\"T_31ef43d0_20c6_11ec_8989_acde48001122row0_col3\" class=\"data row0 col3\" >1.0000</td>\n",
       "                        <td id=\"T_31ef43d0_20c6_11ec_8989_acde48001122row0_col4\" class=\"data row0 col4\" >2.0000</td>\n",
       "                        <td id=\"T_31ef43d0_20c6_11ec_8989_acde48001122row0_col5\" class=\"data row0 col5\" >-222.3554</td>\n",
       "            </tr>\n",
       "    </tbody></table>"
      ],
      "text/plain": [
       "<pandas.io.formats.style.Styler at 0x7fa29d2ea828>"
      ]
     },
     "metadata": {},
     "output_type": "display_data"
    }
   ],
   "source": [
    "y_predict = exp.predict_model(best)"
   ]
  },
  {
   "cell_type": "code",
   "execution_count": 164,
   "id": "def2348c-c7bc-4ed7-bff5-e58d0d397af2",
   "metadata": {},
   "outputs": [
    {
     "name": "stderr",
     "output_type": "stream",
     "text": [
      "INFO:logs:Preparing display monitor\n"
     ]
    },
    {
     "data": {
      "text/html": [
       "<style  type=\"text/css\" >\n",
       "</style><table id=\"T_2bf6fa90_20b7_11ec_9f9a_acde48001122\" ><thead>    <tr>        <th class=\"blank level0\" ></th>        <th class=\"col_heading level0 col0\" >Model</th>        <th class=\"col_heading level0 col1\" >MAE</th>        <th class=\"col_heading level0 col2\" >RMSE</th>        <th class=\"col_heading level0 col3\" >MAPE</th>        <th class=\"col_heading level0 col4\" >SMAPE</th>        <th class=\"col_heading level0 col5\" >R2</th>    </tr></thead><tbody>\n",
       "                <tr>\n",
       "                        <th id=\"T_2bf6fa90_20b7_11ec_9f9a_acde48001122level0_row0\" class=\"row_heading level0 row0\" >0</th>\n",
       "                        <td id=\"T_2bf6fa90_20b7_11ec_9f9a_acde48001122row0_col0\" class=\"data row0 col0\" >Naive Forecaster</td>\n",
       "                        <td id=\"T_2bf6fa90_20b7_11ec_9f9a_acde48001122row0_col1\" class=\"data row0 col1\" >4468.1991</td>\n",
       "                        <td id=\"T_2bf6fa90_20b7_11ec_9f9a_acde48001122row0_col2\" class=\"data row0 col2\" >4990.1701</td>\n",
       "                        <td id=\"T_2bf6fa90_20b7_11ec_9f9a_acde48001122row0_col3\" class=\"data row0 col3\" >0.0945</td>\n",
       "                        <td id=\"T_2bf6fa90_20b7_11ec_9f9a_acde48001122row0_col4\" class=\"data row0 col4\" >0.0998</td>\n",
       "                        <td id=\"T_2bf6fa90_20b7_11ec_9f9a_acde48001122row0_col5\" class=\"data row0 col5\" >-1.6029</td>\n",
       "            </tr>\n",
       "    </tbody></table>"
      ],
      "text/plain": [
       "<pandas.io.formats.style.Styler at 0x7fa2a1d8e780>"
      ]
     },
     "metadata": {},
     "output_type": "display_data"
    },
    {
     "data": {
      "image/png": "[encoded data removed]",
      "text/plain": [
       "<Figure size 1152x288 with 1 Axes>"
      ]
     },
     "metadata": {
      "needs_background": "light"
     },
     "output_type": "display_data"
    }
   ],
   "source": [
    "y_predict = exp.predict_model(model)\n",
    "plot_series(copy_df2, y_train, y_predict, labels=['All', 'Train', 'Test Predictions'])\n",
    "plt.grid()"
   ]
  },
  {
   "cell_type": "code",
   "execution_count": null,
   "id": "677c1b9e-c578-4175-a343-02138d514fb3",
   "metadata": {},
   "outputs": [],
   "source": []
  }
 ],
 "metadata": {
  "kernelspec": {
   "display_name": "Python 3 (ipykernel)",
   "language": "python",
   "name": "python3"
  },
  "language_info": {
   "codemirror_mode": {
    "name": "ipython",
    "version": 3
   },
   "file_extension": ".py",
   "mimetype": "text/x-python",
   "name": "python",
   "nbconvert_exporter": "python",
   "pygments_lexer": "ipython3",
   "version": "3.9.6"
  }
 },
 "nbformat": 4,
 "nbformat_minor": 5
}
