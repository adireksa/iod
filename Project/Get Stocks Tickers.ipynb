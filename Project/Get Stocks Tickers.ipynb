{
 "cells": [
  {
   "cell_type": "code",
   "execution_count": 38,
   "id": "c9f5f44f",
   "metadata": {},
   "outputs": [],
   "source": [
    "import pandas as pd\n",
    "import numpy as np"
   ]
  },
  {
   "cell_type": "code",
   "execution_count": 26,
   "id": "ad67f1fb",
   "metadata": {},
   "outputs": [],
   "source": [
    "#got list of tickers from https://eoddata.com/symbols.aspx\n",
    "#FIRST WE GET STOCK LIST FROM AMEX\n",
    "df_amex = pd.read_csv('/Users/lawrenceyim/Documents/Institute of Data/projects/Data/AMEX.txt', sep=\" \", delimiter = \"\\t\")"
   ]
  },
  {
   "cell_type": "code",
   "execution_count": 27,
   "id": "3618d905",
   "metadata": {},
   "outputs": [],
   "source": [
    "#stock list from nasdaq\n",
    "df_nasdaq = pd.read_csv('/Users/lawrenceyim/Documents/Institute of Data/projects/Data/NASDAQ.txt', sep=\" \", delimiter = \"\\t\")"
   ]
  },
  {
   "cell_type": "code",
   "execution_count": 28,
   "id": "cd758225",
   "metadata": {},
   "outputs": [],
   "source": [
    "#stock list from NYSE\n",
    "df_nyse = pd.read_csv('/Users/lawrenceyim/Documents/Institute of Data/projects/Data/NYSE.txt', sep=\" \", delimiter = \"\\t\")"
   ]
  },
  {
   "cell_type": "code",
   "execution_count": 34,
   "id": "a19912c4",
   "metadata": {},
   "outputs": [],
   "source": [
    "usa_df_combi = df_amex.append(df_nasdaq)"
   ]
  },
  {
   "cell_type": "code",
   "execution_count": 35,
   "id": "2a1a99c2",
   "metadata": {},
   "outputs": [],
   "source": [
    "stock_ticker_df = usa_df_combi.append(df_nyse)"
   ]
  },
  {
   "cell_type": "code",
   "execution_count": 36,
   "id": "5f2db9fb",
   "metadata": {},
   "outputs": [
    {
     "data": {
      "text/html": [
       "<div>\n",
       "<style scoped>\n",
       "    .dataframe tbody tr th:only-of-type {\n",
       "        vertical-align: middle;\n",
       "    }\n",
       "\n",
       "    .dataframe tbody tr th {\n",
       "        vertical-align: top;\n",
       "    }\n",
       "\n",
       "    .dataframe thead th {\n",
       "        text-align: right;\n",
       "    }\n",
       "</style>\n",
       "<table border=\"1\" class=\"dataframe\">\n",
       "  <thead>\n",
       "    <tr style=\"text-align: right;\">\n",
       "      <th></th>\n",
       "      <th>Symbol</th>\n",
       "      <th>Description</th>\n",
       "    </tr>\n",
       "  </thead>\n",
       "  <tbody>\n",
       "    <tr>\n",
       "      <th>0</th>\n",
       "      <td>AAA</td>\n",
       "      <td>First Priority Clo Bond ETF</td>\n",
       "    </tr>\n",
       "    <tr>\n",
       "      <th>1</th>\n",
       "      <td>AAAU</td>\n",
       "      <td>GS Physical Gold ETF</td>\n",
       "    </tr>\n",
       "    <tr>\n",
       "      <th>2</th>\n",
       "      <td>AADR</td>\n",
       "      <td>Advisorshares Dorsey Wright ETF</td>\n",
       "    </tr>\n",
       "    <tr>\n",
       "      <th>3</th>\n",
       "      <td>AAMC</td>\n",
       "      <td>Altisource Asset</td>\n",
       "    </tr>\n",
       "    <tr>\n",
       "      <th>4</th>\n",
       "      <td>AAU</td>\n",
       "      <td>Almaden Minerals</td>\n",
       "    </tr>\n",
       "    <tr>\n",
       "      <th>...</th>\n",
       "      <td>...</td>\n",
       "      <td>...</td>\n",
       "    </tr>\n",
       "    <tr>\n",
       "      <th>3608</th>\n",
       "      <td>ZTO</td>\n",
       "      <td>Zto Express Cayman Inc</td>\n",
       "    </tr>\n",
       "    <tr>\n",
       "      <th>3609</th>\n",
       "      <td>ZTR</td>\n",
       "      <td>Virtus Global Divd &amp; Income Fund</td>\n",
       "    </tr>\n",
       "    <tr>\n",
       "      <th>3610</th>\n",
       "      <td>ZTS</td>\n",
       "      <td>Zoetis Inc Cl A</td>\n",
       "    </tr>\n",
       "    <tr>\n",
       "      <th>3611</th>\n",
       "      <td>ZUO</td>\n",
       "      <td>Zuora Inc</td>\n",
       "    </tr>\n",
       "    <tr>\n",
       "      <th>3612</th>\n",
       "      <td>ZYME</td>\n",
       "      <td>Zymeworks Inc</td>\n",
       "    </tr>\n",
       "  </tbody>\n",
       "</table>\n",
       "<p>10752 rows × 2 columns</p>\n",
       "</div>"
      ],
      "text/plain": [
       "     Symbol                       Description\n",
       "0       AAA       First Priority Clo Bond ETF\n",
       "1      AAAU              GS Physical Gold ETF\n",
       "2      AADR   Advisorshares Dorsey Wright ETF\n",
       "3      AAMC                  Altisource Asset\n",
       "4       AAU                  Almaden Minerals\n",
       "...     ...                               ...\n",
       "3608    ZTO            Zto Express Cayman Inc\n",
       "3609    ZTR  Virtus Global Divd & Income Fund\n",
       "3610    ZTS                   Zoetis Inc Cl A\n",
       "3611    ZUO                         Zuora Inc\n",
       "3612   ZYME                     Zymeworks Inc\n",
       "\n",
       "[10752 rows x 2 columns]"
      ]
     },
     "execution_count": 36,
     "metadata": {},
     "output_type": "execute_result"
    }
   ],
   "source": [
    "stock_ticker_df"
   ]
  },
  {
   "cell_type": "code",
   "execution_count": 43,
   "id": "89cc795b",
   "metadata": {},
   "outputs": [
    {
     "data": {
      "text/plain": [
       "array([['AAA', 'First Priority Clo Bond ETF'],\n",
       "       ['AAAU', 'GS Physical Gold ETF'],\n",
       "       ['AADR', 'Advisorshares Dorsey Wright ETF'],\n",
       "       ...,\n",
       "       ['ZTS', 'Zoetis Inc Cl A'],\n",
       "       ['ZUO', 'Zuora Inc'],\n",
       "       ['ZYME', 'Zymeworks Inc']], dtype=object)"
      ]
     },
     "execution_count": 43,
     "metadata": {},
     "output_type": "execute_result"
    }
   ],
   "source": [
    "pd.DataFrame.to_numpy(stock_ticker_df) "
   ]
  },
  {
   "cell_type": "code",
   "execution_count": 44,
   "id": "e9a2f38f",
   "metadata": {},
   "outputs": [],
   "source": [
    "#save to text file\n",
    "np.savetxt(r'/Users/lawrenceyim/Documents/Institute of Data/projects/Data/stock_ticker.txt', stock_ticker_df.values, fmt='%s', delimiter=',')"
   ]
  },
  {
   "cell_type": "code",
   "execution_count": null,
   "id": "63bd12c0",
   "metadata": {},
   "outputs": [],
   "source": []
  }
 ],
 "metadata": {
  "kernelspec": {
   "display_name": "Python 3",
   "language": "python",
   "name": "python3"
  },
  "language_info": {
   "codemirror_mode": {
    "name": "ipython",
    "version": 3
   },
   "file_extension": ".py",
   "mimetype": "text/x-python",
   "name": "python",
   "nbconvert_exporter": "python",
   "pygments_lexer": "ipython3",
   "version": "3.9.5"
  }
 },
 "nbformat": 4,
 "nbformat_minor": 5
}
